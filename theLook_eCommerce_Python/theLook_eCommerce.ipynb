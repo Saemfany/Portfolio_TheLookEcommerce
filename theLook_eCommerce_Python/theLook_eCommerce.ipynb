{
  "nbformat": 4,
  "nbformat_minor": 0,
  "metadata": {
    "colab": {
      "provenance": [],
      "toc_visible": true
    },
    "kernelspec": {
      "name": "python3",
      "display_name": "Python 3"
    },
    "language_info": {
      "name": "python"
    }
  },
  "cells": [
    {
      "cell_type": "markdown",
      "source": [
        "# **theLook eCommerce Data Analysis with Python**\n",
        "\n",
        "\n",
        "---\n"
      ],
      "metadata": {
        "id": "oQ-Yihsw5c1v"
      }
    },
    {
      "cell_type": "markdown",
      "source": [
        "## Install the required libraries"
      ],
      "metadata": {
        "id": "XGz3BwGFNwqM"
      }
    },
    {
      "cell_type": "code",
      "source": [
        "!pip install pandas matplotlib"
      ],
      "metadata": {
        "colab": {
          "base_uri": "https://localhost:8080/"
        },
        "id": "TkUpXWJkLsYU",
        "outputId": "13b1a186-c872-4a77-d007-79b9724ffad8"
      },
      "execution_count": 1,
      "outputs": [
        {
          "output_type": "stream",
          "name": "stdout",
          "text": [
            "Requirement already satisfied: pandas in /usr/local/lib/python3.10/dist-packages (2.1.4)\n",
            "Requirement already satisfied: matplotlib in /usr/local/lib/python3.10/dist-packages (3.7.1)\n",
            "Requirement already satisfied: numpy<2,>=1.22.4 in /usr/local/lib/python3.10/dist-packages (from pandas) (1.26.4)\n",
            "Requirement already satisfied: python-dateutil>=2.8.2 in /usr/local/lib/python3.10/dist-packages (from pandas) (2.8.2)\n",
            "Requirement already satisfied: pytz>=2020.1 in /usr/local/lib/python3.10/dist-packages (from pandas) (2024.2)\n",
            "Requirement already satisfied: tzdata>=2022.1 in /usr/local/lib/python3.10/dist-packages (from pandas) (2024.1)\n",
            "Requirement already satisfied: contourpy>=1.0.1 in /usr/local/lib/python3.10/dist-packages (from matplotlib) (1.3.0)\n",
            "Requirement already satisfied: cycler>=0.10 in /usr/local/lib/python3.10/dist-packages (from matplotlib) (0.12.1)\n",
            "Requirement already satisfied: fonttools>=4.22.0 in /usr/local/lib/python3.10/dist-packages (from matplotlib) (4.53.1)\n",
            "Requirement already satisfied: kiwisolver>=1.0.1 in /usr/local/lib/python3.10/dist-packages (from matplotlib) (1.4.7)\n",
            "Requirement already satisfied: packaging>=20.0 in /usr/local/lib/python3.10/dist-packages (from matplotlib) (24.1)\n",
            "Requirement already satisfied: pillow>=6.2.0 in /usr/local/lib/python3.10/dist-packages (from matplotlib) (9.4.0)\n",
            "Requirement already satisfied: pyparsing>=2.3.1 in /usr/local/lib/python3.10/dist-packages (from matplotlib) (3.1.4)\n",
            "Requirement already satisfied: six>=1.5 in /usr/local/lib/python3.10/dist-packages (from python-dateutil>=2.8.2->pandas) (1.16.0)\n"
          ]
        }
      ]
    },
    {
      "cell_type": "markdown",
      "source": [
        "### Import the required libraries"
      ],
      "metadata": {
        "id": "5tpTybGaG_dd"
      }
    },
    {
      "cell_type": "code",
      "source": [
        "import pandas as pd\n",
        "import matplotlib.pyplot as plt\n",
        "import matplotlib.ticker as ticker"
      ],
      "metadata": {
        "id": "TdoRgCxYNRwC"
      },
      "execution_count": 2,
      "outputs": []
    },
    {
      "cell_type": "markdown",
      "source": [
        "## Mounted google.colab with google.drive"
      ],
      "metadata": {
        "id": "cPyBiNBmHs7t"
      }
    },
    {
      "cell_type": "code",
      "source": [
        "from google.colab import drive\n",
        "drive.mount('/content/drive')"
      ],
      "metadata": {
        "colab": {
          "base_uri": "https://localhost:8080/"
        },
        "id": "MaP7f_GNHi5_",
        "outputId": "5dcb79bc-f1c3-4ff2-ce5c-7179968bcdeb"
      },
      "execution_count": 3,
      "outputs": [
        {
          "output_type": "stream",
          "name": "stdout",
          "text": [
            "Mounted at /content/drive\n"
          ]
        }
      ]
    },
    {
      "cell_type": "markdown",
      "source": [
        "### Import csv data from google.drive"
      ],
      "metadata": {
        "id": "o2UrB7mTTzzl"
      }
    },
    {
      "cell_type": "markdown",
      "source": [
        "csv data: https://drive.google.com/file/d/16mRDjVGWvq1G5Fqlxf-fuDYHpUv0szPi/view?usp=sharing\n",
        "\n",
        "df is a dataframe of theLook eCommerce"
      ],
      "metadata": {
        "id": "Qdhr0Tbj1XBu"
      }
    },
    {
      "cell_type": "code",
      "source": [
        "file_path = '/content/drive/My Drive/bq-results-20240911-033404-1726025664657/bq-results-20240911-033404-1726025664657.csv'\n",
        "df = pd.read_csv(file_path)"
      ],
      "metadata": {
        "id": "-_OObOTNTpep"
      },
      "execution_count": 4,
      "outputs": []
    },
    {
      "cell_type": "markdown",
      "source": [
        "Show top 5 of the data"
      ],
      "metadata": {
        "id": "lmKB_IVC0Irf"
      }
    },
    {
      "cell_type": "code",
      "source": [
        "df.head()"
      ],
      "metadata": {
        "colab": {
          "base_uri": "https://localhost:8080/",
          "height": 521
        },
        "id": "0EGToEkXUMGE",
        "outputId": "431cff7e-b2ae-4171-de02-4c78b5c82db5"
      },
      "execution_count": 5,
      "outputs": [
        {
          "output_type": "execute_result",
          "data": {
            "text/plain": [
              "   customer_id customer_name  age gender country traffic_source  order_id  \\\n",
              "0         1535  Tonya Martin   56      F  Brasil         Search    1882.0   \n",
              "1         1535  Tonya Martin   56      F  Brasil         Search    1882.0   \n",
              "2         1535  Tonya Martin   56      F  Brasil         Search    1882.0   \n",
              "3         1535  Tonya Martin   56      F  Brasil         Search    1882.0   \n",
              "4         1535  Tonya Martin   56      F  Brasil         Search    1882.0   \n",
              "\n",
              "        order_created_date    status  product_id  \\\n",
              "0  2023-10-27 09:03:00 UTC  Complete     14951.0   \n",
              "1  2023-10-27 09:03:00 UTC  Complete     14548.0   \n",
              "2  2023-10-27 09:03:00 UTC  Complete     15217.0   \n",
              "3  2023-10-27 09:03:00 UTC  Complete      2010.0   \n",
              "4  2023-10-27 09:03:00 UTC  Complete     12029.0   \n",
              "\n",
              "                product_category  \\\n",
              "0                      Maternity   \n",
              "1                      Maternity   \n",
              "2                      Maternity   \n",
              "3  Fashion Hoodies & Sweatshirts   \n",
              "4                      Intimates   \n",
              "\n",
              "                                        product_name  \\\n",
              "0  Maternity Holdup Suspenders Worn Under Materni...   \n",
              "1  Three Seasons Maternity Women's 3/4 Sleeve Sol...   \n",
              "2  Womens Maternity Two Piece Tankini Bikini Swim...   \n",
              "3        O'Neill Juniors Jackson Pullover Sweatshirt   \n",
              "4  Frederick's of Hollywood Hollywood Dream Full-...   \n",
              "\n",
              "              product_brand  num_of_item  sale_price  \n",
              "0     Hold-Up Suspender Co.          1.0   18.950001  \n",
              "1   Three Seasons Maternity          1.0   32.000000  \n",
              "2                      COCO          1.0   44.990002  \n",
              "3                   O'Neill          1.0   50.000000  \n",
              "4  Frederick's of Hollywood          1.0   62.000000  "
            ],
            "text/html": [
              "\n",
              "  <div id=\"df-b6ab41e5-96c4-4f60-b371-770df593bb8a\" class=\"colab-df-container\">\n",
              "    <div>\n",
              "<style scoped>\n",
              "    .dataframe tbody tr th:only-of-type {\n",
              "        vertical-align: middle;\n",
              "    }\n",
              "\n",
              "    .dataframe tbody tr th {\n",
              "        vertical-align: top;\n",
              "    }\n",
              "\n",
              "    .dataframe thead th {\n",
              "        text-align: right;\n",
              "    }\n",
              "</style>\n",
              "<table border=\"1\" class=\"dataframe\">\n",
              "  <thead>\n",
              "    <tr style=\"text-align: right;\">\n",
              "      <th></th>\n",
              "      <th>customer_id</th>\n",
              "      <th>customer_name</th>\n",
              "      <th>age</th>\n",
              "      <th>gender</th>\n",
              "      <th>country</th>\n",
              "      <th>traffic_source</th>\n",
              "      <th>order_id</th>\n",
              "      <th>order_created_date</th>\n",
              "      <th>status</th>\n",
              "      <th>product_id</th>\n",
              "      <th>product_category</th>\n",
              "      <th>product_name</th>\n",
              "      <th>product_brand</th>\n",
              "      <th>num_of_item</th>\n",
              "      <th>sale_price</th>\n",
              "    </tr>\n",
              "  </thead>\n",
              "  <tbody>\n",
              "    <tr>\n",
              "      <th>0</th>\n",
              "      <td>1535</td>\n",
              "      <td>Tonya Martin</td>\n",
              "      <td>56</td>\n",
              "      <td>F</td>\n",
              "      <td>Brasil</td>\n",
              "      <td>Search</td>\n",
              "      <td>1882.0</td>\n",
              "      <td>2023-10-27 09:03:00 UTC</td>\n",
              "      <td>Complete</td>\n",
              "      <td>14951.0</td>\n",
              "      <td>Maternity</td>\n",
              "      <td>Maternity Holdup Suspenders Worn Under Materni...</td>\n",
              "      <td>Hold-Up Suspender Co.</td>\n",
              "      <td>1.0</td>\n",
              "      <td>18.950001</td>\n",
              "    </tr>\n",
              "    <tr>\n",
              "      <th>1</th>\n",
              "      <td>1535</td>\n",
              "      <td>Tonya Martin</td>\n",
              "      <td>56</td>\n",
              "      <td>F</td>\n",
              "      <td>Brasil</td>\n",
              "      <td>Search</td>\n",
              "      <td>1882.0</td>\n",
              "      <td>2023-10-27 09:03:00 UTC</td>\n",
              "      <td>Complete</td>\n",
              "      <td>14548.0</td>\n",
              "      <td>Maternity</td>\n",
              "      <td>Three Seasons Maternity Women's 3/4 Sleeve Sol...</td>\n",
              "      <td>Three Seasons Maternity</td>\n",
              "      <td>1.0</td>\n",
              "      <td>32.000000</td>\n",
              "    </tr>\n",
              "    <tr>\n",
              "      <th>2</th>\n",
              "      <td>1535</td>\n",
              "      <td>Tonya Martin</td>\n",
              "      <td>56</td>\n",
              "      <td>F</td>\n",
              "      <td>Brasil</td>\n",
              "      <td>Search</td>\n",
              "      <td>1882.0</td>\n",
              "      <td>2023-10-27 09:03:00 UTC</td>\n",
              "      <td>Complete</td>\n",
              "      <td>15217.0</td>\n",
              "      <td>Maternity</td>\n",
              "      <td>Womens Maternity Two Piece Tankini Bikini Swim...</td>\n",
              "      <td>COCO</td>\n",
              "      <td>1.0</td>\n",
              "      <td>44.990002</td>\n",
              "    </tr>\n",
              "    <tr>\n",
              "      <th>3</th>\n",
              "      <td>1535</td>\n",
              "      <td>Tonya Martin</td>\n",
              "      <td>56</td>\n",
              "      <td>F</td>\n",
              "      <td>Brasil</td>\n",
              "      <td>Search</td>\n",
              "      <td>1882.0</td>\n",
              "      <td>2023-10-27 09:03:00 UTC</td>\n",
              "      <td>Complete</td>\n",
              "      <td>2010.0</td>\n",
              "      <td>Fashion Hoodies &amp; Sweatshirts</td>\n",
              "      <td>O'Neill Juniors Jackson Pullover Sweatshirt</td>\n",
              "      <td>O'Neill</td>\n",
              "      <td>1.0</td>\n",
              "      <td>50.000000</td>\n",
              "    </tr>\n",
              "    <tr>\n",
              "      <th>4</th>\n",
              "      <td>1535</td>\n",
              "      <td>Tonya Martin</td>\n",
              "      <td>56</td>\n",
              "      <td>F</td>\n",
              "      <td>Brasil</td>\n",
              "      <td>Search</td>\n",
              "      <td>1882.0</td>\n",
              "      <td>2023-10-27 09:03:00 UTC</td>\n",
              "      <td>Complete</td>\n",
              "      <td>12029.0</td>\n",
              "      <td>Intimates</td>\n",
              "      <td>Frederick's of Hollywood Hollywood Dream Full-...</td>\n",
              "      <td>Frederick's of Hollywood</td>\n",
              "      <td>1.0</td>\n",
              "      <td>62.000000</td>\n",
              "    </tr>\n",
              "  </tbody>\n",
              "</table>\n",
              "</div>\n",
              "    <div class=\"colab-df-buttons\">\n",
              "\n",
              "  <div class=\"colab-df-container\">\n",
              "    <button class=\"colab-df-convert\" onclick=\"convertToInteractive('df-b6ab41e5-96c4-4f60-b371-770df593bb8a')\"\n",
              "            title=\"Convert this dataframe to an interactive table.\"\n",
              "            style=\"display:none;\">\n",
              "\n",
              "  <svg xmlns=\"http://www.w3.org/2000/svg\" height=\"24px\" viewBox=\"0 -960 960 960\">\n",
              "    <path d=\"M120-120v-720h720v720H120Zm60-500h600v-160H180v160Zm220 220h160v-160H400v160Zm0 220h160v-160H400v160ZM180-400h160v-160H180v160Zm440 0h160v-160H620v160ZM180-180h160v-160H180v160Zm440 0h160v-160H620v160Z\"/>\n",
              "  </svg>\n",
              "    </button>\n",
              "\n",
              "  <style>\n",
              "    .colab-df-container {\n",
              "      display:flex;\n",
              "      gap: 12px;\n",
              "    }\n",
              "\n",
              "    .colab-df-convert {\n",
              "      background-color: #E8F0FE;\n",
              "      border: none;\n",
              "      border-radius: 50%;\n",
              "      cursor: pointer;\n",
              "      display: none;\n",
              "      fill: #1967D2;\n",
              "      height: 32px;\n",
              "      padding: 0 0 0 0;\n",
              "      width: 32px;\n",
              "    }\n",
              "\n",
              "    .colab-df-convert:hover {\n",
              "      background-color: #E2EBFA;\n",
              "      box-shadow: 0px 1px 2px rgba(60, 64, 67, 0.3), 0px 1px 3px 1px rgba(60, 64, 67, 0.15);\n",
              "      fill: #174EA6;\n",
              "    }\n",
              "\n",
              "    .colab-df-buttons div {\n",
              "      margin-bottom: 4px;\n",
              "    }\n",
              "\n",
              "    [theme=dark] .colab-df-convert {\n",
              "      background-color: #3B4455;\n",
              "      fill: #D2E3FC;\n",
              "    }\n",
              "\n",
              "    [theme=dark] .colab-df-convert:hover {\n",
              "      background-color: #434B5C;\n",
              "      box-shadow: 0px 1px 3px 1px rgba(0, 0, 0, 0.15);\n",
              "      filter: drop-shadow(0px 1px 2px rgba(0, 0, 0, 0.3));\n",
              "      fill: #FFFFFF;\n",
              "    }\n",
              "  </style>\n",
              "\n",
              "    <script>\n",
              "      const buttonEl =\n",
              "        document.querySelector('#df-b6ab41e5-96c4-4f60-b371-770df593bb8a button.colab-df-convert');\n",
              "      buttonEl.style.display =\n",
              "        google.colab.kernel.accessAllowed ? 'block' : 'none';\n",
              "\n",
              "      async function convertToInteractive(key) {\n",
              "        const element = document.querySelector('#df-b6ab41e5-96c4-4f60-b371-770df593bb8a');\n",
              "        const dataTable =\n",
              "          await google.colab.kernel.invokeFunction('convertToInteractive',\n",
              "                                                    [key], {});\n",
              "        if (!dataTable) return;\n",
              "\n",
              "        const docLinkHtml = 'Like what you see? Visit the ' +\n",
              "          '<a target=\"_blank\" href=https://colab.research.google.com/notebooks/data_table.ipynb>data table notebook</a>'\n",
              "          + ' to learn more about interactive tables.';\n",
              "        element.innerHTML = '';\n",
              "        dataTable['output_type'] = 'display_data';\n",
              "        await google.colab.output.renderOutput(dataTable, element);\n",
              "        const docLink = document.createElement('div');\n",
              "        docLink.innerHTML = docLinkHtml;\n",
              "        element.appendChild(docLink);\n",
              "      }\n",
              "    </script>\n",
              "  </div>\n",
              "\n",
              "\n",
              "<div id=\"df-d9bc56a9-b3e1-44f6-a099-a6d7e8006bb6\">\n",
              "  <button class=\"colab-df-quickchart\" onclick=\"quickchart('df-d9bc56a9-b3e1-44f6-a099-a6d7e8006bb6')\"\n",
              "            title=\"Suggest charts\"\n",
              "            style=\"display:none;\">\n",
              "\n",
              "<svg xmlns=\"http://www.w3.org/2000/svg\" height=\"24px\"viewBox=\"0 0 24 24\"\n",
              "     width=\"24px\">\n",
              "    <g>\n",
              "        <path d=\"M19 3H5c-1.1 0-2 .9-2 2v14c0 1.1.9 2 2 2h14c1.1 0 2-.9 2-2V5c0-1.1-.9-2-2-2zM9 17H7v-7h2v7zm4 0h-2V7h2v10zm4 0h-2v-4h2v4z\"/>\n",
              "    </g>\n",
              "</svg>\n",
              "  </button>\n",
              "\n",
              "<style>\n",
              "  .colab-df-quickchart {\n",
              "      --bg-color: #E8F0FE;\n",
              "      --fill-color: #1967D2;\n",
              "      --hover-bg-color: #E2EBFA;\n",
              "      --hover-fill-color: #174EA6;\n",
              "      --disabled-fill-color: #AAA;\n",
              "      --disabled-bg-color: #DDD;\n",
              "  }\n",
              "\n",
              "  [theme=dark] .colab-df-quickchart {\n",
              "      --bg-color: #3B4455;\n",
              "      --fill-color: #D2E3FC;\n",
              "      --hover-bg-color: #434B5C;\n",
              "      --hover-fill-color: #FFFFFF;\n",
              "      --disabled-bg-color: #3B4455;\n",
              "      --disabled-fill-color: #666;\n",
              "  }\n",
              "\n",
              "  .colab-df-quickchart {\n",
              "    background-color: var(--bg-color);\n",
              "    border: none;\n",
              "    border-radius: 50%;\n",
              "    cursor: pointer;\n",
              "    display: none;\n",
              "    fill: var(--fill-color);\n",
              "    height: 32px;\n",
              "    padding: 0;\n",
              "    width: 32px;\n",
              "  }\n",
              "\n",
              "  .colab-df-quickchart:hover {\n",
              "    background-color: var(--hover-bg-color);\n",
              "    box-shadow: 0 1px 2px rgba(60, 64, 67, 0.3), 0 1px 3px 1px rgba(60, 64, 67, 0.15);\n",
              "    fill: var(--button-hover-fill-color);\n",
              "  }\n",
              "\n",
              "  .colab-df-quickchart-complete:disabled,\n",
              "  .colab-df-quickchart-complete:disabled:hover {\n",
              "    background-color: var(--disabled-bg-color);\n",
              "    fill: var(--disabled-fill-color);\n",
              "    box-shadow: none;\n",
              "  }\n",
              "\n",
              "  .colab-df-spinner {\n",
              "    border: 2px solid var(--fill-color);\n",
              "    border-color: transparent;\n",
              "    border-bottom-color: var(--fill-color);\n",
              "    animation:\n",
              "      spin 1s steps(1) infinite;\n",
              "  }\n",
              "\n",
              "  @keyframes spin {\n",
              "    0% {\n",
              "      border-color: transparent;\n",
              "      border-bottom-color: var(--fill-color);\n",
              "      border-left-color: var(--fill-color);\n",
              "    }\n",
              "    20% {\n",
              "      border-color: transparent;\n",
              "      border-left-color: var(--fill-color);\n",
              "      border-top-color: var(--fill-color);\n",
              "    }\n",
              "    30% {\n",
              "      border-color: transparent;\n",
              "      border-left-color: var(--fill-color);\n",
              "      border-top-color: var(--fill-color);\n",
              "      border-right-color: var(--fill-color);\n",
              "    }\n",
              "    40% {\n",
              "      border-color: transparent;\n",
              "      border-right-color: var(--fill-color);\n",
              "      border-top-color: var(--fill-color);\n",
              "    }\n",
              "    60% {\n",
              "      border-color: transparent;\n",
              "      border-right-color: var(--fill-color);\n",
              "    }\n",
              "    80% {\n",
              "      border-color: transparent;\n",
              "      border-right-color: var(--fill-color);\n",
              "      border-bottom-color: var(--fill-color);\n",
              "    }\n",
              "    90% {\n",
              "      border-color: transparent;\n",
              "      border-bottom-color: var(--fill-color);\n",
              "    }\n",
              "  }\n",
              "</style>\n",
              "\n",
              "  <script>\n",
              "    async function quickchart(key) {\n",
              "      const quickchartButtonEl =\n",
              "        document.querySelector('#' + key + ' button');\n",
              "      quickchartButtonEl.disabled = true;  // To prevent multiple clicks.\n",
              "      quickchartButtonEl.classList.add('colab-df-spinner');\n",
              "      try {\n",
              "        const charts = await google.colab.kernel.invokeFunction(\n",
              "            'suggestCharts', [key], {});\n",
              "      } catch (error) {\n",
              "        console.error('Error during call to suggestCharts:', error);\n",
              "      }\n",
              "      quickchartButtonEl.classList.remove('colab-df-spinner');\n",
              "      quickchartButtonEl.classList.add('colab-df-quickchart-complete');\n",
              "    }\n",
              "    (() => {\n",
              "      let quickchartButtonEl =\n",
              "        document.querySelector('#df-d9bc56a9-b3e1-44f6-a099-a6d7e8006bb6 button');\n",
              "      quickchartButtonEl.style.display =\n",
              "        google.colab.kernel.accessAllowed ? 'block' : 'none';\n",
              "    })();\n",
              "  </script>\n",
              "</div>\n",
              "\n",
              "    </div>\n",
              "  </div>\n"
            ],
            "application/vnd.google.colaboratory.intrinsic+json": {
              "type": "dataframe",
              "variable_name": "df"
            }
          },
          "metadata": {},
          "execution_count": 5
        }
      ]
    },
    {
      "cell_type": "markdown",
      "source": [
        "Number of duplicated rows"
      ],
      "metadata": {
        "id": "o67Q0tQY6r6H"
      }
    },
    {
      "cell_type": "code",
      "source": [
        "df.duplicated().sum()"
      ],
      "metadata": {
        "colab": {
          "base_uri": "https://localhost:8080/"
        },
        "id": "FaugfIveEu0P",
        "outputId": "bceef171-5c32-4e28-aec8-82917378d27c"
      },
      "execution_count": 6,
      "outputs": [
        {
          "output_type": "execute_result",
          "data": {
            "text/plain": [
              "42"
            ]
          },
          "metadata": {},
          "execution_count": 6
        }
      ]
    },
    {
      "cell_type": "markdown",
      "source": [
        "Create a new variable which is a dataframe with duplicate rows of data removed."
      ],
      "metadata": {
        "id": "xRadGu4W69BM"
      }
    },
    {
      "cell_type": "code",
      "source": [
        "df_cleaned = df.drop_duplicates()"
      ],
      "metadata": {
        "id": "c-wpUgevE_N4"
      },
      "execution_count": 7,
      "outputs": []
    },
    {
      "cell_type": "markdown",
      "source": [
        "Reset index of the data"
      ],
      "metadata": {
        "id": "0EEbNHm78j2N"
      }
    },
    {
      "cell_type": "code",
      "source": [
        "df_cleaned = df_cleaned.reset_index(drop=True)"
      ],
      "metadata": {
        "id": "Ey-5jT-NFXcu"
      },
      "execution_count": 8,
      "outputs": []
    },
    {
      "cell_type": "code",
      "source": [
        "df_cleaned.info()"
      ],
      "metadata": {
        "colab": {
          "base_uri": "https://localhost:8080/"
        },
        "id": "D-TmMC1dFZ8N",
        "outputId": "ec5bb237-f4ed-45d1-eac0-1e546fced466"
      },
      "execution_count": 9,
      "outputs": [
        {
          "output_type": "stream",
          "name": "stdout",
          "text": [
            "<class 'pandas.core.frame.DataFrame'>\n",
            "RangeIndex: 391510 entries, 0 to 391509\n",
            "Data columns (total 15 columns):\n",
            " #   Column              Non-Null Count   Dtype  \n",
            "---  ------              --------------   -----  \n",
            " 0   customer_id         391510 non-null  int64  \n",
            " 1   customer_name       391510 non-null  object \n",
            " 2   age                 391510 non-null  int64  \n",
            " 3   gender              391510 non-null  object \n",
            " 4   country             391510 non-null  object \n",
            " 5   traffic_source      391510 non-null  object \n",
            " 6   order_id            371329 non-null  float64\n",
            " 7   order_created_date  371329 non-null  object \n",
            " 8   status              371329 non-null  object \n",
            " 9   product_id          371329 non-null  float64\n",
            " 10  product_category    371329 non-null  object \n",
            " 11  product_name        371308 non-null  object \n",
            " 12  product_brand       370995 non-null  object \n",
            " 13  num_of_item         371329 non-null  float64\n",
            " 14  sale_price          371329 non-null  float64\n",
            "dtypes: float64(4), int64(2), object(9)\n",
            "memory usage: 44.8+ MB\n"
          ]
        }
      ]
    },
    {
      "cell_type": "markdown",
      "source": [
        "Convert 'order_created_date' data type, from string to datetime."
      ],
      "metadata": {
        "id": "y42Iq0Y_2L-_"
      }
    },
    {
      "cell_type": "code",
      "source": [
        "# Convert to datetime, including handling microseconds and timezone\n",
        "df_cleaned['order_created_date'] = pd.to_datetime(df_cleaned['order_created_date'], errors='coerce', utc=True)\n",
        "\n",
        "# Remove microseconds if needed\n",
        "df_cleaned['order_created_date'] = df_cleaned['order_created_date'].dt.floor('S')\n",
        "\n",
        "df_cleaned.head()"
      ],
      "metadata": {
        "colab": {
          "base_uri": "https://localhost:8080/",
          "height": 521
        },
        "id": "6hR8hFtMPc4i",
        "outputId": "58e7b5ae-fcac-4ebb-84e0-0b1ba824d584"
      },
      "execution_count": 10,
      "outputs": [
        {
          "output_type": "execute_result",
          "data": {
            "text/plain": [
              "   customer_id customer_name  age gender country traffic_source  order_id  \\\n",
              "0         1535  Tonya Martin   56      F  Brasil         Search    1882.0   \n",
              "1         1535  Tonya Martin   56      F  Brasil         Search    1882.0   \n",
              "2         1535  Tonya Martin   56      F  Brasil         Search    1882.0   \n",
              "3         1535  Tonya Martin   56      F  Brasil         Search    1882.0   \n",
              "4         1535  Tonya Martin   56      F  Brasil         Search    1882.0   \n",
              "\n",
              "         order_created_date    status  product_id  \\\n",
              "0 2023-10-27 09:03:00+00:00  Complete     14951.0   \n",
              "1 2023-10-27 09:03:00+00:00  Complete     14548.0   \n",
              "2 2023-10-27 09:03:00+00:00  Complete     15217.0   \n",
              "3 2023-10-27 09:03:00+00:00  Complete      2010.0   \n",
              "4 2023-10-27 09:03:00+00:00  Complete     12029.0   \n",
              "\n",
              "                product_category  \\\n",
              "0                      Maternity   \n",
              "1                      Maternity   \n",
              "2                      Maternity   \n",
              "3  Fashion Hoodies & Sweatshirts   \n",
              "4                      Intimates   \n",
              "\n",
              "                                        product_name  \\\n",
              "0  Maternity Holdup Suspenders Worn Under Materni...   \n",
              "1  Three Seasons Maternity Women's 3/4 Sleeve Sol...   \n",
              "2  Womens Maternity Two Piece Tankini Bikini Swim...   \n",
              "3        O'Neill Juniors Jackson Pullover Sweatshirt   \n",
              "4  Frederick's of Hollywood Hollywood Dream Full-...   \n",
              "\n",
              "              product_brand  num_of_item  sale_price  \n",
              "0     Hold-Up Suspender Co.          1.0   18.950001  \n",
              "1   Three Seasons Maternity          1.0   32.000000  \n",
              "2                      COCO          1.0   44.990002  \n",
              "3                   O'Neill          1.0   50.000000  \n",
              "4  Frederick's of Hollywood          1.0   62.000000  "
            ],
            "text/html": [
              "\n",
              "  <div id=\"df-4fd3676c-280b-4361-957c-fac509096f52\" class=\"colab-df-container\">\n",
              "    <div>\n",
              "<style scoped>\n",
              "    .dataframe tbody tr th:only-of-type {\n",
              "        vertical-align: middle;\n",
              "    }\n",
              "\n",
              "    .dataframe tbody tr th {\n",
              "        vertical-align: top;\n",
              "    }\n",
              "\n",
              "    .dataframe thead th {\n",
              "        text-align: right;\n",
              "    }\n",
              "</style>\n",
              "<table border=\"1\" class=\"dataframe\">\n",
              "  <thead>\n",
              "    <tr style=\"text-align: right;\">\n",
              "      <th></th>\n",
              "      <th>customer_id</th>\n",
              "      <th>customer_name</th>\n",
              "      <th>age</th>\n",
              "      <th>gender</th>\n",
              "      <th>country</th>\n",
              "      <th>traffic_source</th>\n",
              "      <th>order_id</th>\n",
              "      <th>order_created_date</th>\n",
              "      <th>status</th>\n",
              "      <th>product_id</th>\n",
              "      <th>product_category</th>\n",
              "      <th>product_name</th>\n",
              "      <th>product_brand</th>\n",
              "      <th>num_of_item</th>\n",
              "      <th>sale_price</th>\n",
              "    </tr>\n",
              "  </thead>\n",
              "  <tbody>\n",
              "    <tr>\n",
              "      <th>0</th>\n",
              "      <td>1535</td>\n",
              "      <td>Tonya Martin</td>\n",
              "      <td>56</td>\n",
              "      <td>F</td>\n",
              "      <td>Brasil</td>\n",
              "      <td>Search</td>\n",
              "      <td>1882.0</td>\n",
              "      <td>2023-10-27 09:03:00+00:00</td>\n",
              "      <td>Complete</td>\n",
              "      <td>14951.0</td>\n",
              "      <td>Maternity</td>\n",
              "      <td>Maternity Holdup Suspenders Worn Under Materni...</td>\n",
              "      <td>Hold-Up Suspender Co.</td>\n",
              "      <td>1.0</td>\n",
              "      <td>18.950001</td>\n",
              "    </tr>\n",
              "    <tr>\n",
              "      <th>1</th>\n",
              "      <td>1535</td>\n",
              "      <td>Tonya Martin</td>\n",
              "      <td>56</td>\n",
              "      <td>F</td>\n",
              "      <td>Brasil</td>\n",
              "      <td>Search</td>\n",
              "      <td>1882.0</td>\n",
              "      <td>2023-10-27 09:03:00+00:00</td>\n",
              "      <td>Complete</td>\n",
              "      <td>14548.0</td>\n",
              "      <td>Maternity</td>\n",
              "      <td>Three Seasons Maternity Women's 3/4 Sleeve Sol...</td>\n",
              "      <td>Three Seasons Maternity</td>\n",
              "      <td>1.0</td>\n",
              "      <td>32.000000</td>\n",
              "    </tr>\n",
              "    <tr>\n",
              "      <th>2</th>\n",
              "      <td>1535</td>\n",
              "      <td>Tonya Martin</td>\n",
              "      <td>56</td>\n",
              "      <td>F</td>\n",
              "      <td>Brasil</td>\n",
              "      <td>Search</td>\n",
              "      <td>1882.0</td>\n",
              "      <td>2023-10-27 09:03:00+00:00</td>\n",
              "      <td>Complete</td>\n",
              "      <td>15217.0</td>\n",
              "      <td>Maternity</td>\n",
              "      <td>Womens Maternity Two Piece Tankini Bikini Swim...</td>\n",
              "      <td>COCO</td>\n",
              "      <td>1.0</td>\n",
              "      <td>44.990002</td>\n",
              "    </tr>\n",
              "    <tr>\n",
              "      <th>3</th>\n",
              "      <td>1535</td>\n",
              "      <td>Tonya Martin</td>\n",
              "      <td>56</td>\n",
              "      <td>F</td>\n",
              "      <td>Brasil</td>\n",
              "      <td>Search</td>\n",
              "      <td>1882.0</td>\n",
              "      <td>2023-10-27 09:03:00+00:00</td>\n",
              "      <td>Complete</td>\n",
              "      <td>2010.0</td>\n",
              "      <td>Fashion Hoodies &amp; Sweatshirts</td>\n",
              "      <td>O'Neill Juniors Jackson Pullover Sweatshirt</td>\n",
              "      <td>O'Neill</td>\n",
              "      <td>1.0</td>\n",
              "      <td>50.000000</td>\n",
              "    </tr>\n",
              "    <tr>\n",
              "      <th>4</th>\n",
              "      <td>1535</td>\n",
              "      <td>Tonya Martin</td>\n",
              "      <td>56</td>\n",
              "      <td>F</td>\n",
              "      <td>Brasil</td>\n",
              "      <td>Search</td>\n",
              "      <td>1882.0</td>\n",
              "      <td>2023-10-27 09:03:00+00:00</td>\n",
              "      <td>Complete</td>\n",
              "      <td>12029.0</td>\n",
              "      <td>Intimates</td>\n",
              "      <td>Frederick's of Hollywood Hollywood Dream Full-...</td>\n",
              "      <td>Frederick's of Hollywood</td>\n",
              "      <td>1.0</td>\n",
              "      <td>62.000000</td>\n",
              "    </tr>\n",
              "  </tbody>\n",
              "</table>\n",
              "</div>\n",
              "    <div class=\"colab-df-buttons\">\n",
              "\n",
              "  <div class=\"colab-df-container\">\n",
              "    <button class=\"colab-df-convert\" onclick=\"convertToInteractive('df-4fd3676c-280b-4361-957c-fac509096f52')\"\n",
              "            title=\"Convert this dataframe to an interactive table.\"\n",
              "            style=\"display:none;\">\n",
              "\n",
              "  <svg xmlns=\"http://www.w3.org/2000/svg\" height=\"24px\" viewBox=\"0 -960 960 960\">\n",
              "    <path d=\"M120-120v-720h720v720H120Zm60-500h600v-160H180v160Zm220 220h160v-160H400v160Zm0 220h160v-160H400v160ZM180-400h160v-160H180v160Zm440 0h160v-160H620v160ZM180-180h160v-160H180v160Zm440 0h160v-160H620v160Z\"/>\n",
              "  </svg>\n",
              "    </button>\n",
              "\n",
              "  <style>\n",
              "    .colab-df-container {\n",
              "      display:flex;\n",
              "      gap: 12px;\n",
              "    }\n",
              "\n",
              "    .colab-df-convert {\n",
              "      background-color: #E8F0FE;\n",
              "      border: none;\n",
              "      border-radius: 50%;\n",
              "      cursor: pointer;\n",
              "      display: none;\n",
              "      fill: #1967D2;\n",
              "      height: 32px;\n",
              "      padding: 0 0 0 0;\n",
              "      width: 32px;\n",
              "    }\n",
              "\n",
              "    .colab-df-convert:hover {\n",
              "      background-color: #E2EBFA;\n",
              "      box-shadow: 0px 1px 2px rgba(60, 64, 67, 0.3), 0px 1px 3px 1px rgba(60, 64, 67, 0.15);\n",
              "      fill: #174EA6;\n",
              "    }\n",
              "\n",
              "    .colab-df-buttons div {\n",
              "      margin-bottom: 4px;\n",
              "    }\n",
              "\n",
              "    [theme=dark] .colab-df-convert {\n",
              "      background-color: #3B4455;\n",
              "      fill: #D2E3FC;\n",
              "    }\n",
              "\n",
              "    [theme=dark] .colab-df-convert:hover {\n",
              "      background-color: #434B5C;\n",
              "      box-shadow: 0px 1px 3px 1px rgba(0, 0, 0, 0.15);\n",
              "      filter: drop-shadow(0px 1px 2px rgba(0, 0, 0, 0.3));\n",
              "      fill: #FFFFFF;\n",
              "    }\n",
              "  </style>\n",
              "\n",
              "    <script>\n",
              "      const buttonEl =\n",
              "        document.querySelector('#df-4fd3676c-280b-4361-957c-fac509096f52 button.colab-df-convert');\n",
              "      buttonEl.style.display =\n",
              "        google.colab.kernel.accessAllowed ? 'block' : 'none';\n",
              "\n",
              "      async function convertToInteractive(key) {\n",
              "        const element = document.querySelector('#df-4fd3676c-280b-4361-957c-fac509096f52');\n",
              "        const dataTable =\n",
              "          await google.colab.kernel.invokeFunction('convertToInteractive',\n",
              "                                                    [key], {});\n",
              "        if (!dataTable) return;\n",
              "\n",
              "        const docLinkHtml = 'Like what you see? Visit the ' +\n",
              "          '<a target=\"_blank\" href=https://colab.research.google.com/notebooks/data_table.ipynb>data table notebook</a>'\n",
              "          + ' to learn more about interactive tables.';\n",
              "        element.innerHTML = '';\n",
              "        dataTable['output_type'] = 'display_data';\n",
              "        await google.colab.output.renderOutput(dataTable, element);\n",
              "        const docLink = document.createElement('div');\n",
              "        docLink.innerHTML = docLinkHtml;\n",
              "        element.appendChild(docLink);\n",
              "      }\n",
              "    </script>\n",
              "  </div>\n",
              "\n",
              "\n",
              "<div id=\"df-949f3dc9-c213-44b8-9ed1-33db360d3175\">\n",
              "  <button class=\"colab-df-quickchart\" onclick=\"quickchart('df-949f3dc9-c213-44b8-9ed1-33db360d3175')\"\n",
              "            title=\"Suggest charts\"\n",
              "            style=\"display:none;\">\n",
              "\n",
              "<svg xmlns=\"http://www.w3.org/2000/svg\" height=\"24px\"viewBox=\"0 0 24 24\"\n",
              "     width=\"24px\">\n",
              "    <g>\n",
              "        <path d=\"M19 3H5c-1.1 0-2 .9-2 2v14c0 1.1.9 2 2 2h14c1.1 0 2-.9 2-2V5c0-1.1-.9-2-2-2zM9 17H7v-7h2v7zm4 0h-2V7h2v10zm4 0h-2v-4h2v4z\"/>\n",
              "    </g>\n",
              "</svg>\n",
              "  </button>\n",
              "\n",
              "<style>\n",
              "  .colab-df-quickchart {\n",
              "      --bg-color: #E8F0FE;\n",
              "      --fill-color: #1967D2;\n",
              "      --hover-bg-color: #E2EBFA;\n",
              "      --hover-fill-color: #174EA6;\n",
              "      --disabled-fill-color: #AAA;\n",
              "      --disabled-bg-color: #DDD;\n",
              "  }\n",
              "\n",
              "  [theme=dark] .colab-df-quickchart {\n",
              "      --bg-color: #3B4455;\n",
              "      --fill-color: #D2E3FC;\n",
              "      --hover-bg-color: #434B5C;\n",
              "      --hover-fill-color: #FFFFFF;\n",
              "      --disabled-bg-color: #3B4455;\n",
              "      --disabled-fill-color: #666;\n",
              "  }\n",
              "\n",
              "  .colab-df-quickchart {\n",
              "    background-color: var(--bg-color);\n",
              "    border: none;\n",
              "    border-radius: 50%;\n",
              "    cursor: pointer;\n",
              "    display: none;\n",
              "    fill: var(--fill-color);\n",
              "    height: 32px;\n",
              "    padding: 0;\n",
              "    width: 32px;\n",
              "  }\n",
              "\n",
              "  .colab-df-quickchart:hover {\n",
              "    background-color: var(--hover-bg-color);\n",
              "    box-shadow: 0 1px 2px rgba(60, 64, 67, 0.3), 0 1px 3px 1px rgba(60, 64, 67, 0.15);\n",
              "    fill: var(--button-hover-fill-color);\n",
              "  }\n",
              "\n",
              "  .colab-df-quickchart-complete:disabled,\n",
              "  .colab-df-quickchart-complete:disabled:hover {\n",
              "    background-color: var(--disabled-bg-color);\n",
              "    fill: var(--disabled-fill-color);\n",
              "    box-shadow: none;\n",
              "  }\n",
              "\n",
              "  .colab-df-spinner {\n",
              "    border: 2px solid var(--fill-color);\n",
              "    border-color: transparent;\n",
              "    border-bottom-color: var(--fill-color);\n",
              "    animation:\n",
              "      spin 1s steps(1) infinite;\n",
              "  }\n",
              "\n",
              "  @keyframes spin {\n",
              "    0% {\n",
              "      border-color: transparent;\n",
              "      border-bottom-color: var(--fill-color);\n",
              "      border-left-color: var(--fill-color);\n",
              "    }\n",
              "    20% {\n",
              "      border-color: transparent;\n",
              "      border-left-color: var(--fill-color);\n",
              "      border-top-color: var(--fill-color);\n",
              "    }\n",
              "    30% {\n",
              "      border-color: transparent;\n",
              "      border-left-color: var(--fill-color);\n",
              "      border-top-color: var(--fill-color);\n",
              "      border-right-color: var(--fill-color);\n",
              "    }\n",
              "    40% {\n",
              "      border-color: transparent;\n",
              "      border-right-color: var(--fill-color);\n",
              "      border-top-color: var(--fill-color);\n",
              "    }\n",
              "    60% {\n",
              "      border-color: transparent;\n",
              "      border-right-color: var(--fill-color);\n",
              "    }\n",
              "    80% {\n",
              "      border-color: transparent;\n",
              "      border-right-color: var(--fill-color);\n",
              "      border-bottom-color: var(--fill-color);\n",
              "    }\n",
              "    90% {\n",
              "      border-color: transparent;\n",
              "      border-bottom-color: var(--fill-color);\n",
              "    }\n",
              "  }\n",
              "</style>\n",
              "\n",
              "  <script>\n",
              "    async function quickchart(key) {\n",
              "      const quickchartButtonEl =\n",
              "        document.querySelector('#' + key + ' button');\n",
              "      quickchartButtonEl.disabled = true;  // To prevent multiple clicks.\n",
              "      quickchartButtonEl.classList.add('colab-df-spinner');\n",
              "      try {\n",
              "        const charts = await google.colab.kernel.invokeFunction(\n",
              "            'suggestCharts', [key], {});\n",
              "      } catch (error) {\n",
              "        console.error('Error during call to suggestCharts:', error);\n",
              "      }\n",
              "      quickchartButtonEl.classList.remove('colab-df-spinner');\n",
              "      quickchartButtonEl.classList.add('colab-df-quickchart-complete');\n",
              "    }\n",
              "    (() => {\n",
              "      let quickchartButtonEl =\n",
              "        document.querySelector('#df-949f3dc9-c213-44b8-9ed1-33db360d3175 button');\n",
              "      quickchartButtonEl.style.display =\n",
              "        google.colab.kernel.accessAllowed ? 'block' : 'none';\n",
              "    })();\n",
              "  </script>\n",
              "</div>\n",
              "\n",
              "    </div>\n",
              "  </div>\n"
            ],
            "application/vnd.google.colaboratory.intrinsic+json": {
              "type": "dataframe",
              "variable_name": "df_cleaned"
            }
          },
          "metadata": {},
          "execution_count": 10
        }
      ]
    },
    {
      "cell_type": "markdown",
      "source": [
        "Show the information of dataframe after the converting 'order_created_date' data type."
      ],
      "metadata": {
        "id": "C3VBinQG2kkc"
      }
    },
    {
      "cell_type": "code",
      "source": [
        "df_cleaned.info()"
      ],
      "metadata": {
        "colab": {
          "base_uri": "https://localhost:8080/"
        },
        "id": "fSWlIBVxK2-3",
        "outputId": "344c43b1-7af9-4064-f459-700ebef4f83d"
      },
      "execution_count": 11,
      "outputs": [
        {
          "output_type": "stream",
          "name": "stdout",
          "text": [
            "<class 'pandas.core.frame.DataFrame'>\n",
            "RangeIndex: 391510 entries, 0 to 391509\n",
            "Data columns (total 15 columns):\n",
            " #   Column              Non-Null Count   Dtype              \n",
            "---  ------              --------------   -----              \n",
            " 0   customer_id         391510 non-null  int64              \n",
            " 1   customer_name       391510 non-null  object             \n",
            " 2   age                 391510 non-null  int64              \n",
            " 3   gender              391510 non-null  object             \n",
            " 4   country             391510 non-null  object             \n",
            " 5   traffic_source      391510 non-null  object             \n",
            " 6   order_id            371329 non-null  float64            \n",
            " 7   order_created_date  361350 non-null  datetime64[ns, UTC]\n",
            " 8   status              371329 non-null  object             \n",
            " 9   product_id          371329 non-null  float64            \n",
            " 10  product_category    371329 non-null  object             \n",
            " 11  product_name        371308 non-null  object             \n",
            " 12  product_brand       370995 non-null  object             \n",
            " 13  num_of_item         371329 non-null  float64            \n",
            " 14  sale_price          371329 non-null  float64            \n",
            "dtypes: datetime64[ns, UTC](1), float64(4), int64(2), object(8)\n",
            "memory usage: 44.8+ MB\n"
          ]
        }
      ]
    },
    {
      "cell_type": "markdown",
      "source": [
        "Create a new column 'revenue' which is the result of multiplying 'num_of_item' and 'sale_price'."
      ],
      "metadata": {
        "id": "m4yXg0t222dl"
      }
    },
    {
      "cell_type": "code",
      "source": [
        "df_cleaned['revenue'] = df_cleaned['num_of_item'] * df_cleaned['sale_price']\n",
        "\n",
        "df_cleaned.head()"
      ],
      "metadata": {
        "colab": {
          "base_uri": "https://localhost:8080/",
          "height": 521
        },
        "id": "QUIcA2BTUd5r",
        "outputId": "169c95e1-a90a-4efa-cf8a-50bcd4df79e4"
      },
      "execution_count": 12,
      "outputs": [
        {
          "output_type": "execute_result",
          "data": {
            "text/plain": [
              "   customer_id customer_name  age gender country traffic_source  order_id  \\\n",
              "0         1535  Tonya Martin   56      F  Brasil         Search    1882.0   \n",
              "1         1535  Tonya Martin   56      F  Brasil         Search    1882.0   \n",
              "2         1535  Tonya Martin   56      F  Brasil         Search    1882.0   \n",
              "3         1535  Tonya Martin   56      F  Brasil         Search    1882.0   \n",
              "4         1535  Tonya Martin   56      F  Brasil         Search    1882.0   \n",
              "\n",
              "         order_created_date    status  product_id  \\\n",
              "0 2023-10-27 09:03:00+00:00  Complete     14951.0   \n",
              "1 2023-10-27 09:03:00+00:00  Complete     14548.0   \n",
              "2 2023-10-27 09:03:00+00:00  Complete     15217.0   \n",
              "3 2023-10-27 09:03:00+00:00  Complete      2010.0   \n",
              "4 2023-10-27 09:03:00+00:00  Complete     12029.0   \n",
              "\n",
              "                product_category  \\\n",
              "0                      Maternity   \n",
              "1                      Maternity   \n",
              "2                      Maternity   \n",
              "3  Fashion Hoodies & Sweatshirts   \n",
              "4                      Intimates   \n",
              "\n",
              "                                        product_name  \\\n",
              "0  Maternity Holdup Suspenders Worn Under Materni...   \n",
              "1  Three Seasons Maternity Women's 3/4 Sleeve Sol...   \n",
              "2  Womens Maternity Two Piece Tankini Bikini Swim...   \n",
              "3        O'Neill Juniors Jackson Pullover Sweatshirt   \n",
              "4  Frederick's of Hollywood Hollywood Dream Full-...   \n",
              "\n",
              "              product_brand  num_of_item  sale_price    revenue  \n",
              "0     Hold-Up Suspender Co.          1.0   18.950001  18.950001  \n",
              "1   Three Seasons Maternity          1.0   32.000000  32.000000  \n",
              "2                      COCO          1.0   44.990002  44.990002  \n",
              "3                   O'Neill          1.0   50.000000  50.000000  \n",
              "4  Frederick's of Hollywood          1.0   62.000000  62.000000  "
            ],
            "text/html": [
              "\n",
              "  <div id=\"df-092e8134-980d-41b2-bb49-ef5dc3f52cd4\" class=\"colab-df-container\">\n",
              "    <div>\n",
              "<style scoped>\n",
              "    .dataframe tbody tr th:only-of-type {\n",
              "        vertical-align: middle;\n",
              "    }\n",
              "\n",
              "    .dataframe tbody tr th {\n",
              "        vertical-align: top;\n",
              "    }\n",
              "\n",
              "    .dataframe thead th {\n",
              "        text-align: right;\n",
              "    }\n",
              "</style>\n",
              "<table border=\"1\" class=\"dataframe\">\n",
              "  <thead>\n",
              "    <tr style=\"text-align: right;\">\n",
              "      <th></th>\n",
              "      <th>customer_id</th>\n",
              "      <th>customer_name</th>\n",
              "      <th>age</th>\n",
              "      <th>gender</th>\n",
              "      <th>country</th>\n",
              "      <th>traffic_source</th>\n",
              "      <th>order_id</th>\n",
              "      <th>order_created_date</th>\n",
              "      <th>status</th>\n",
              "      <th>product_id</th>\n",
              "      <th>product_category</th>\n",
              "      <th>product_name</th>\n",
              "      <th>product_brand</th>\n",
              "      <th>num_of_item</th>\n",
              "      <th>sale_price</th>\n",
              "      <th>revenue</th>\n",
              "    </tr>\n",
              "  </thead>\n",
              "  <tbody>\n",
              "    <tr>\n",
              "      <th>0</th>\n",
              "      <td>1535</td>\n",
              "      <td>Tonya Martin</td>\n",
              "      <td>56</td>\n",
              "      <td>F</td>\n",
              "      <td>Brasil</td>\n",
              "      <td>Search</td>\n",
              "      <td>1882.0</td>\n",
              "      <td>2023-10-27 09:03:00+00:00</td>\n",
              "      <td>Complete</td>\n",
              "      <td>14951.0</td>\n",
              "      <td>Maternity</td>\n",
              "      <td>Maternity Holdup Suspenders Worn Under Materni...</td>\n",
              "      <td>Hold-Up Suspender Co.</td>\n",
              "      <td>1.0</td>\n",
              "      <td>18.950001</td>\n",
              "      <td>18.950001</td>\n",
              "    </tr>\n",
              "    <tr>\n",
              "      <th>1</th>\n",
              "      <td>1535</td>\n",
              "      <td>Tonya Martin</td>\n",
              "      <td>56</td>\n",
              "      <td>F</td>\n",
              "      <td>Brasil</td>\n",
              "      <td>Search</td>\n",
              "      <td>1882.0</td>\n",
              "      <td>2023-10-27 09:03:00+00:00</td>\n",
              "      <td>Complete</td>\n",
              "      <td>14548.0</td>\n",
              "      <td>Maternity</td>\n",
              "      <td>Three Seasons Maternity Women's 3/4 Sleeve Sol...</td>\n",
              "      <td>Three Seasons Maternity</td>\n",
              "      <td>1.0</td>\n",
              "      <td>32.000000</td>\n",
              "      <td>32.000000</td>\n",
              "    </tr>\n",
              "    <tr>\n",
              "      <th>2</th>\n",
              "      <td>1535</td>\n",
              "      <td>Tonya Martin</td>\n",
              "      <td>56</td>\n",
              "      <td>F</td>\n",
              "      <td>Brasil</td>\n",
              "      <td>Search</td>\n",
              "      <td>1882.0</td>\n",
              "      <td>2023-10-27 09:03:00+00:00</td>\n",
              "      <td>Complete</td>\n",
              "      <td>15217.0</td>\n",
              "      <td>Maternity</td>\n",
              "      <td>Womens Maternity Two Piece Tankini Bikini Swim...</td>\n",
              "      <td>COCO</td>\n",
              "      <td>1.0</td>\n",
              "      <td>44.990002</td>\n",
              "      <td>44.990002</td>\n",
              "    </tr>\n",
              "    <tr>\n",
              "      <th>3</th>\n",
              "      <td>1535</td>\n",
              "      <td>Tonya Martin</td>\n",
              "      <td>56</td>\n",
              "      <td>F</td>\n",
              "      <td>Brasil</td>\n",
              "      <td>Search</td>\n",
              "      <td>1882.0</td>\n",
              "      <td>2023-10-27 09:03:00+00:00</td>\n",
              "      <td>Complete</td>\n",
              "      <td>2010.0</td>\n",
              "      <td>Fashion Hoodies &amp; Sweatshirts</td>\n",
              "      <td>O'Neill Juniors Jackson Pullover Sweatshirt</td>\n",
              "      <td>O'Neill</td>\n",
              "      <td>1.0</td>\n",
              "      <td>50.000000</td>\n",
              "      <td>50.000000</td>\n",
              "    </tr>\n",
              "    <tr>\n",
              "      <th>4</th>\n",
              "      <td>1535</td>\n",
              "      <td>Tonya Martin</td>\n",
              "      <td>56</td>\n",
              "      <td>F</td>\n",
              "      <td>Brasil</td>\n",
              "      <td>Search</td>\n",
              "      <td>1882.0</td>\n",
              "      <td>2023-10-27 09:03:00+00:00</td>\n",
              "      <td>Complete</td>\n",
              "      <td>12029.0</td>\n",
              "      <td>Intimates</td>\n",
              "      <td>Frederick's of Hollywood Hollywood Dream Full-...</td>\n",
              "      <td>Frederick's of Hollywood</td>\n",
              "      <td>1.0</td>\n",
              "      <td>62.000000</td>\n",
              "      <td>62.000000</td>\n",
              "    </tr>\n",
              "  </tbody>\n",
              "</table>\n",
              "</div>\n",
              "    <div class=\"colab-df-buttons\">\n",
              "\n",
              "  <div class=\"colab-df-container\">\n",
              "    <button class=\"colab-df-convert\" onclick=\"convertToInteractive('df-092e8134-980d-41b2-bb49-ef5dc3f52cd4')\"\n",
              "            title=\"Convert this dataframe to an interactive table.\"\n",
              "            style=\"display:none;\">\n",
              "\n",
              "  <svg xmlns=\"http://www.w3.org/2000/svg\" height=\"24px\" viewBox=\"0 -960 960 960\">\n",
              "    <path d=\"M120-120v-720h720v720H120Zm60-500h600v-160H180v160Zm220 220h160v-160H400v160Zm0 220h160v-160H400v160ZM180-400h160v-160H180v160Zm440 0h160v-160H620v160ZM180-180h160v-160H180v160Zm440 0h160v-160H620v160Z\"/>\n",
              "  </svg>\n",
              "    </button>\n",
              "\n",
              "  <style>\n",
              "    .colab-df-container {\n",
              "      display:flex;\n",
              "      gap: 12px;\n",
              "    }\n",
              "\n",
              "    .colab-df-convert {\n",
              "      background-color: #E8F0FE;\n",
              "      border: none;\n",
              "      border-radius: 50%;\n",
              "      cursor: pointer;\n",
              "      display: none;\n",
              "      fill: #1967D2;\n",
              "      height: 32px;\n",
              "      padding: 0 0 0 0;\n",
              "      width: 32px;\n",
              "    }\n",
              "\n",
              "    .colab-df-convert:hover {\n",
              "      background-color: #E2EBFA;\n",
              "      box-shadow: 0px 1px 2px rgba(60, 64, 67, 0.3), 0px 1px 3px 1px rgba(60, 64, 67, 0.15);\n",
              "      fill: #174EA6;\n",
              "    }\n",
              "\n",
              "    .colab-df-buttons div {\n",
              "      margin-bottom: 4px;\n",
              "    }\n",
              "\n",
              "    [theme=dark] .colab-df-convert {\n",
              "      background-color: #3B4455;\n",
              "      fill: #D2E3FC;\n",
              "    }\n",
              "\n",
              "    [theme=dark] .colab-df-convert:hover {\n",
              "      background-color: #434B5C;\n",
              "      box-shadow: 0px 1px 3px 1px rgba(0, 0, 0, 0.15);\n",
              "      filter: drop-shadow(0px 1px 2px rgba(0, 0, 0, 0.3));\n",
              "      fill: #FFFFFF;\n",
              "    }\n",
              "  </style>\n",
              "\n",
              "    <script>\n",
              "      const buttonEl =\n",
              "        document.querySelector('#df-092e8134-980d-41b2-bb49-ef5dc3f52cd4 button.colab-df-convert');\n",
              "      buttonEl.style.display =\n",
              "        google.colab.kernel.accessAllowed ? 'block' : 'none';\n",
              "\n",
              "      async function convertToInteractive(key) {\n",
              "        const element = document.querySelector('#df-092e8134-980d-41b2-bb49-ef5dc3f52cd4');\n",
              "        const dataTable =\n",
              "          await google.colab.kernel.invokeFunction('convertToInteractive',\n",
              "                                                    [key], {});\n",
              "        if (!dataTable) return;\n",
              "\n",
              "        const docLinkHtml = 'Like what you see? Visit the ' +\n",
              "          '<a target=\"_blank\" href=https://colab.research.google.com/notebooks/data_table.ipynb>data table notebook</a>'\n",
              "          + ' to learn more about interactive tables.';\n",
              "        element.innerHTML = '';\n",
              "        dataTable['output_type'] = 'display_data';\n",
              "        await google.colab.output.renderOutput(dataTable, element);\n",
              "        const docLink = document.createElement('div');\n",
              "        docLink.innerHTML = docLinkHtml;\n",
              "        element.appendChild(docLink);\n",
              "      }\n",
              "    </script>\n",
              "  </div>\n",
              "\n",
              "\n",
              "<div id=\"df-e9793522-43be-4ee6-b63f-ff5cc3bf675e\">\n",
              "  <button class=\"colab-df-quickchart\" onclick=\"quickchart('df-e9793522-43be-4ee6-b63f-ff5cc3bf675e')\"\n",
              "            title=\"Suggest charts\"\n",
              "            style=\"display:none;\">\n",
              "\n",
              "<svg xmlns=\"http://www.w3.org/2000/svg\" height=\"24px\"viewBox=\"0 0 24 24\"\n",
              "     width=\"24px\">\n",
              "    <g>\n",
              "        <path d=\"M19 3H5c-1.1 0-2 .9-2 2v14c0 1.1.9 2 2 2h14c1.1 0 2-.9 2-2V5c0-1.1-.9-2-2-2zM9 17H7v-7h2v7zm4 0h-2V7h2v10zm4 0h-2v-4h2v4z\"/>\n",
              "    </g>\n",
              "</svg>\n",
              "  </button>\n",
              "\n",
              "<style>\n",
              "  .colab-df-quickchart {\n",
              "      --bg-color: #E8F0FE;\n",
              "      --fill-color: #1967D2;\n",
              "      --hover-bg-color: #E2EBFA;\n",
              "      --hover-fill-color: #174EA6;\n",
              "      --disabled-fill-color: #AAA;\n",
              "      --disabled-bg-color: #DDD;\n",
              "  }\n",
              "\n",
              "  [theme=dark] .colab-df-quickchart {\n",
              "      --bg-color: #3B4455;\n",
              "      --fill-color: #D2E3FC;\n",
              "      --hover-bg-color: #434B5C;\n",
              "      --hover-fill-color: #FFFFFF;\n",
              "      --disabled-bg-color: #3B4455;\n",
              "      --disabled-fill-color: #666;\n",
              "  }\n",
              "\n",
              "  .colab-df-quickchart {\n",
              "    background-color: var(--bg-color);\n",
              "    border: none;\n",
              "    border-radius: 50%;\n",
              "    cursor: pointer;\n",
              "    display: none;\n",
              "    fill: var(--fill-color);\n",
              "    height: 32px;\n",
              "    padding: 0;\n",
              "    width: 32px;\n",
              "  }\n",
              "\n",
              "  .colab-df-quickchart:hover {\n",
              "    background-color: var(--hover-bg-color);\n",
              "    box-shadow: 0 1px 2px rgba(60, 64, 67, 0.3), 0 1px 3px 1px rgba(60, 64, 67, 0.15);\n",
              "    fill: var(--button-hover-fill-color);\n",
              "  }\n",
              "\n",
              "  .colab-df-quickchart-complete:disabled,\n",
              "  .colab-df-quickchart-complete:disabled:hover {\n",
              "    background-color: var(--disabled-bg-color);\n",
              "    fill: var(--disabled-fill-color);\n",
              "    box-shadow: none;\n",
              "  }\n",
              "\n",
              "  .colab-df-spinner {\n",
              "    border: 2px solid var(--fill-color);\n",
              "    border-color: transparent;\n",
              "    border-bottom-color: var(--fill-color);\n",
              "    animation:\n",
              "      spin 1s steps(1) infinite;\n",
              "  }\n",
              "\n",
              "  @keyframes spin {\n",
              "    0% {\n",
              "      border-color: transparent;\n",
              "      border-bottom-color: var(--fill-color);\n",
              "      border-left-color: var(--fill-color);\n",
              "    }\n",
              "    20% {\n",
              "      border-color: transparent;\n",
              "      border-left-color: var(--fill-color);\n",
              "      border-top-color: var(--fill-color);\n",
              "    }\n",
              "    30% {\n",
              "      border-color: transparent;\n",
              "      border-left-color: var(--fill-color);\n",
              "      border-top-color: var(--fill-color);\n",
              "      border-right-color: var(--fill-color);\n",
              "    }\n",
              "    40% {\n",
              "      border-color: transparent;\n",
              "      border-right-color: var(--fill-color);\n",
              "      border-top-color: var(--fill-color);\n",
              "    }\n",
              "    60% {\n",
              "      border-color: transparent;\n",
              "      border-right-color: var(--fill-color);\n",
              "    }\n",
              "    80% {\n",
              "      border-color: transparent;\n",
              "      border-right-color: var(--fill-color);\n",
              "      border-bottom-color: var(--fill-color);\n",
              "    }\n",
              "    90% {\n",
              "      border-color: transparent;\n",
              "      border-bottom-color: var(--fill-color);\n",
              "    }\n",
              "  }\n",
              "</style>\n",
              "\n",
              "  <script>\n",
              "    async function quickchart(key) {\n",
              "      const quickchartButtonEl =\n",
              "        document.querySelector('#' + key + ' button');\n",
              "      quickchartButtonEl.disabled = true;  // To prevent multiple clicks.\n",
              "      quickchartButtonEl.classList.add('colab-df-spinner');\n",
              "      try {\n",
              "        const charts = await google.colab.kernel.invokeFunction(\n",
              "            'suggestCharts', [key], {});\n",
              "      } catch (error) {\n",
              "        console.error('Error during call to suggestCharts:', error);\n",
              "      }\n",
              "      quickchartButtonEl.classList.remove('colab-df-spinner');\n",
              "      quickchartButtonEl.classList.add('colab-df-quickchart-complete');\n",
              "    }\n",
              "    (() => {\n",
              "      let quickchartButtonEl =\n",
              "        document.querySelector('#df-e9793522-43be-4ee6-b63f-ff5cc3bf675e button');\n",
              "      quickchartButtonEl.style.display =\n",
              "        google.colab.kernel.accessAllowed ? 'block' : 'none';\n",
              "    })();\n",
              "  </script>\n",
              "</div>\n",
              "\n",
              "    </div>\n",
              "  </div>\n"
            ],
            "application/vnd.google.colaboratory.intrinsic+json": {
              "type": "dataframe",
              "variable_name": "df_cleaned"
            }
          },
          "metadata": {},
          "execution_count": 12
        }
      ]
    },
    {
      "cell_type": "code",
      "source": [
        "df_cleaned.info()"
      ],
      "metadata": {
        "colab": {
          "base_uri": "https://localhost:8080/"
        },
        "id": "fugH7N6Ea_TB",
        "outputId": "93582a43-5fb7-444e-b3c3-7a0a6acf1727"
      },
      "execution_count": 13,
      "outputs": [
        {
          "output_type": "stream",
          "name": "stdout",
          "text": [
            "<class 'pandas.core.frame.DataFrame'>\n",
            "RangeIndex: 391510 entries, 0 to 391509\n",
            "Data columns (total 16 columns):\n",
            " #   Column              Non-Null Count   Dtype              \n",
            "---  ------              --------------   -----              \n",
            " 0   customer_id         391510 non-null  int64              \n",
            " 1   customer_name       391510 non-null  object             \n",
            " 2   age                 391510 non-null  int64              \n",
            " 3   gender              391510 non-null  object             \n",
            " 4   country             391510 non-null  object             \n",
            " 5   traffic_source      391510 non-null  object             \n",
            " 6   order_id            371329 non-null  float64            \n",
            " 7   order_created_date  361350 non-null  datetime64[ns, UTC]\n",
            " 8   status              371329 non-null  object             \n",
            " 9   product_id          371329 non-null  float64            \n",
            " 10  product_category    371329 non-null  object             \n",
            " 11  product_name        371308 non-null  object             \n",
            " 12  product_brand       370995 non-null  object             \n",
            " 13  num_of_item         371329 non-null  float64            \n",
            " 14  sale_price          371329 non-null  float64            \n",
            " 15  revenue             371329 non-null  float64            \n",
            "dtypes: datetime64[ns, UTC](1), float64(5), int64(2), object(8)\n",
            "memory usage: 47.8+ MB\n"
          ]
        }
      ]
    },
    {
      "cell_type": "markdown",
      "source": [
        "Check if there are any errors in the writing of the data."
      ],
      "metadata": {
        "id": "IrYCk92U_ZNK"
      }
    },
    {
      "cell_type": "code",
      "source": [
        "for col_name in ['gender', 'country', 'traffic_source', 'status', 'product_category', 'product_name', 'product_brand']:\n",
        "    print(df_cleaned[col_name].value_counts(), '\\n')"
      ],
      "metadata": {
        "colab": {
          "base_uri": "https://localhost:8080/"
        },
        "id": "kWvgC9t5-SpE",
        "outputId": "b31c82f7-10b5-46f8-ff52-3c9afa60602e"
      },
      "execution_count": 14,
      "outputs": [
        {
          "output_type": "stream",
          "name": "stdout",
          "text": [
            "gender\n",
            "F    196033\n",
            "M    195477\n",
            "Name: count, dtype: int64 \n",
            "\n",
            "country\n",
            "China             134002\n",
            "United States      87498\n",
            "Brasil             56817\n",
            "South Korea        20802\n",
            "France             19442\n",
            "United Kingdom     17351\n",
            "Germany            16763\n",
            "Spain              15767\n",
            "Japan               9686\n",
            "Australia           7550\n",
            "Belgium             5032\n",
            "Poland               748\n",
            "Colombia              38\n",
            "Austria               12\n",
            "España                 2\n",
            "Name: count, dtype: int64 \n",
            "\n",
            "traffic_source\n",
            "Search      273215\n",
            "Organic      59080\n",
            "Facebook     23784\n",
            "Email        19821\n",
            "Display      15610\n",
            "Name: count, dtype: int64 \n",
            "\n",
            "status\n",
            "Shipped       111830\n",
            "Complete       92920\n",
            "Processing     73791\n",
            "Cancelled      55698\n",
            "Returned       37090\n",
            "Name: count, dtype: int64 \n",
            "\n",
            "product_category\n",
            "Intimates                        27037\n",
            "Jeans                            25698\n",
            "Tops & Tees                      24502\n",
            "Fashion Hoodies & Sweatshirts    24300\n",
            "Swim                             22970\n",
            "Shorts                           22917\n",
            "Sleep & Lounge                   22880\n",
            "Sweaters                         22618\n",
            "Accessories                      20201\n",
            "Active                           18707\n",
            "Outerwear & Coats                18431\n",
            "Underwear                        15440\n",
            "Pants                            14579\n",
            "Socks                            13206\n",
            "Dresses                          11375\n",
            "Maternity                        10329\n",
            "Suits & Sport Coats              10287\n",
            "Plus                              8853\n",
            "Socks & Hosiery                   7666\n",
            "Pants & Capris                    7154\n",
            "Blazers & Jackets                 6645\n",
            "Leggings                          6599\n",
            "Skirts                            4380\n",
            "Suits                             2207\n",
            "Jumpsuits & Rompers               1893\n",
            "Clothing Sets                      455\n",
            "Name: count, dtype: int64 \n",
            "\n",
            "product_name\n",
            "Wrangler Men's Premium Performance Cowboy Cut Jean                          147\n",
            "7 For All Mankind Men's Standard Classic Straight Leg Jean                  105\n",
            "Wrangler Men's Original Cowboy Cut Relaxed Fit Jean                          80\n",
            "Lucky Brand Mens Men's 361 Vintage Straight Denim Jean                       78\n",
            "True Religion Men's Ricky Straight Jean                                      78\n",
            "                                                                           ... \n",
            "Alice & Trixie Women's Zinnia Dress                                           1\n",
            "Alice & Trixie Women's Mara Dress                                             1\n",
            "New Full 11 Ruffle Drawstring Bridal Petticoat Wedding Gown Slip (112DS)      1\n",
            "180s Men's Admiral Ear Warmer                                                 1\n",
            "ED HARDY Christian Audigier Fancey Geisha Womens Socks                        1\n",
            "Name: count, Length: 27245, dtype: int64 \n",
            "\n",
            "product_brand\n",
            "Allegra K               12603\n",
            "Calvin Klein             6510\n",
            "Carhartt                 5316\n",
            "Hanes                    4029\n",
            "Volcom                   3864\n",
            "                        ...  \n",
            "Swim Station                1\n",
            "BluePrint                   1\n",
            "FASHION BOUTIQUE            1\n",
            "Foot Petals                 1\n",
            "Olive Branch Legwear        1\n",
            "Name: count, Length: 2751, dtype: int64 \n",
            "\n"
          ]
        }
      ]
    },
    {
      "cell_type": "markdown",
      "source": [
        "Check if there are any null data"
      ],
      "metadata": {
        "id": "Qs0XJIeR-sUs"
      }
    },
    {
      "cell_type": "code",
      "source": [
        "df_cleaned.isnull().sum()"
      ],
      "metadata": {
        "colab": {
          "base_uri": "https://localhost:8080/",
          "height": 586
        },
        "id": "1kU5wiF59ZA7",
        "outputId": "cded82a1-9c66-46cc-8825-94e08c654859"
      },
      "execution_count": 15,
      "outputs": [
        {
          "output_type": "execute_result",
          "data": {
            "text/plain": [
              "customer_id               0\n",
              "customer_name             0\n",
              "age                       0\n",
              "gender                    0\n",
              "country                   0\n",
              "traffic_source            0\n",
              "order_id              20181\n",
              "order_created_date    30160\n",
              "status                20181\n",
              "product_id            20181\n",
              "product_category      20181\n",
              "product_name          20202\n",
              "product_brand         20515\n",
              "num_of_item           20181\n",
              "sale_price            20181\n",
              "revenue               20181\n",
              "dtype: int64"
            ],
            "text/html": [
              "<div>\n",
              "<style scoped>\n",
              "    .dataframe tbody tr th:only-of-type {\n",
              "        vertical-align: middle;\n",
              "    }\n",
              "\n",
              "    .dataframe tbody tr th {\n",
              "        vertical-align: top;\n",
              "    }\n",
              "\n",
              "    .dataframe thead th {\n",
              "        text-align: right;\n",
              "    }\n",
              "</style>\n",
              "<table border=\"1\" class=\"dataframe\">\n",
              "  <thead>\n",
              "    <tr style=\"text-align: right;\">\n",
              "      <th></th>\n",
              "      <th>0</th>\n",
              "    </tr>\n",
              "  </thead>\n",
              "  <tbody>\n",
              "    <tr>\n",
              "      <th>customer_id</th>\n",
              "      <td>0</td>\n",
              "    </tr>\n",
              "    <tr>\n",
              "      <th>customer_name</th>\n",
              "      <td>0</td>\n",
              "    </tr>\n",
              "    <tr>\n",
              "      <th>age</th>\n",
              "      <td>0</td>\n",
              "    </tr>\n",
              "    <tr>\n",
              "      <th>gender</th>\n",
              "      <td>0</td>\n",
              "    </tr>\n",
              "    <tr>\n",
              "      <th>country</th>\n",
              "      <td>0</td>\n",
              "    </tr>\n",
              "    <tr>\n",
              "      <th>traffic_source</th>\n",
              "      <td>0</td>\n",
              "    </tr>\n",
              "    <tr>\n",
              "      <th>order_id</th>\n",
              "      <td>20181</td>\n",
              "    </tr>\n",
              "    <tr>\n",
              "      <th>order_created_date</th>\n",
              "      <td>30160</td>\n",
              "    </tr>\n",
              "    <tr>\n",
              "      <th>status</th>\n",
              "      <td>20181</td>\n",
              "    </tr>\n",
              "    <tr>\n",
              "      <th>product_id</th>\n",
              "      <td>20181</td>\n",
              "    </tr>\n",
              "    <tr>\n",
              "      <th>product_category</th>\n",
              "      <td>20181</td>\n",
              "    </tr>\n",
              "    <tr>\n",
              "      <th>product_name</th>\n",
              "      <td>20202</td>\n",
              "    </tr>\n",
              "    <tr>\n",
              "      <th>product_brand</th>\n",
              "      <td>20515</td>\n",
              "    </tr>\n",
              "    <tr>\n",
              "      <th>num_of_item</th>\n",
              "      <td>20181</td>\n",
              "    </tr>\n",
              "    <tr>\n",
              "      <th>sale_price</th>\n",
              "      <td>20181</td>\n",
              "    </tr>\n",
              "    <tr>\n",
              "      <th>revenue</th>\n",
              "      <td>20181</td>\n",
              "    </tr>\n",
              "  </tbody>\n",
              "</table>\n",
              "</div><br><label><b>dtype:</b> int64</label>"
            ]
          },
          "metadata": {},
          "execution_count": 15
        }
      ]
    },
    {
      "cell_type": "markdown",
      "source": [
        "Delete the rows that contain null data in 'revenue' column"
      ],
      "metadata": {
        "id": "inUxgVGm-7LT"
      }
    },
    {
      "cell_type": "code",
      "source": [
        "df_cleaned_revenue = df_cleaned.dropna(subset=['revenue'])"
      ],
      "metadata": {
        "id": "2edw4Sbx-De5"
      },
      "execution_count": 16,
      "outputs": []
    },
    {
      "cell_type": "markdown",
      "source": [
        "Reset the index of the data frame"
      ],
      "metadata": {
        "id": "098FbJpf_FQZ"
      }
    },
    {
      "cell_type": "code",
      "source": [
        "df_cleaned_revenue = df_cleaned_revenue.reset_index(drop=True)"
      ],
      "metadata": {
        "id": "3H2eXP4P-k3z"
      },
      "execution_count": 17,
      "outputs": []
    },
    {
      "cell_type": "code",
      "source": [
        "df_cleaned_revenue.info()"
      ],
      "metadata": {
        "colab": {
          "base_uri": "https://localhost:8080/"
        },
        "id": "LhteQqve-Otq",
        "outputId": "c387c7b9-3cee-4034-fbd2-54421a26b404"
      },
      "execution_count": 18,
      "outputs": [
        {
          "output_type": "stream",
          "name": "stdout",
          "text": [
            "<class 'pandas.core.frame.DataFrame'>\n",
            "RangeIndex: 371329 entries, 0 to 371328\n",
            "Data columns (total 16 columns):\n",
            " #   Column              Non-Null Count   Dtype              \n",
            "---  ------              --------------   -----              \n",
            " 0   customer_id         371329 non-null  int64              \n",
            " 1   customer_name       371329 non-null  object             \n",
            " 2   age                 371329 non-null  int64              \n",
            " 3   gender              371329 non-null  object             \n",
            " 4   country             371329 non-null  object             \n",
            " 5   traffic_source      371329 non-null  object             \n",
            " 6   order_id            371329 non-null  float64            \n",
            " 7   order_created_date  361350 non-null  datetime64[ns, UTC]\n",
            " 8   status              371329 non-null  object             \n",
            " 9   product_id          371329 non-null  float64            \n",
            " 10  product_category    371329 non-null  object             \n",
            " 11  product_name        371308 non-null  object             \n",
            " 12  product_brand       370995 non-null  object             \n",
            " 13  num_of_item         371329 non-null  float64            \n",
            " 14  sale_price          371329 non-null  float64            \n",
            " 15  revenue             371329 non-null  float64            \n",
            "dtypes: datetime64[ns, UTC](1), float64(5), int64(2), object(8)\n",
            "memory usage: 45.3+ MB\n"
          ]
        }
      ]
    },
    {
      "cell_type": "markdown",
      "source": [
        "## Overall Performance"
      ],
      "metadata": {
        "id": "mHeV5k7dVmfe"
      }
    },
    {
      "cell_type": "markdown",
      "source": [
        "### 1. What is the total revenue received by theLook eCommerce?\n",
        "\n",
        "\n",
        "---\n",
        "\n",
        "\n",
        "**$ 36,929,064.9**\n",
        "\n",
        "---\n",
        "\n"
      ],
      "metadata": {
        "id": "Pr5Snlg4VsU3"
      }
    },
    {
      "cell_type": "code",
      "source": [
        "df_cleaned_revenue['revenue'].sum()"
      ],
      "metadata": {
        "colab": {
          "base_uri": "https://localhost:8080/"
        },
        "id": "jJLAZXWTUwJa",
        "outputId": "f4188132-0cbe-418a-f908-fb30bf8d4903"
      },
      "execution_count": 19,
      "outputs": [
        {
          "output_type": "execute_result",
          "data": {
            "text/plain": [
              "36929064.86630914"
            ]
          },
          "metadata": {},
          "execution_count": 19
        }
      ]
    },
    {
      "cell_type": "markdown",
      "source": [
        "### 2. How many customers does theLook eCommerce have?\n",
        "\n",
        "\n",
        "---\n",
        "**100,000**\n",
        "\n",
        "\n",
        "---\n",
        "\n",
        "\n"
      ],
      "metadata": {
        "id": "uka2PCemV-Xl"
      }
    },
    {
      "cell_type": "code",
      "source": [
        "df_cleaned['customer_id'].nunique()"
      ],
      "metadata": {
        "colab": {
          "base_uri": "https://localhost:8080/"
        },
        "id": "4PCz_GWDVLhz",
        "outputId": "fa20517c-31f7-41b6-96c7-2e134ddeb90b"
      },
      "execution_count": 20,
      "outputs": [
        {
          "output_type": "execute_result",
          "data": {
            "text/plain": [
              "100000"
            ]
          },
          "metadata": {},
          "execution_count": 20
        }
      ]
    },
    {
      "cell_type": "markdown",
      "source": [
        "### 3. How many orders does theLook eCommerce have?\n",
        "\n",
        "\n",
        "---\n",
        "**125,056**\n",
        "\n",
        "\n",
        "---\n",
        "\n",
        "\n"
      ],
      "metadata": {
        "id": "X-vK4rQpXOAL"
      }
    },
    {
      "cell_type": "code",
      "source": [
        "df_cleaned['order_id'].nunique()"
      ],
      "metadata": {
        "colab": {
          "base_uri": "https://localhost:8080/"
        },
        "id": "Mp34I3QlVPmm",
        "outputId": "ae43b63b-b162-484c-e7ca-998e148d13db"
      },
      "execution_count": 21,
      "outputs": [
        {
          "output_type": "execute_result",
          "data": {
            "text/plain": [
              "125056"
            ]
          },
          "metadata": {},
          "execution_count": 21
        }
      ]
    },
    {
      "cell_type": "markdown",
      "source": [
        "### 4. How many lost order opportunities does theLook eCommerce have?\n",
        "\n",
        "\n",
        "---\n",
        "**31,337**\n",
        "\n",
        "\n",
        "---\n",
        "\n",
        "\n"
      ],
      "metadata": {
        "id": "VsvBtiouXyXg"
      }
    },
    {
      "cell_type": "code",
      "source": [
        "df_cleaned[df_cleaned['status'].isin(['Cancelled', 'Returned'])]['order_id'].nunique()"
      ],
      "metadata": {
        "colab": {
          "base_uri": "https://localhost:8080/"
        },
        "id": "_0G1HCWVVdRQ",
        "outputId": "9ffdf01c-9846-4721-b311-8e4e886b737a"
      },
      "execution_count": 22,
      "outputs": [
        {
          "output_type": "execute_result",
          "data": {
            "text/plain": [
              "31337"
            ]
          },
          "metadata": {},
          "execution_count": 22
        }
      ]
    },
    {
      "cell_type": "markdown",
      "source": [
        "## Deep Dive Analysis"
      ],
      "metadata": {
        "id": "-s0-287_4NgW"
      }
    },
    {
      "cell_type": "markdown",
      "source": [
        "### 1. What is the annual revenue trend for theLook eCommerce?"
      ],
      "metadata": {
        "id": "IAhLKGxz8H81"
      }
    },
    {
      "cell_type": "code",
      "source": [
        "df_cleaned_revenue['year']=df_cleaned_revenue['order_created_date'].dt.year\n",
        "print(df_cleaned_revenue['year'].unique())"
      ],
      "metadata": {
        "colab": {
          "base_uri": "https://localhost:8080/"
        },
        "id": "01ypnSLqD5pe",
        "outputId": "51f6341e-d951-4ef9-f153-a3229a0f40b5"
      },
      "execution_count": 23,
      "outputs": [
        {
          "output_type": "stream",
          "name": "stdout",
          "text": [
            "[2023. 2024. 2022. 2021. 2020.   nan 2019.]\n"
          ]
        }
      ]
    },
    {
      "cell_type": "code",
      "source": [
        "# Change NaN value in 'year' column to 'Unknown'\n",
        "df_cleaned_revenue['year'] = df_cleaned_revenue['year'].fillna('Unknown')\n",
        "\n",
        "# Convert the 'year' data type that is not 'Unknown' to integer\n",
        "df_cleaned_revenue['year'] = df_cleaned_revenue['year'].apply(lambda x: int(x) if x != 'Unknown' else x)\n",
        "\n",
        "print(df_cleaned_revenue['year'].unique())"
      ],
      "metadata": {
        "colab": {
          "base_uri": "https://localhost:8080/"
        },
        "id": "QYVAT9-AGzhF",
        "outputId": "ee5eaed6-5f8c-4c4f-e052-875bba038261"
      },
      "execution_count": 24,
      "outputs": [
        {
          "output_type": "stream",
          "name": "stdout",
          "text": [
            "[2023 2024 2022 2021 2020 'Unknown' 2019]\n"
          ]
        }
      ]
    },
    {
      "cell_type": "code",
      "source": [
        "annual_revenue = df_cleaned_revenue.groupby('year')['revenue'].sum().round(2)  # Round into two decimal\n",
        "annual_revenue"
      ],
      "metadata": {
        "colab": {
          "base_uri": "https://localhost:8080/",
          "height": 335
        },
        "id": "fxg0E463Vqn_",
        "outputId": "8ca6b7a3-70b2-4ba3-adb6-223f4ae3f010"
      },
      "execution_count": 25,
      "outputs": [
        {
          "output_type": "execute_result",
          "data": {
            "text/plain": [
              "year\n",
              "2019         590099.09\n",
              "2020        1971013.93\n",
              "2021        3671159.85\n",
              "2022        6040028.05\n",
              "2023        9991973.19\n",
              "2024       13635235.59\n",
              "Unknown     1029555.16\n",
              "Name: revenue, dtype: float64"
            ],
            "text/html": [
              "<div>\n",
              "<style scoped>\n",
              "    .dataframe tbody tr th:only-of-type {\n",
              "        vertical-align: middle;\n",
              "    }\n",
              "\n",
              "    .dataframe tbody tr th {\n",
              "        vertical-align: top;\n",
              "    }\n",
              "\n",
              "    .dataframe thead th {\n",
              "        text-align: right;\n",
              "    }\n",
              "</style>\n",
              "<table border=\"1\" class=\"dataframe\">\n",
              "  <thead>\n",
              "    <tr style=\"text-align: right;\">\n",
              "      <th></th>\n",
              "      <th>revenue</th>\n",
              "    </tr>\n",
              "    <tr>\n",
              "      <th>year</th>\n",
              "      <th></th>\n",
              "    </tr>\n",
              "  </thead>\n",
              "  <tbody>\n",
              "    <tr>\n",
              "      <th>2019</th>\n",
              "      <td>590099.09</td>\n",
              "    </tr>\n",
              "    <tr>\n",
              "      <th>2020</th>\n",
              "      <td>1971013.93</td>\n",
              "    </tr>\n",
              "    <tr>\n",
              "      <th>2021</th>\n",
              "      <td>3671159.85</td>\n",
              "    </tr>\n",
              "    <tr>\n",
              "      <th>2022</th>\n",
              "      <td>6040028.05</td>\n",
              "    </tr>\n",
              "    <tr>\n",
              "      <th>2023</th>\n",
              "      <td>9991973.19</td>\n",
              "    </tr>\n",
              "    <tr>\n",
              "      <th>2024</th>\n",
              "      <td>13635235.59</td>\n",
              "    </tr>\n",
              "    <tr>\n",
              "      <th>Unknown</th>\n",
              "      <td>1029555.16</td>\n",
              "    </tr>\n",
              "  </tbody>\n",
              "</table>\n",
              "</div><br><label><b>dtype:</b> float64</label>"
            ]
          },
          "metadata": {},
          "execution_count": 25
        }
      ]
    },
    {
      "cell_type": "code",
      "source": [
        "# Bar chart plot\n",
        "plt.figure(figsize=(8, 4))\n",
        "annual_revenue.plot(kind='bar', color='skyblue')\n",
        "\n",
        "# Adding a title and label\n",
        "plt.title('Annual Revenue')\n",
        "plt.xlabel('Year')\n",
        "plt.ylabel('Revenue')\n",
        "\n",
        "# Change format y-axis in %%M (%% million)\n",
        "def format_million(x, pos):\n",
        "    if x >= 1e6:\n",
        "        return '{:.0f}M'.format(x * 1e-6)\n",
        "    else:\n",
        "        return '{:.0f}'.format(x)\n",
        "\n",
        "formatter = ticker.FuncFormatter(format_million)\n",
        "plt.gca().yaxis.set_major_formatter(formatter)\n",
        "\n",
        "# Show the graph\n",
        "plt.xticks(rotation=45)\n",
        "plt.tight_layout()\n",
        "plt.show()"
      ],
      "metadata": {
        "colab": {
          "base_uri": "https://localhost:8080/",
          "height": 407
        },
        "id": "oHhZpVtYVztu",
        "outputId": "28f851ee-c8eb-4570-c871-c6bfa1f092d1"
      },
      "execution_count": 52,
      "outputs": [
        {
          "output_type": "display_data",
          "data": {
            "text/plain": [
              "<Figure size 800x400 with 1 Axes>"
            ],
            "image/png": "iVBORw0KGgoAAAANSUhEUgAAAxYAAAGGCAYAAADmRxfNAAAAOXRFWHRTb2Z0d2FyZQBNYXRwbG90bGliIHZlcnNpb24zLjcuMSwgaHR0cHM6Ly9tYXRwbG90bGliLm9yZy/bCgiHAAAACXBIWXMAAA9hAAAPYQGoP6dpAABEY0lEQVR4nO3deXiNd/7/8dedRYLIKrY2JJRSlJTqYp+G1NZqq9QoIa0yqGJqSaeorShqabW1DNGZtKilpTPV8bUOtcduhqiQ1L4mEkTk3L8//HKmpwkl58Q5SZ6P6zrX5Xzuz7nP++Qty+vc9+c+hmmapgAAAADADm7OLgAAAABAwUewAAAAAGA3ggUAAAAAuxEsAAAAANiNYAEAAADAbgQLAAAAAHYjWAAAAACwG8ECAAAAgN0IFgAAAADsRrAAAOS72NhYGYah48ePO7sUAEA+IVgAgAv77LPPZBiGnnrqKWeX8kB88MEHMgzDevP09FRoaKj69++vK1euOLs8AMBdeDi7AADAncXFxSk0NFTbt2/X0aNH9cgjjzi7pAfi888/l4+Pj9LT07VmzRp98sknio+P16ZNm5xdGgDgDjhiAQAuKjExUT/99JM+/vhjBQcHKy4uztklPTAdOnTQ66+/rl69emnx4sXq1KmTNm/erO3btzu7NADAHRAsAMBFxcXFKSAgQG3atFGHDh1yDRbHjx+XYRiaPHmyZs+erSpVqsjLy0tPPvmkduzYYTO3e/fu8vHx0cmTJ9W+fXv5+PgoODhY7777rrKysqzz1q9fL8MwtH79+lyfKzY21jq2b98+de/eXZUrV5a3t7fKlSun6OhoXbx40aFfi8aNG0uSfv75Z5vxbdu26fnnn5efn59KlCihpk2bavPmzdbtS5YskWEY2rBhQ459zpo1S4Zh6MCBA9ax//73v+rQoYMCAwPl7e2t+vXra8WKFTaPy14vsnnzZg0aNEjBwcEqWbKkXnrpJZ0/f95mrmEY+uCDD3I8d2hoqLp3724zduXKFQ0YMEAhISHy8vLSI488ookTJ8pisdzT1wgAnI1gAQAuKi4uTi+//LKKFSumzp07KyEhIUdYyPbVV19p0qRJ6tWrl8aOHavjx4/r5ZdfVmZmps28rKwsRUZGKigoSJMnT1bTpk01ZcoUzZ49O081rl69WseOHVOPHj30ySef6LXXXtPChQvVunVrmaaZp33mJnvRd0BAgHVs7dq1atKkiVJTUzVy5Eh9+OGHunLliv7whz9Yj2y0adNGPj4+Wrx4cY59Llq0SDVr1lStWrUkSQcPHtTTTz+t//znPxo2bJimTJmikiVLqn379lq+fHmOx7/99tvau3evRo4cqT/96U9auXKl+vXrl6fXd+3aNTVt2lR///vf1a1bN82YMUMNGzZUTEyMBg0alKd9AsADZwIAXM7OnTtNSebq1atN0zRNi8ViPvzww+Y777xjMy8xMdGUZAYFBZmXLl2yjn/33XemJHPlypXWsaioKFOSOXr0aJt9hIeHm/Xq1bPeX7dunSnJXLduXa7PNX/+fOvYtWvXctT+9ddfm5LMjRs3Wsfmz59vSjITExPv+rpHjhxpSjIPHz5snj9/3jx+/Lg5b948s3jx4mZwcLCZnp5u/XpUrVrVjIyMNC0Wi009YWFhZosWLaxjnTt3NsuUKWPeunXLOnb69GnTzc3N5mvx3HPPmbVr1zZv3LhhHbNYLOazzz5rVq1aNcdriYiIsHnugQMHmu7u7uaVK1esY5LMkSNH5nidlSpVMqOioqz3x4wZY5YsWdI8cuSIzbxhw4aZ7u7uZlJS0l2/bgDgCjhiAQAuKC4uTmXLllXz5s0l3T6lplOnTlq4cKHNaUvZOnXqZPNufvapQ8eOHcsxt3fv3jb3GzdunOu8e1G8eHHrv2/cuKELFy7o6aefliTFx8fnaZ+S9Oijjyo4OFihoaGKjo7WI488oh9++EElSpSQJO3Zs0cJCQn64x//qIsXL+rChQu6cOGC0tPT9dxzz2njxo3WU4g6deqkc+fO2ZzatWTJElksFnXq1EmSdOnSJa1du1YdO3bU1atXrfu7ePGiIiMjlZCQoJMnT9rU+NZbb8kwDOv9xo0bKysrSydOnLjv1/vNN9+ocePGCggIsD73hQsXFBERoaysLG3cuPG+9wkADxpXhQIAF5OVlaWFCxeqefPmSkxMtI4/9dRTmjJlitasWaOWLVvaPKZixYo297NDxuXLl23Gvb29FRwcnGPub+fdq0uXLmnUqFFauHChzp07Z7MtJSUlT/uUpKVLl8rX11fnz5/XjBkzlJiYaBNiEhISJElRUVF33EdKSooCAgKsazAWLVqk5557TtLt06Dq1q2ratWqSZKOHj0q0zQ1fPhwDR8+PNf9nTt3Tg899JD1/r1+ze9FQkKC9u3bl6M3v35uAHB1BAsAcDFr167V6dOntXDhQi1cuDDH9ri4uBzBwt3dPdd9mb9Z53Cneb/263fhfy23IyUdO3bUTz/9pMGDB6tu3bry8fGRxWLR888/b9ei4yZNmqh06dKSpHbt2ql27drq0qWLdu3aJTc3N+u+J02apLp16+a6Dx8fH0mSl5eXdZ3EZ599prNnz2rz5s368MMPrXOz9/fuu+8qMjIy1/399lK/9/o1z81vv5YWi0UtWrTQkCFDcp2fHYAAwJURLADAxcTFxalMmTKaOXNmjm3Lli3T8uXL9cUXX9i8g+9I2e+8//YD6X57is/ly5e1Zs0ajRo1SiNGjLCOZx9NcBQfHx+NHDlSPXr00OLFi/Xaa6+pSpUqkiRfX19FRET87j46deqkBQsWaM2aNfrPf/4j0zStp0FJUuXKlSVJnp6e97S/exUQEJDj63jz5k2dPn3aZqxKlSpKS0tz6HMDwIPGGgsAcCHXr1/XsmXL1LZtW3Xo0CHHrV+/frp69WqOS6A6UqVKleTu7p7jvP7PPvvM5n72O/a/fYd+2rRpDq+pS5cuevjhhzVx4kRJUr169VSlShVNnjxZaWlpOeb/9rKvERERCgwM1KJFi7Ro0SI1aNBAYWFh1u1lypRRs2bNNGvWrBx/9Oe2v3tVpUqVHF/H2bNn5zhi0bFjR23ZskU//vhjjn1cuXJFt27dytPzA8CDxBELAHAhK1as0NWrV/XCCy/kuv3pp5+2fljer99xdyQ/Pz+9+uqr+uSTT2QYhqpUqaLvv/8+x3n+vr6+atKkiT766CNlZmbqoYce0r/+9S+bdSGO4unpqXfeeUeDBw/WqlWr9Pzzz2vu3Llq1aqVatasqR49euihhx7SyZMntW7dOvn6+mrlypU2j3/55Ze1cOFCpaena/LkyTmeY+bMmWrUqJFq166tnj17qnLlyjp79qy2bNmiX375RXv37r3vut9880317t1br7zyilq0aKG9e/fqxx9/tJ7mlW3w4MFasWKF2rZtq+7du6tevXpKT0/X/v37tWTJEh0/fjzHYwDA1RAsAMCFxMXFydvbWy1atMh1u5ubm9q0aaO4uDiHfwjdr33yySfKzMzUF198IS8vL3Xs2FGTJk2yfuZDtq+++kpvv/22Zs6cKdM01bJlS/3www+qUKGCw2t66623NHbsWE2YMEHPP/+8mjVrpi1btmjMmDH69NNPlZaWpnLlyumpp55Sr169cjy+U6dOmjt3rgzDUMeOHXNsf+yxx7Rz506NGjVKsbGxunjxosqUKaPw8HCbU73uR8+ePZWYmKi//vWvWrVqlRo3bqzVq1dbF5FnK1GihDZs2KAPP/xQ33zzjb788kv5+vqqWrVqGjVqlPz8/PL0/ADwIBnmvawyAwAAAIC7YI0FAAAAALsRLAAAAADYjWABAAAAwG4ECwAAAAB2I1gAAAAAsBvBAgAAAIDd+ByL37BYLDp16pRKlSolwzCcXQ4AAADgNKZp6urVq6pQoYLc3O5+TIJg8RunTp1SSEiIs8sAAAAAXEZycrIefvjhu84hWPxGqVKlJN3+4vn6+jq5GgAAAMB5UlNTFRISYv0b+W6cGiw2btyoSZMmadeuXTp9+rSWL1+u9u3b5zq3d+/emjVrlqZOnaoBAwZYx7NPV9qyZYuefvpp63hGRoYqVKigS5cuad26dWrWrNk91ZS9P19fX4IFAAAAIN3TEgGnLt5OT09XnTp1NHPmzLvOW758ubZu3aoKFSrkuj0kJETz58/P8RgfHx+H1QoAAADgzpwaLFq1aqWxY8fqpZdeuuOckydP6u2331ZcXJw8PT1znRMVFaWFCxfq+vXr1rF58+YpKirK4TUDAAAAyMmlLzdrsVjUtWtXDR48WDVr1rzjvHr16ik0NFRLly6VJCUlJWnjxo3q2rXr7z5HRkaGUlNTbW4AAAAA7o9LB4uJEyfKw8ND/fv3/9250dHRmjdvniQpNjZWrVu3VnBw8O8+bvz48fLz87PeuCIUAAAAcP9cNljs2rVL06dPV2xs7D0tFnn99de1ZcsWHTt2TLGxsYqOjr6n54mJiVFKSor1lpycbG/pAAAAQJHjssHi3//+t86dO6eKFSvKw8NDHh4eOnHihP785z8rNDQ0x/ygoCC1bdtWb7zxhm7cuKFWrVrd0/N4eXlZrwDFlaAAAACAvHHZz7Ho2rWrIiIibMYiIyPVtWtX9ejRI9fHREdHq3Xr1ho6dKjc3d0fRJkAAAAA5ORgkZaWpqNHj1rvJyYmas+ePQoMDFTFihUVFBRkM9/T01PlypXTo48+muv+nn/+eZ0/f56jDgAAAMAD5tRgsXPnTjVv3tx6f9CgQZJuXz42Njb2vvdnGIZKly7tqPIAAAAA3COnBotmzZrJNM17nn/8+PEcY3d7vL+//33tHwAAAEDeuOwaCwAAgIJuwu4Lzi7BYYaFc1YI7s5lrwoFAAAAoOAgWAAAAACwG8ECAAAAgN0IFgAAAADsRrAAAAAAYDeCBQAAAAC7ESwAAAAA2I1gAQAAAMBuBAsAAAAAdiNYAAAAALAbwQIAAACA3QgWAAAAAOxGsAAAAABgN4IFAAAAALsRLAAAAADYjWABAAAAwG4ECwAAAAB2I1gAAAAAsBvBAgAAAIDdCBYAAAAA7EawAAAAAGA3ggUAAAAAuxEsAAAAANiNYAEAAADAbk4NFhs3blS7du1UoUIFGYahb7/91rotMzNTQ4cOVe3atVWyZElVqFBB3bp106lTp2z2YRiGDMPQ1q1bbcYzMjIUFBQkwzC0fv36B/BqAAAAgKLLqcEiPT1dderU0cyZM3Nsu3btmuLj4zV8+HDFx8dr2bJlOnz4sF544YUcc0NCQjR//nybseXLl8vHxyffagcAAADwPx7OfPJWrVqpVatWuW7z8/PT6tWrbcY+/fRTNWjQQElJSapYsaJ1PCoqSjNmzNC0adNUvHhxSdK8efMUFRWlMWPG5N8LAAAAACCpgK2xSElJkWEY8vf3txmvV6+eQkNDtXTpUklSUlKSNm7cqK5duzqhSgAAAKDoKTDB4saNGxo6dKg6d+4sX1/fHNujo6M1b948SVJsbKxat26t4ODg391vRkaGUlNTbW4AAAAA7k+BCBaZmZnq2LGjTNPU559/nuuc119/XVu2bNGxY8cUGxur6Ojoe9r3+PHj5efnZ72FhIQ4snQAAACgSHD5YJEdKk6cOKHVq1fnerRCkoKCgtS2bVu98cYbunHjxh3XbvxWTEyMUlJSrLfk5GRHlg8AAAAUCU5dvP17skNFQkKC1q1bp6CgoLvOj46OVuvWrTV06FC5u7vf03N4eXnJy8vLEeUCAAAARZZTg0VaWpqOHj1qvZ+YmKg9e/YoMDBQ5cuXV4cOHRQfH6/vv/9eWVlZOnPmjCQpMDBQxYoVy7G/559/XufPn7/jUQ0AAAAA+cOpwWLnzp1q3ry59f6gQYMk3b587AcffKAVK1ZIkurWrWvzuHXr1qlZs2Y59mcYhkqXLp1v9QIAAADInVODRbNmzWSa5h23323bvczx9/e/p30AAAAAsI/LL94GAAAA4PoIFgAAAADsRrAAAAAAYDeCBQAAAAC7ESwAAAAA2I1gAQAAAMBuBAsAAAAAdiNYAAAAALAbwQIAAACA3QgWAAAAAOxGsAAAAABgN4IFAAAAALsRLAAAAADYjWABAAAAwG4ECwAAAAB2I1gAAAAAsBvBAgAAAIDdCBYAAAAA7EawAAAAAGA3ggUAAAAAuxEsAAAAANiNYAEAAADAbgQLAAAAAHYjWAAAAACwG8ECAAAAgN0IFgAAAADs5tRgsXHjRrVr104VKlSQYRj69ttvbbabpqkRI0aofPnyKl68uCIiIpSQkGAzxzAMGYahrVu32oxnZGQoKChIhmFo/fr1+fxKAAAAgKLNqcEiPT1dderU0cyZM3Pd/tFHH2nGjBn64osvtG3bNpUsWVKRkZG6ceOGzbyQkBDNnz/fZmz58uXy8fHJt9oBAAAA/I9Tg0WrVq00duxYvfTSSzm2maapadOm6f3339eLL76oxx9/XF9++aVOnTqV48hGVFSUFi5cqOvXr1vH5s2bp6ioqPx+CQAAAADkwmssEhMTdebMGUVERFjH/Pz89NRTT2nLli02c+vVq6fQ0FAtXbpUkpSUlKSNGzeqa9euD7RmAAAAoKhy2WBx5swZSVLZsmVtxsuWLWvd9mvR0dGaN2+eJCk2NlatW7dWcHDw7z5PRkaGUlNTbW4AAAAA7o+HswtwlNdff13Dhg3TsWPHFBsbqxkzZtzT48aPH69Ro0blc3UAAOS/CbsvOLsEhxgWXtrZJQDIA5c9YlGuXDlJ0tmzZ23Gz549a932a0FBQWrbtq3eeOMN3bhxQ61atbqn54mJiVFKSor1lpycbH/xAAAAQBHjssEiLCxM5cqV05o1a6xjqamp2rZtm5555plcHxMdHa3169erW7ducnd3v6fn8fLykq+vr80NAAAAwP1x6qlQaWlpOnr0qPV+YmKi9uzZo8DAQFWsWFEDBgzQ2LFjVbVqVYWFhWn48OGqUKGC2rdvn+v+nn/+eZ0/f55wAAAAADxgTg0WO3fuVPPmza33Bw0aJOn25WNjY2M1ZMgQpaen66233tKVK1fUqFEjrVq1St7e3rnuzzAMlS7NeZkAAADAg+bUYNGsWTOZpnnH7YZhaPTo0Ro9evQd59zt8f7+/nfdDgAAAMAxXHaNBQAAAICCg2ABAAAAwG4ECwAAAAB2I1gAAAAAsBvBAgAAAIDdCBYAAAAA7EawAAAAAGA3ggUAAAAAuxEsAAAAANiNYAEAAADAbgQLAAAAAHYjWAAAAACwG8ECAAAAgN0IFgAAAADsRrAAAAAAYDeCBQAAAAC7ESwAAAAA2I1gAQAAAMBuBAsAAAAAdstzsLhy5Yrmzp2rmJgYXbp0SZIUHx+vkydPOqw4AAAAAAWDR14etG/fPkVERMjPz0/Hjx9Xz549FRgYqGXLlikpKUlffvmlo+sEAAAA4MLydMRi0KBB6t69uxISEuTt7W0db926tTZu3Oiw4gAAAAAUDHkKFjt27FCvXr1yjD/00EM6c+aM3UUBAAAAKFjyFCy8vLyUmpqaY/zIkSMKDg62uygAAAAABUuegsULL7yg0aNHKzMzU5JkGIaSkpI0dOhQvfLKKw4tEAAAAIDry1OwmDJlitLS0lSmTBldv35dTZs21SOPPKJSpUpp3Lhxjq4RAAAAgIvLU7Dw8/PT6tWrtXLlSs2YMUP9+vXTP//5T23YsEElS5Z0WHFZWVkaPny4wsLCVLx4cVWpUkVjxoyRaZrWOc2aNZNhGJowYUKOx7dp00aGYeiDDz5wWE0AAAAAcsrT5WazNWrUSI0aNXJULTlMnDhRn3/+uRYsWKCaNWtq586d6tGjh/z8/NS/f3/rvJCQEMXGxmrYsGHWsZMnT2rNmjUqX758vtUHAAAA4LY8BYvRo0ffdfuIESPyVMxv/fTTT3rxxRfVpk0bSVJoaKi+/vprbd++3WZe27ZttXjxYm3evFkNGzaUJC1YsEAtW7ZUUlKSQ2oBAAAAcGd5ChbLly+3uZ+ZmanExER5eHioSpUqDgsWzz77rGbPnq0jR46oWrVq2rt3rzZt2qSPP/7YZl6xYsXUpUsXzZ8/3xosYmNj9dFHH/3uaVAZGRnKyMiw3s/talcAAAAA7i5PwWL37t05xlJTU9W9e3e99NJLdheVbdiwYUpNTVX16tXl7u6urKwsjRs3Tl26dMkxNzo6Wo0bN9b06dO1a9cupaSkqG3btr8bLMaPH69Ro0Y5rGYAAACgKMrT4u3c+Pr6atSoURo+fLijdqnFixcrLi5OX331leLj47VgwQJNnjxZCxYsyDG3Tp06qlq1qpYsWaJ58+apa9eu8vD4/dwUExOjlJQU6y05Odlh9QMAAABFhV2Lt38r+49zRxk8eLCGDRum1157TZJUu3ZtnThxQuPHj1dUVFSO+dHR0Zo5c6YOHTqUYx3GnXh5ecnLy8thNQMAAABFUZ6CxYwZM2zum6ap06dP629/+5tatWrlkMIk6dq1a3Jzsz2o4u7uLovFkuv8P/7xj3r33XdVp04dPfbYYw6rAwAAAMDd5SlYTJ061ea+m5ubgoODFRUVpZiYGIcUJknt2rXTuHHjVLFiRdWsWVO7d+/Wxx9/rOjo6FznBwQE6PTp0/L09HRYDQAAAAB+X56CRWJioqPryNUnn3yi4cOHq0+fPjp37pwqVKigXr163fWqU/7+/g+kNgAAAAD/49A1Fo5WqlQpTZs2TdOmTbvjnPXr1991H3v27HFoTQAAAAByylOwSE9P14QJE7RmzRqdO3cux5qHY8eOOaQ4AAAAAAVDnoLFm2++qQ0bNqhr164qX768DMNwdF0AAAAACpA8BYsffvhB//jHP6yfcg0AAACgaMvTB+QFBAQoMDDQ0bUAAAAAKKDyFCzGjBmjESNG6Nq1a46uBwAAAEABlKdToaZMmaKff/5ZZcuWVWhoaI7PjYiPj3dIcQAAAAAKhjwFi/bt2zu4DAAAAAAFWZ6CxciRIx1dBwAAAIACLE9rLCTpypUrmjt3rmJiYnTp0iVJt0+BOnnypMOKAwAAAFAw5OmIxb59+xQRESE/Pz8dP35cPXv2VGBgoJYtW6akpCR9+eWXjq4TAAAAgAvL0xGLQYMGqXv37kpISJC3t7d1vHXr1tq4caPDigMAAABQMOQpWOzYsUO9evXKMf7QQw/pzJkzdhcFAAAAoGDJU7Dw8vJSampqjvEjR44oODjY7qIAAAAAFCx5ChYvvPCCRo8erczMTEmSYRhKSkrS0KFD9corrzi0QAAAAACuL0/BYsqUKUpLS1OZMmV0/fp1NW3aVI888ohKlSqlcePGObpGAAAAAC4uT1eF8vPz0+rVq7Vp0ybt27dPaWlpeuKJJxQREeHo+gAAAAAUAHkKFsnJyQoJCVGjRo3UqFEjR9cEAAAAoIDJ06lQoaGhatq0qebMmaPLly87uiYAAAAABUyegsXOnTvVoEEDjR49WuXLl1f79u21ZMkSZWRkOLo+AAAAAAVAnoJFeHi4Jk2apKSkJP3www8KDg7WW2+9pbJlyyo6OtrRNQIAAABwcXkKFtkMw1Dz5s01Z84c/d///Z/CwsK0YMECR9UGAAAAoICwK1j88ssv+uijj1S3bl01aNBAPj4+mjlzpqNqAwAAAFBA5OmqULNmzdJXX32lzZs3q3r16urSpYu+++47VapUydH1AQAAACgA8hQsxo4dq86dO2vGjBmqU6eOo2sCAAAAUMDkKVgkJSXJMAxH1wIAAACggMrTGgvDMPTvf/9br7/+up555hmdPHlSkvS3v/1NmzZtcmiBAAAAAFxfnoLF0qVLFRkZqeLFi2v37t3Wz69ISUnRhx9+6NACT548qddff11BQUEqXry4ateurZ07d1q3N2vWTIZhaMKECTke26ZNGxmGoQ8++MChNQEAAACwladgMXbsWH3xxReaM2eOPD09reMNGzZUfHy8w4q7fPmyGjZsKE9PT/3www86dOiQpkyZooCAAJt5ISEhio2NtRk7efKk1qxZo/LlyzusHgAAAAC5y9Mai8OHD6tJkyY5xv38/HTlyhV7a7KaOHGiQkJCNH/+fOtYWFhYjnlt27bV4sWLtXnzZjVs2FCStGDBArVs2VJJSUkOqwcAAABA7vIULMqVK6ejR48qNDTUZnzTpk2qXLmyI+qSJK1YsUKRkZF69dVXtWHDBj300EPq06ePevbsaTOvWLFi6tKli+bPn28NFrGxsfroo49+9zSojIwM66lckpSamuqw+gGgsJqw+4KzS3CYYeGlnV0CABQKeToVqmfPnnrnnXe0bds2GYahU6dOKS4uTn/+85/1pz/9yWHFHTt2TJ9//rmqVq2qH3/8UX/605/Uv3//XD/dOzo6WosXL1Z6ero2btyolJQUtW3b9nefY/z48fLz87PeQkJCHFY/AAAAUFTk6YjFsGHDZLFY9Nxzz+natWtq0qSJvLy8NHjwYL355psOK85isah+/frWBeHh4eE6cOCAvvjiC0VFRdnMrVOnjqpWraolS5Zo3bp16tq1qzw8fv/lxcTEaNCgQdb7qamphAsAAADgPuX5crN/+ctfdOnSJR04cEBbt27V+fPn5efnl+saiLwqX768HnvsMZuxGjVq3HHdRHR0tGbOnKklS5YoOjr6np7Dy8tLvr6+NjcAAAAA9+e+gkVGRoZiYmJUv359NWzYUP/85z/12GOP6eDBg3r00Uc1ffp0DRw40GHFNWzYUIcPH7YZO3LkiCpVqpTr/D/+8Y/av3+/atWqlSOQAAAAAMg/93Uq1IgRIzRr1ixFRETop59+0quvvqoePXpo69atmjJlil599VW5u7s7rLiBAwfq2Wef1YcffqiOHTtq+/btmj17tmbPnp3r/ICAAJ0+fdrmErgAAAAA8t99BYtvvvlGX375pV544QUdOHBAjz/+uG7duqW9e/fKMAyHF/fkk09q+fLliomJ0ejRoxUWFqZp06apS5cud3yMv7+/w+sAAAAAcHf3FSx++eUX1atXT5JUq1YteXl5aeDAgfkSKrK1bdv2rld3Wr9+/V0fv2fPHscWBAAAACCH+1pjkZWVpWLFilnve3h4yMfHx+FFAQAAAChY7uuIhWma6t69u7y8vCRJN27cUO/evVWyZEmbecuWLXNchQAAAABc3n0Fi99+dsTrr7/u0GIAAAAAFEz3FSzmz5+fX3UAAAAAKMDy9AF5AAAAAPBrBAsAAAAAdiNYAAAAALAbwQIAAACA3QgWAAAAAOxGsAAAAABgN4IFAAAAALsRLAAAAADYjWABAAAAwG4ECwAAAAB2I1gAAAAAsBvBAgAAAIDdCBYAAAAA7EawAAAAAGA3ggUAAAAAuxEsAAAAANiNYAEAAADAbgQLAAAAAHYjWAAAAACwG8ECAAAAgN0IFgAAAADsVqCCxYQJE2QYhgYMGGAdCw0NlWEYWrhwYY75NWvWlGEYio2NfXBFAgAAAEVQgQkWO3bs0KxZs/T444/n2BYSEqL58+fbjG3dulVnzpxRyZIlH1SJAAAAQJFVIIJFWlqaunTpojlz5iggICDH9i5dumjDhg1KTk62js2bN09dunSRh4fHgywVAAAAKJIKRLDo27ev2rRpo4iIiFy3ly1bVpGRkVqwYIEk6dq1a1q0aJGio6MfZJkAAABAkeXywWLhwoWKj4/X+PHj7zovOjpasbGxMk1TS5YsUZUqVVS3bt3f3X9GRoZSU1NtbgAAAADuj0sHi+TkZL3zzjuKi4uTt7f3Xee2adNGaWlp2rhxo+bNm3fPRyvGjx8vPz8/6y0kJMQRpQMAAABFiksHi127duncuXN64okn5OHhIQ8PD23YsEEzZsyQh4eHsrKyrHM9PDzUtWtXjRw5Utu2bVOXLl3u6TliYmKUkpJivf16nQYAAACAe+PSK5ufe+457d+/32asR48eql69uoYOHSp3d3ebbdHR0Zo8ebI6deqU6yLv3Hh5ecnLy8thNQMAAABFkUsHi1KlSqlWrVo2YyVLllRQUFCOcUmqUaOGLly4oBIlSjyoEgEAAADIxYNFXgQFBTm7BAAAAKDIKXDBYv369Tb3jx8/ftf5V65cybdaAAAAANxW4IIFgKJlwu4Lzi7BYYaFl3Z2CQAA5BuXvioUAAAAgIKBYAEAAADAbgQLAAAAAHYjWAAAAACwG8ECAAAAgN0IFgAAAADsRrAAAAAAYDeCBQAAAAC7ESwAAAAA2I1gAQAAAMBuBAsAAAAAdiNYAAAAALAbwQIAAACA3QgWAAAAAOxGsAAAAABgN4IFAAAAALsRLAAAAADYjWABAAAAwG4ECwAAAAB2I1gAAAAAsBvBAgAAAIDdCBYAAAAA7EawAAAAAGA3ggUAAAAAuxEsAAAAANjNpYPF+PHj9eSTT6pUqVIqU6aM2rdvr8OHD9vMCQ0NlWEYWrhwYY7H16xZU4ZhKDY29gFVDAAAABRNLh0sNmzYoL59+2rr1q1avXq1MjMz1bJlS6Wnp9vMCwkJ0fz5823Gtm7dqjNnzqhkyZIPsmQAAACgSHLpYLFq1Sp1795dNWvWVJ06dRQbG6ukpCTt2rXLZl6XLl20YcMGJScnW8fmzZunLl26yMPD40GXDQAAABQ5Lh0sfislJUWSFBgYaDNetmxZRUZGasGCBZKka9euadGiRYqOjn7gNQIAAABFUYEJFhaLRQMGDFDDhg1Vq1atHNujo6MVGxsr0zS1ZMkSValSRXXr1v3d/WZkZCg1NdXmBgAAAOD+FJjzhPr27asDBw5o06ZNuW5v06aNevXqpY0bN2revHn3fLRi/PjxGjVqlCNLRQE2YfcFZ5fgMMPCSzu7BAAAUIQUiCMW/fr10/fff69169bp4YcfznWOh4eHunbtqpEjR2rbtm3q0qXLPe07JiZGKSkp1tuv12kAAAAAuDcuHSxM01S/fv20fPlyrV27VmFhYXedHx0drQ0bNujFF19UQEDAPT2Hl5eXfH19bW4AAAAA7o9LnwrVt29fffXVV/ruu+9UqlQpnTlzRpLk5+en4sWL55hfo0YNXbhwQSVKlHjQpQIAAABFmksfsfj888+VkpKiZs2aqXz58tbbokWL7viYoKCgXEMHAAAAgPzj0kcsTNP83TnHjx+/6/YrV644phgAAAAAd+TSRywAAAAAFAwECwAAAAB2I1gAAAAAsBvBAgAAAIDdCBYAAAAA7EawAAAAAGA3ggUAAAAAuxEsAAAAANiNYAEAAADAbgQLAAAAAHYjWAAAAACwm4ezCwAAAAAepAm7Lzi7BIcZFl7a2SVYccQCAAAAgN0IFgAAAADsRrAAAAAAYDeCBQAAAAC7ESwAAAAA2I1gAQAAAMBuBAsAAAAAduNzLJyE6ycDAACgMOGIBQAAAAC7ESwAAAAA2I1gAQAAAMBuBAsAAAAAdiNYAAAAALAbwQIAAACA3QplsJg5c6ZCQ0Pl7e2tp556Stu3b3d2SQAAAEChVuiCxaJFizRo0CCNHDlS8fHxqlOnjiIjI3Xu3DlnlwYAAAAUWoUuWHz88cfq2bOnevTooccee0xffPGFSpQooXnz5jm7NAAAAKDQKlSfvH3z5k3t2rVLMTEx1jE3NzdFRERoy5YtuT4mIyNDGRkZ1vspKSmSpNTU1Hyt9Uba1Xzd/4OUmlrM2SU4DH1xPfTENdEX11RY+kJPXBN9cU353Zfsv4lN0/zduYUqWFy4cEFZWVkqW7aszXjZsmX13//+N9fHjB8/XqNGjcoxHhISki81FkY5v3pwBfTF9dAT10RfXA89cU30xTU9qL5cvXpVfn5+d51TqIJFXsTExGjQoEHW+xaLRZcuXVJQUJAMw3BiZfZLTU1VSEiIkpOT5evr6+xyIHriquiL66Enrom+uCb64noKU09M09TVq1dVoUKF351bqIJF6dKl5e7urrNnz9qMnz17VuXKlcv1MV5eXvLy8rIZ8/f3z68SncLX17fA/6cubOiJa6IvroeeuCb64proi+spLD35vSMV2QrV4u1ixYqpXr16WrNmjXXMYrFozZo1euaZZ5xYGQAAAFC4FaojFpI0aNAgRUVFqX79+mrQoIGmTZum9PR09ejRw9mlAQAAAIVWoQsWnTp10vnz5zVixAidOXNGdevW1apVq3Is6C4KvLy8NHLkyBynesF56Ilroi+uh564JvrimuiL6ymqPTHMe7l2FAAAAADcRaFaYwEAAADAOQgWAAAAAOxGsAAAAABgN4IFAAAAALsRLAAAAADYjWBRhHFBMACAI/F7xTVZLBZnl4AigmBRBN26dUvS/34B8APHNfz2FzK/oAEUFFlZWZL4ueVqLly4IElyc3Oz9gjIT3yORRHzn//8R5988onOnz+vChUq6LXXXtMzzzzj7LKKvMOHDysuLk5JSUlq1KiRGjVqpOrVq8tiscjNjfzvDGfPnlVKSoqqVavm7FLwK4mJifrxxx915MgRtWrVSuHh4SpdurSzyyrSjhw5os8//1xJSUmqU6eOunbtqrCwMGeXVeQdOXJE9evX12uvvabZs2dLuh0A3d3dnVwZ7pVpmjIMw2bM1f8ucN3K4HAHDx5Uw4YNZZqmgoODdfbsWTVp0kRz585Venq6s8srsg4dOqSnnnpKhw4dUkJCgubOnasWLVpozZo1cnNz4x1AJ/jPf/6jBg0aaPjw4Tp48KCzy8H/t3//fjVq1EgrVqzQ999/r7ffflvz5s2TxWLh+8RJ9u/fr2effVaXL1+WxWLRDz/8oK+//lqmadITJzt06JCKFy+u/fv3q1evXpIkd3d3zlIoILJDxYYNGzRp0iSNGTNGaWlpLh0qJIJFkZGRkaGRI0fq9ddf1+eff67PPvtMU6dO1SOPPKK+fftq1qxZkjiM/aBlZWVp/Pjxatu2rZYsWaLNmzfriy++UGRkpCIjI/WPf/xDhmHwi+ABOnXqlN58800FBATo+PHjmjp1qg4cOODssoq8EydO6JVXXlH37t313Xff6ciRI3rppZc0Z84c3bx5M8e7esh/x44dU7t27dS7d2/FxsZq+fLlqlmzps6ePSvDMDj1xsm8vLzk7++v9u3ba8uWLerdu7ek26dFpaWlObk6/B7DMLRy5UpFRkZqxYoV+vTTT/XEE09o+/btzi7trggWRURmZqYSEhJUs2ZNSbfXWZQvX14NGzZURESE3n33XesfsXhwLBaLkpOTFRISYh2rW7euxo8fr7feeksdOnTQ1q1bXf4disLkv//9r0qVKqUFCxaoT58+2r17t6ZNm0a4cKKsrCx99913Cg8P19tvv239fhgwYIBu3ryphIQEJ1dY9GRlZWn16tV67rnn9Oc//9n6plTx4sV14MABNWvWTD169NBPP/3k5EqLrtq1a6tevXp688031aNHD23ZskV//vOfFR0drbi4OGVmZjq7ROQi+3spPT1dK1as0BdffKF169YpISFBlStX1ssvv6zNmzc7uco746+VIsLLy0uVKlXSjh07lJqaKg8PD504cULfffedBgwYoKioKI0fP17Xrl1zdqlFiqenp2rVqqUNGzbo8uXL1vHg4GDFxMSoTZs2GjNmjFJTU51YZdHy7LPPauTIkapTp46ioqLUr18/a7jYv3+/dR5H9x4cd3d3+fn5qWHDhipXrpz1HHHDMJSamqqLFy86ucKix93dXS1bttSgQYMUEBAgwzA0evRozZ07VxEREWratKkyMzPVtWtXJSYmOrvcIikwMFAHDx5UcnKyevXqpX79+mnBggWKjY3Vs88+K09PT44quSDDMLRp0yY1aNBAx44dU40aNeTh4SFfX1+tWrVKtWrVUqdOnVw2tBMsCrnsU2g8PT313HPP6eDBg2rbtq3ee+891axZUx06dFCLFi0UGRmpkydP8g6GEzRp0kQ3btzQ/PnzdfXqVet4SEiI2rVrpz179iglJcWJFRYt3t7eevrpp633e/Toof79+2v37t2aPn269cjFmDFjtG/fPmeVWeRERUWpf//+kv4X6nx9fVWuXDmVKFHCOm/FihVKTk52So1FTVhYmB577DFJt0+33bZtm5YsWaKYmBiNGjVK/fr1U1pamo4ePerkSouezMxMeXl5qVy5ckpLS1OJEiW0Zs0aZWZm6pFHHtHcuXMliYXcLuTXb1ZVr15d3t7eWrdunfX3f/bfc6tWrVLdunX13HPPadu2bU6p9W48nF0A8seVK1fk7+8vNzc33bp1Sx4eHnrnnXcUEBCgtWvX6siRIxo3bpzeeecdSbePaPj6+jq56sLv1KlTio+P182bN1WxYkXVr19fHTt21Pr16zVnzhwVL15cnTp1UmBgoCTpySefVIkSJWwCBxzr1z2pVKmS6tWrJ8MwrItP3dzcFBUVJUmaMWOGpk+frtTUVC1ZskQdOnRwcvWFV27fK5LtVW3c3Nzk5uZmPYXzvffe0/z5813yl21hcKfvlaysLHl5eWnlypVyc3OzXrUmMDBQZcuWtf48Q/74dV9CQ0P1xBNPyNPTU5JUr149HT16VLNnz9bGjRu1cuVK7d+/XxMmTJCHh4emTJni5OqRzTAMrV27VvHx8Xr33Xe1atUqtWnTRgMHDtSKFStUpUoV64Lu77//Xh06dHDN7y0Thc6hQ4fMsLAwc/jw4daxjIwMmzk3b960ud+7d2+zZcuW5rVr1x5IjUXRvn37zMqVK5sNGjQwS5cubdavX9/8+uuvrdu7d+9u1q5d2xwwYIB59OhR8/z58+aQIUPMatWqmRcuXHBi5YVXbj355ptvbOZkZWVZ//3Xv/7V9PT0NP38/Mzdu3c/4GqLjnvpi2ma5uXLl83g4GBz8+bN5pgxY0xvb29zx44dTqi48LuXnlgsFpv7w4YNM5988knz/PnzD7LUIuX3+vLBBx+YhmGYYWFh5q5du0zTvP1989lnn5k///yzs8pGLjIzM81JkyaZjz/+uPXn2NmzZ83w8HCzdu3a1n799vvM1RAsCpmkpCSzbt26ZtWqVc1atWqZo0aNsm7LzMy0/jv7P+bmzZvNvn37mr6+vubevXsfeL1FxdGjR82HH37YHDJkiHnlyhVz586dZlRUlBkdHW3euHHDOm/UqFFm48aNTcMwzHr16pnlypUz4+PjnVh54XW3nty6dcvmh7fFYjFv3bpl9u/f3wwICDAPHDjgxMoLt/vpy9WrV83w8HCzWbNmpre3t7lz504nVl543U9PTNM0T5w4YQ4ePNgMCAjg90o+ultfsn/fZ2Zmmn369DG3b99umub/fvf/+g0TOM9vv3d27txpNm3a1Bw9erR1LDtcPPHEE+aRI0cedIn3jWBRiFgsFnPixIlm69atzX/961/myJEjzerVq9uEi1u3bln/nZWVZX733XfmM888Y+7Zs8cZJRcJGRkZ5qBBg8yOHTvaHDn661//agYFBeU4GnHhwgXzhx9+MDdt2mQmJyc/6HKLhPvtiWma5vbt203DMHhHPB/db1+uXLliVqpUyQwMDORnWD65357s2LHD7NOnj1mnTh16ko/y8jMMrmn16tXmoEGDrH+fLViwwCxWrJjNGyXnzp0zw8LCzIYNG+Y448TVsMaiEDEMQ926dVPZsmXVokUL1alTR5KsH1Y0cuRI64fjZJ+b/MILL6h58+YqVaqUk6svvCwWix5++GHVqFFDxYoVs54j+eyzz8rHx8e6YD67L0FBQXr++eedXHXhdq89+bUnn3xSly5dkr+//4MvuIi43774+fmpZ8+eeuWVV1S9enUnVV243W9P6tevr+vXr+v9999X+fLlnVR14ZeXn2Gu/onNRY1pmsrMzFSfPn109OhR7du3T3379tULL7yg/fv3q0+fPlqxYoXKli2r4OBgbd++XVevXrWun3FV/A8rZMqVK2ddaFqmTBn16tVLnTp10sKFCzVq1ChJtxc8fvvtt9bLzBEq8pe3t7fat2+vN99802bc399fnp6e1l8Abm5u2r17tzNKLHLutSeSbHri5+f3wGosiu6nLzt37pQk/eUvfyFU5KP76cmuXbskSY0bNyZU5LO8/AwjVLgG8/9f/ckwDBUrVkxz5sxRkyZNdPPmTX377bfq1auXSpQooapVq2rZsmXWq0GVLl1aYWFhziz9nnDEooA7ffq0kpOTdfnyZUVERFivlmKxWGQYhsqXL6+33npLkrRw4UKZpqmUlBRNnz5dv/zyiypUqODM8gut7L5cunRJLVu2tP4w+PUVbVJSUmw+u2LEiBH69NNPlZCQoMDAQD6s0MHoiWuiL66Hnrgm+lI4ZH9ORUBAgEJDQ/X000/r2WeflZ+fn5588knt2rVLI0aMkGEY2rt3rzp37lywjpQ77SQs2G3v3r1mpUqVzGrVqpl+fn5m9erVza+++sq8ePGiaZq311BkLww6deqUOWLECNMwDDMgIIBFjvno9/qS3ZPDhw+bwcHB5qVLl8wxY8aYxYsXpy/5hJ64JvrieuiJa6IvhYfFYjEbN25shoaGmsOGDTOTk5PN7du3m48//rj1Yi0bNmwwmzdvbgYGBha4tZYEiwLq3LlzZvXq1c333nvP/Pnnn82TJ0+anTp1MmvUqGGOHDnSPHfunGmatlcc6Nq1q+nr62sePHjQWWUXevfaF9P835UeOnXqlGOhFhyHnrgm+uJ66Ilroi+F08cff2y2adPGrFixorlp0yazd+/eZnh4uHn58mXTNE3z5MmTBfJSzQSLAurgwYNmaGhojh8aQ4cONWvXrm1+9NFHZnp6unV87ty5pr+/P5cuzWf305dDhw6ZhmGYxYsX5zMR8hE9cU30xfXQE9dEXwq27Dd4jxw5Yu7du9fcuHGjdVtiYqL53nvvmT4+Pmbnzp3NChUqmFOmTHH5Kz/dDSt5CqjMzEzdunVL165dkyRdv35dkjRhwgQ1b95cn3/+uY4ePWqd37ZtW8XHxys8PNwp9RYV99OXgIAA9enTR/Hx8apbt66zSi706Ilroi+uh564JvpScJn//2pdS5cuVUREhNq3b6/WrVurVatW2rVrlypVqqRx48ZpyZIlysrK0unTp7V8+XLdunXL2aXnmWGa/395OgqcBg0ayMfHR2vXrpUkZWRkyMvLS9LtS2M+8sgj+vrrr20WdiH/3WtfJOnGjRvy9vZ2Wq1FBT1xTfTF9dAT10RfCq6ffvpJkZGRmj59uurVqydJ6ty5swIDAzVt2jTVr19fknT27Flt2bJFNWvWVNWqVZ1Zsl04YlFApKen6+rVq0pNTbWOzZo1SwcPHtQf//hHSZKXl5c15TZp0kTp6emSRKjIR/b0RRI//PMBPXFN9MX10BPXRF8Kl+3btys8PFzdunXT448/rjp16uinn37S+fPnNW7cOOu8smXLqn379gU6VEgEiwLh0KFDevnll9W0aVPVqFFDcXFxkqQaNWpo+vTpWr16tV599VVlZmZar1N97tw5lSxZUrdu3RIHpfIHfXE99MQ10RfXQ09cE30pPLJ7cfr0aV29elUeHh4yDEPXr1+Xv7+/5s2bp3Xr1mn//v2Fqm98joWLO3TokJo0aaJu3bqpfv362rVrl3r06KHHHntM4eHheuGFF1SyZEn16dNHjz/+uKpXr65ixYrpH//4h7Zu3SoPD1qcH+iL66Enrom+uB564proS+GS/ZkhL774oqZPn67Zs2frrbfeUvHixSXdDh7BwcHy8fEpVJ8vwhoLF3bp0iV17txZ1atX1/Tp063jzZs3V+3atTVjxgzr2NWrVzV27FhdunRJ3t7e+tOf/qTHHnvMGWUXevTF9dAT10RfXA89cU30peDLXqi9f/9+HT16VDVq1NBDDz2kUqVKadiwYVq8eLGGDBmi3r1769q1a5owYYKWLl2q9evXKzg42NnlOwzx1oVlZmbqypUr6tChg6Tbn6bt5uamsLAwXbp0SdLt/8imaapUqVKaOHGizTzkD/rieuiJa6IvroeeuCb6UvBlX/3prbfeUokSJZSVlaVu3bpp4MCBGjx4sNzc3DRgwABNnTpVPj4+SkpK0o8//lioQoXEGguXVrZsWf39739X48aNJUlZWVmSpIceesj6g8QwDLm5udks8ipMh9RcEX1xPfTENdEX10NPXBN9KbiyT/w5ceKEZs2apQkTJmjPnj3q27ev1q1bp+HDhyszM1MffvihtmzZojfffFP9+/fXtm3b9MQTTzi5esfjiIWLy746gMVikaenp6Tb/4nPnTtnnTN+/Hh5eXmpf//+1sVByF/0xfXQE9dEX1wPPXFN9KVgMgxDO3fu1FdffaWgoCB16tRJvr6++stf/iJfX1/9/e9/14gRIzRs2DCFh4cX+s8TI1gUEG5ubtbz97LvS9KIESM0duxY7d69m4VbTkBfXA89cU30xfXQE9dEXwqeJUuWaP78+fL391dGRoZ1/O2335YkLV68WH/5y180ceJEVaxY0VllPhCcClWAZB9u8/DwUEhIiCZPnqyPPvpIO3fuVJ06dZxcXdFFX1wPPXFN9MX10BPXRF9c16+vebR161ZduHBBEyZM0ODBg2Wapj766CObo0xvv/222rVrp4sXL1qPRBVmRN4CJPtdC09PT82ZM0e+vr7atGlToTxHryChL66Hnrgm+uJ66Ilroi+uJykpSRUrVpRhGLJYLDp79qzatGmjf/7znypdurTee+89paena9WqVfL29tY777yj0qVLS5KGDBminj17KiAgwMmvIv9xxKIAioyMlHT7Y+KzPwoezkdfXA89cU30xfXQE9dEX1zD3Llz1bFjR61bt07S7eB369YtlSxZUiEhIdZPQR83bpwiIyP1z3/+U59++qnNkYuiECokPseiwEpPT1fJkiWdXQZ+g764HnrimuiL66Enrom+OF9CQoLat2+vSpUq6d1339Uf/vAH/fLLL2rRooX27NkjLy8v3bx5U8WKFZMkvf/++4qLi1PPnj01bNiwInVJYE6FKqD4IeOa6IvroSeuib64HnrimuiLc2VlZalq1apauXKlXnrpJU2cOFFeXl4qWbKksrKydPPmTXl5eVlDhSSNHTtWvr6+6tChQ5EKFRJHLAAAAIA7ysrKkru7u44dO6aXXnpJlStXVtOmTTV16lS9++678vT0VEBAgCwWi3755Rc1atRIzzzzjLPLdgqCBQAAAPAbv77sb7aEhAS98sorOnfunNzd3RUSEqLMzEx5e3vr+vXrSk9P14oVK/Too486qWrnIlgAAAAAv5IdKnbt2qWDBw8qNDRU1apVU7ly5XTs2DF16NBBQUFBGjJkiP7whz/I3d1dpmnq1q1bReKysndCsAAAAAB+Y9myZYqOjlZgYKAsFosaNmyo999/XzVq1LAeuQgJCVH//v2tV/Aq6orWihIAAADgVywWi/XfmZmZkqTTp09r8eLFmjp1qvbv36/3339f586d08CBA3Xo0CFVrVpVS5cu1f79+zV79mxdu3bNWeW7FI5YAAAAoEhLTk5WSEiIpNufqD116lSlp6dr9uzZqlChgiRp8eLFmj17tjw8PDR16lTVqFFDP//8swzDUOXKlZ1ZvsvgcrMAAAAosq5du6bXXntN6enp2rNnjw4fPqwdO3bo2rVrNou3O3bsKEmaN2+eoqOjFRsbW2QXad8Jp0IBAACgyCpWrJiGDh0q0zTVunVrRUVFadKkSSpRooQGDhyoU6dOWed27NhRXbp0Ubly5VS8eHEnVu2aOBUKAAAARZLFYpGbm5tu3bql//u//9OAAQMUFhamH374QXFxcfrkk09UvXp1TZgwQeXKlbM+7urVqypVqpQTK3dNHLEAAABAkZC9UDt7kbabm5ssFos8PDwUERGhqVOnKjExUa1bt1aXLl3Up08f/fe//9X7779vc+SCUJE7ggUAAACKBDc3N504cUJDhgzRvn37rGPZ4aJFixaaNm2ajh8/rm7duqlbt2564403tGXLFo0bN05ZWVlOfgWujcXbAAAAKDJSU1P13Xff6caNG+rXr59q1qxpEy6aNWumYcOGaeLEidq6dat69uwpi8WiyMhIubu7O7t8l8YRCwAAABQZtWvX1rJly7R9+3ZNmzZNBw8elHT7yEVWVpa8vb314osv6sKFC9q6daskqVevXgoNDXVi1QUDwQIAAABFSt26dTV37lzFx8dr2rRpOnTokCTJ3d1dt27dkru7u8LDw61hgmsd3RuCBQAAAIqc8PBwa7iYPHmydu/eLel2iJg8ebKOHDmiJ554QpJsPs8Cd8blZgEAAFBk7d27V2+//bYuXryoRx99VO7u7tq6datWrlypunXrOru8AoVgAQAAgCItKSlJy5cv17///W+Fh4fr1VdfVbVq1ZxdVoFDsAAAAABgN9ZYAAAAALAbwQIAAACA3QgWAAAAAOxGsAAAAABgN4IFAAAAALsRLAAAAADYjWABAAAAwG4ECwAAAAB2I1gAAAAAsBvBAgCQr0zTVEREhCIjI3Ns++yzz+Tv769ffvnFCZUBAByJYAEAyFeGYWj+/Pnatm2bZs2aZR1PTEzUkCFD9Mknn+jhhx926HNmZmY6dH8AgN9HsAAA5LuQkBBNnz5d7777rhITE2Wapt544w21bNlS4eHhatWqlXx8fFS2bFl17dpVFy5csD521apVatSokfz9/RUUFKS2bdvq559/tm4/fvy4DMPQokWL1LRpU3l7eysuLs4ZLxMAijTDNE3T2UUAAIqG9u3bKyUlRS+//LLGjBmjgwcPqmbNmnrzzTfVrVs3Xb9+XUOHDtWtW7e0du1aSdLSpUtlGIYef/xxpaWlacSIETp+/Lj27NkjNzc3HT9+XGFhYQoNDdWUKVMUHh4ub29vlS9f3smvFgCKFoIFAOCBOXfunGrWrKlLly5p6dKlOnDggP7973/rxx9/tM755ZdfFBISosOHD6tatWo59nHhwgUFBwdr//79qlWrljVYTJs2Te+8886DfDkAgF/hVCgAwANTpkwZ9erVSzVq1FD79u21d+9erVu3Tj4+PtZb9erVJcl6ulNCQoI6d+6sypUry9fXV6GhoZKkpKQkm33Xr1//gb4WAIAtD2cXAAAoWjw8POThcfvXT1pamtq1a6eJEyfmmJd9KlO7du1UqVIlzZkzRxUqVJDFYlGtWrV08+ZNm/klS5bM/+IBAHdEsAAAOM0TTzyhpUuXKjQ01Bo2fu3ixYs6fPiw5syZo8aNG0uSNm3a9KDLBADcA06FAgA4Td++fXXp0iV17txZO3bs0M8//6wff/xRPXr0UFZWlgICAhQUFKTZs2fr6NGjWrt2rQYNGuTssgEAuSBYAACcpkKFCtq8ebOysrLUsmVL1a5dWwMGDJC/v7/c3Nzk5uamhQsXateuXapVq5YGDhyoSZMmObtsAEAuuCoUAAAAALtxxAIAAACA3QgWAAAAAOxGsAAAAABgN4IFAAAAALsRLAAAAADYjWABAAAAwG4ECwAAAAB2I1gAAAAAsBvBAgAAAIDdCBYAAAAA7EawAAAAAGA3ggUAAAAAu/0/b0lFgk/rA04AAAAASUVORK5CYII=\n"
          },
          "metadata": {}
        }
      ]
    },
    {
      "cell_type": "markdown",
      "source": [
        "From the revenue data across the years:\n",
        "\n",
        "1. **Steady Growth**: theLook eCommerce shows a clear upward trend in revenue from 2019 to 2024. Starting from about \$590,099 in 2019, revenue has grown each year, reaching \$13.6 million by 2024.\n",
        "   \n",
        "2. **Significant Jumps in Revenue**: The most notable jumps in revenue occur between:\n",
        "   - 2019 to 2020, with an increase of about 233% (from \$590k to \$1.97M).\n",
        "   - 2023 to 2024, where revenue jumped from \$9.99M to \$13.6M, a 36% increase.\n",
        "   \n",
        "3. **Unknown Revenue Source**: There is \$1.03M attributed to \"Unknown\" in the year column, indicating either incomplete data or unclassified transactions. This is a significant amount, and further investigation into its source or reclassification could help clarify the trend.\n",
        "\n",
        "4. **Exponential Growth**: From 2019 to 2024, the company’s revenue has multiplied by over 23 times, indicating a very successful expansion or growth strategy during this period.\n",
        "\n",
        "Overall, theLook eCommerce has demonstrated rapid growth, with particularly strong revenue increases in 2023 and 2024. However, attention should be given to the \"Unknown\" category, as it represents over \$1 million in revenue."
      ],
      "metadata": {
        "id": "2Ob51UIX6ndx"
      }
    },
    {
      "cell_type": "markdown",
      "source": [
        "### 2. How is the performance of the traffic sources owned by theLook eCommerce?"
      ],
      "metadata": {
        "id": "ozdaWqds6FLT"
      }
    },
    {
      "cell_type": "code",
      "source": [
        "traffic_source = df_cleaned_revenue.groupby('traffic_source')['revenue'].sum().round(2).sort_values(ascending=False)\n",
        "traffic_source"
      ],
      "metadata": {
        "colab": {
          "base_uri": "https://localhost:8080/",
          "height": 272
        },
        "id": "_BSjmcXR6LDV",
        "outputId": "7b1b6820-2b69-4a83-f831-48ed160c74de"
      },
      "execution_count": 27,
      "outputs": [
        {
          "output_type": "execute_result",
          "data": {
            "text/plain": [
              "traffic_source\n",
              "Search      25850433.32\n",
              "Organic      5591551.91\n",
              "Facebook     2177106.22\n",
              "Email        1883397.42\n",
              "Display      1426575.99\n",
              "Name: revenue, dtype: float64"
            ],
            "text/html": [
              "<div>\n",
              "<style scoped>\n",
              "    .dataframe tbody tr th:only-of-type {\n",
              "        vertical-align: middle;\n",
              "    }\n",
              "\n",
              "    .dataframe tbody tr th {\n",
              "        vertical-align: top;\n",
              "    }\n",
              "\n",
              "    .dataframe thead th {\n",
              "        text-align: right;\n",
              "    }\n",
              "</style>\n",
              "<table border=\"1\" class=\"dataframe\">\n",
              "  <thead>\n",
              "    <tr style=\"text-align: right;\">\n",
              "      <th></th>\n",
              "      <th>revenue</th>\n",
              "    </tr>\n",
              "    <tr>\n",
              "      <th>traffic_source</th>\n",
              "      <th></th>\n",
              "    </tr>\n",
              "  </thead>\n",
              "  <tbody>\n",
              "    <tr>\n",
              "      <th>Search</th>\n",
              "      <td>25850433.32</td>\n",
              "    </tr>\n",
              "    <tr>\n",
              "      <th>Organic</th>\n",
              "      <td>5591551.91</td>\n",
              "    </tr>\n",
              "    <tr>\n",
              "      <th>Facebook</th>\n",
              "      <td>2177106.22</td>\n",
              "    </tr>\n",
              "    <tr>\n",
              "      <th>Email</th>\n",
              "      <td>1883397.42</td>\n",
              "    </tr>\n",
              "    <tr>\n",
              "      <th>Display</th>\n",
              "      <td>1426575.99</td>\n",
              "    </tr>\n",
              "  </tbody>\n",
              "</table>\n",
              "</div><br><label><b>dtype:</b> float64</label>"
            ]
          },
          "metadata": {},
          "execution_count": 27
        }
      ]
    },
    {
      "cell_type": "code",
      "source": [
        "# Plotting the bar chart\n",
        "plt.figure(figsize=(8, 4))\n",
        "traffic_source.plot(kind='barh', color='blue')\n",
        "\n",
        "# Adding labels and title\n",
        "plt.title('Revenue by Traffic Source', fontsize=16)\n",
        "plt.xlabel('Revenue (in USD)', fontsize=12)\n",
        "plt.ylabel('Traffic Source', fontsize=12)\n",
        "\n",
        "# Change format y-axis in %%M (%% million)\n",
        "def format_million_h(y, pos):\n",
        "    if y >= 1e6:\n",
        "        return '{:.0f}M'.format(y * 1e-6)\n",
        "    else:\n",
        "        return '{:.0f}'.format(y)\n",
        "formatter = ticker.FuncFormatter(format_million_h)\n",
        "plt.gca().xaxis.set_major_formatter(formatter)\n",
        "\n",
        "# Display the plot\n",
        "plt.tight_layout()\n",
        "plt.show()"
      ],
      "metadata": {
        "colab": {
          "base_uri": "https://localhost:8080/",
          "height": 407
        },
        "id": "BMDcm-Wk9_T0",
        "outputId": "a31b043d-f65a-49ff-facb-34d57e526c06"
      },
      "execution_count": 42,
      "outputs": [
        {
          "output_type": "display_data",
          "data": {
            "text/plain": [
              "<Figure size 800x400 with 1 Axes>"
            ],
            "image/png": "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\n"
          },
          "metadata": {}
        }
      ]
    },
    {
      "cell_type": "markdown",
      "source": [
        "From the data, here are some insights:\n",
        "\n",
        "1. **Search Dominates Revenue Generation**: The \"Search\" traffic source contributes the most revenue, with \\$25.85 million, significantly higher than the other channels. This suggests that search engine marketing (e.g., Google Ads or SEO) is a key driver of sales for theLook Ecommerce.\n",
        "   \n",
        "2. **Organic and Paid Channels**: After \"Search\", \"Organic\" traffic generates \\$5.59 million in revenue, indicating a strong presence from organic, non-paid sources such as search engine results or direct visits. It's notable that this source brings in more revenue than paid channels like Facebook or Email, underscoring the importance of maintaining strong SEO and brand loyalty.\n",
        "\n",
        "3. **Social Media Channels**: \"Facebook\" contributes \\$2.17 million, which is substantial, but lower than organic and search. This shows that while social media is valuable for revenue, it is not as powerful as search-driven methods for this business.\n",
        "\n",
        "4. **Email and Display Ads Have Lower Impact**: \"Email\" marketing brings in $1.88 million, while \"Display\" ads (likely banner ads or remarketing campaigns) bring in the lowest, at \\$1.43 million. These channels may need to be optimized or scaled for better returns or potentially integrated into multi-channel strategies to enhance their impact.\n",
        "\n",
        "The data suggests that **Search** and **Organic** traffic should remain the focus, while there is potential to experiment with improving performance in lower-performing channels like **Email** and **Display**."
      ],
      "metadata": {
        "id": "erUV_MmtAWSL"
      }
    },
    {
      "cell_type": "markdown",
      "source": [
        "### 3. What are the top 5 product categories based on total orders in theLook eCommerce?"
      ],
      "metadata": {
        "id": "V9VIKSXHAlvh"
      }
    },
    {
      "cell_type": "code",
      "source": [
        "top_5_product_categories = df_cleaned.groupby('product_category')['order_id'].nunique().sort_values(ascending=False).head(5)\n",
        "top_5_product_categories"
      ],
      "metadata": {
        "colab": {
          "base_uri": "https://localhost:8080/",
          "height": 272
        },
        "id": "NjelsGJ2AzlA",
        "outputId": "cdfe95aa-b25e-4d76-a248-f8331374d560"
      },
      "execution_count": 33,
      "outputs": [
        {
          "output_type": "execute_result",
          "data": {
            "text/plain": [
              "product_category\n",
              "Jeans                            22952\n",
              "Fashion Hoodies & Sweatshirts    21983\n",
              "Intimates                        21918\n",
              "Tops & Tees                      21815\n",
              "Swim                             20771\n",
              "Name: order_id, dtype: int64"
            ],
            "text/html": [
              "<div>\n",
              "<style scoped>\n",
              "    .dataframe tbody tr th:only-of-type {\n",
              "        vertical-align: middle;\n",
              "    }\n",
              "\n",
              "    .dataframe tbody tr th {\n",
              "        vertical-align: top;\n",
              "    }\n",
              "\n",
              "    .dataframe thead th {\n",
              "        text-align: right;\n",
              "    }\n",
              "</style>\n",
              "<table border=\"1\" class=\"dataframe\">\n",
              "  <thead>\n",
              "    <tr style=\"text-align: right;\">\n",
              "      <th></th>\n",
              "      <th>order_id</th>\n",
              "    </tr>\n",
              "    <tr>\n",
              "      <th>product_category</th>\n",
              "      <th></th>\n",
              "    </tr>\n",
              "  </thead>\n",
              "  <tbody>\n",
              "    <tr>\n",
              "      <th>Jeans</th>\n",
              "      <td>22952</td>\n",
              "    </tr>\n",
              "    <tr>\n",
              "      <th>Fashion Hoodies &amp; Sweatshirts</th>\n",
              "      <td>21983</td>\n",
              "    </tr>\n",
              "    <tr>\n",
              "      <th>Intimates</th>\n",
              "      <td>21918</td>\n",
              "    </tr>\n",
              "    <tr>\n",
              "      <th>Tops &amp; Tees</th>\n",
              "      <td>21815</td>\n",
              "    </tr>\n",
              "    <tr>\n",
              "      <th>Swim</th>\n",
              "      <td>20771</td>\n",
              "    </tr>\n",
              "  </tbody>\n",
              "</table>\n",
              "</div><br><label><b>dtype:</b> int64</label>"
            ]
          },
          "metadata": {},
          "execution_count": 33
        }
      ]
    },
    {
      "cell_type": "code",
      "source": [
        "# Plotting the bar chart\n",
        "plt.figure(figsize=(8, 4))\n",
        "top_5_product_categories.plot(kind='barh', color='green')\n",
        "\n",
        "# Adding labels and title\n",
        "plt.title('Top 5 of Product Category', fontsize=16)\n",
        "plt.xlabel('Total Order', fontsize=12)\n",
        "plt.ylabel('Product Category', fontsize=12)\n",
        "\n",
        "# Display the plot\n",
        "plt.tight_layout()\n",
        "plt.show()"
      ],
      "metadata": {
        "colab": {
          "base_uri": "https://localhost:8080/",
          "height": 407
        },
        "id": "5I1eTCPIveFT",
        "outputId": "907120fb-e69a-4f3d-a3d2-369638841a03"
      },
      "execution_count": 43,
      "outputs": [
        {
          "output_type": "display_data",
          "data": {
            "text/plain": [
              "<Figure size 800x400 with 1 Axes>"
            ],
            "image/png": "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\n"
          },
          "metadata": {}
        }
      ]
    },
    {
      "cell_type": "markdown",
      "source": [
        "Here are insights from the data:\n",
        "\n",
        "1. **Jeans as the Top-Selling Category**: With 22,952 orders, \"Jeans\" is the most popular product category for theLook eCommerce. This suggests that jeans have a strong appeal to the customer base, possibly due to consistent demand across demographics and seasons.\n",
        "\n",
        "2. **Fashion Hoodies & Sweatshirts**: The second-highest category with 21,983 orders shows that casual, comfortable wear like hoodies and sweatshirts are also highly sought after. This trend could reflect a shift toward casual fashion or seasonal preferences.\n",
        "\n",
        "3. **Intimates and Tops & Tees are Close in Popularity**: Both \"Intimates\" (21,918 orders) and \"Tops & Tees\" (21,815 orders) are nearly tied in the number of orders, indicating that these items are staple purchases for customers.\n",
        "\n",
        "4. **Swimwear in Top 5**: With 20,771 orders, \"Swim\" is also a significant category, possibly driven by seasonal trends or regions with year-round warm climates.\n",
        "\n",
        "This data suggests that **casual wear** (e.g., jeans, hoodies, and tees) dominates customer preferences, with steady demand for **intimates** and **swimwear** rounding out the top 5."
      ],
      "metadata": {
        "id": "ygT6dHlLwkhU"
      }
    },
    {
      "cell_type": "markdown",
      "source": [
        "### 4. What are the top 5 product name based on total orders in theLook eCommerce?"
      ],
      "metadata": {
        "id": "QO1aRatUwyL4"
      }
    },
    {
      "cell_type": "code",
      "source": [
        "top_5_product_name = df_cleaned.groupby('product_name')['order_id'].nunique().sort_values(ascending=False).head(5)\n",
        "top_5_product_name"
      ],
      "metadata": {
        "colab": {
          "base_uri": "https://localhost:8080/",
          "height": 272
        },
        "id": "LUjjlj_wwxUQ",
        "outputId": "0ae812b9-eeb0-4f59-8ad9-a4ea5c719b11"
      },
      "execution_count": 36,
      "outputs": [
        {
          "output_type": "execute_result",
          "data": {
            "text/plain": [
              "product_name\n",
              "Wrangler Men's Premium Performance Cowboy Cut Jean            147\n",
              "7 For All Mankind Men's Standard Classic Straight Leg Jean    105\n",
              "Wrangler Men's Original Cowboy Cut Relaxed Fit Jean            80\n",
              "True Religion Men's Ricky Straight Jean                        78\n",
              "Lucky Brand Mens Men's 361 Vintage Straight Denim Jean         78\n",
              "Name: order_id, dtype: int64"
            ],
            "text/html": [
              "<div>\n",
              "<style scoped>\n",
              "    .dataframe tbody tr th:only-of-type {\n",
              "        vertical-align: middle;\n",
              "    }\n",
              "\n",
              "    .dataframe tbody tr th {\n",
              "        vertical-align: top;\n",
              "    }\n",
              "\n",
              "    .dataframe thead th {\n",
              "        text-align: right;\n",
              "    }\n",
              "</style>\n",
              "<table border=\"1\" class=\"dataframe\">\n",
              "  <thead>\n",
              "    <tr style=\"text-align: right;\">\n",
              "      <th></th>\n",
              "      <th>order_id</th>\n",
              "    </tr>\n",
              "    <tr>\n",
              "      <th>product_name</th>\n",
              "      <th></th>\n",
              "    </tr>\n",
              "  </thead>\n",
              "  <tbody>\n",
              "    <tr>\n",
              "      <th>Wrangler Men's Premium Performance Cowboy Cut Jean</th>\n",
              "      <td>147</td>\n",
              "    </tr>\n",
              "    <tr>\n",
              "      <th>7 For All Mankind Men's Standard Classic Straight Leg Jean</th>\n",
              "      <td>105</td>\n",
              "    </tr>\n",
              "    <tr>\n",
              "      <th>Wrangler Men's Original Cowboy Cut Relaxed Fit Jean</th>\n",
              "      <td>80</td>\n",
              "    </tr>\n",
              "    <tr>\n",
              "      <th>True Religion Men's Ricky Straight Jean</th>\n",
              "      <td>78</td>\n",
              "    </tr>\n",
              "    <tr>\n",
              "      <th>Lucky Brand Mens Men's 361 Vintage Straight Denim Jean</th>\n",
              "      <td>78</td>\n",
              "    </tr>\n",
              "  </tbody>\n",
              "</table>\n",
              "</div><br><label><b>dtype:</b> int64</label>"
            ]
          },
          "metadata": {},
          "execution_count": 36
        }
      ]
    },
    {
      "cell_type": "code",
      "source": [
        "# Plotting the bar chart\n",
        "plt.figure(figsize=(8, 4))\n",
        "top_5_product_name.plot(kind='barh', color='purple')\n",
        "\n",
        "# Adding labels and title\n",
        "plt.title('Top 5 of Product Name', fontsize=16)\n",
        "plt.xlabel('Total Order', fontsize=12)\n",
        "plt.ylabel('Product Name', fontsize=12)\n",
        "\n",
        "# Display the plot\n",
        "plt.tight_layout()\n",
        "plt.show()"
      ],
      "metadata": {
        "colab": {
          "base_uri": "https://localhost:8080/",
          "height": 407
        },
        "id": "njmQs4G9xKX3",
        "outputId": "02ce227a-8c01-46fc-fb49-342df6a74f90"
      },
      "execution_count": 45,
      "outputs": [
        {
          "output_type": "display_data",
          "data": {
            "text/plain": [
              "<Figure size 800x400 with 1 Axes>"
            ],
            "image/png": "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\n"
          },
          "metadata": {}
        }
      ]
    },
    {
      "cell_type": "markdown",
      "source": [
        "Here are insights from the product names and order data:\n",
        "\n",
        "1. **Dominance of Wrangler**: The top two Wrangler products—*Wrangler Men's Premium Performance Cowboy Cut Jean* (147 orders) and *Wrangler Men's Original Cowboy Cut Relaxed Fit Jean* (80 orders)—are among the most ordered items. This shows a strong customer preference for Wrangler's brand and style, particularly their cowboy cut jeans, which suggests a significant customer segment favoring durable, rugged jeans.\n",
        "\n",
        "2. **Popularity of High-End Denim**: *7 For All Mankind Men's Standard Classic Straight Leg Jean* (105 orders) and *True Religion Men's Ricky Straight Jean* (78 orders) show that premium denim brands are also highly favored by customers. These brands cater to a more fashion-conscious market, indicating a willingness among customers to invest in higher-priced jeans.\n",
        "\n",
        "3. **Classic Denim Appeal**: All top 5 products are variations of straight or relaxed fit jeans, emphasizing that customers prefer classic, comfortable styles over more trendy or slim-fit jeans.\n",
        "\n",
        "4. **Consistent Demand Across Brands**: The relatively even distribution of orders among these brands, with most items having between 78 and 147 orders, suggests that theLook eCommerce has a balanced appeal across multiple denim brands.\n",
        "\n",
        "This indicates that **denim is a key product** category for the platform, with both affordable and premium brands in demand, especially among customers who prioritize quality and style."
      ],
      "metadata": {
        "id": "Lug0_rU6x5up"
      }
    },
    {
      "cell_type": "markdown",
      "source": [
        "### 5. What are the top 5 product brand based on total orders in theLook eCommerce?"
      ],
      "metadata": {
        "id": "NDCjGBQ3yK_9"
      }
    },
    {
      "cell_type": "code",
      "source": [
        "top_5_product_brand = df_cleaned.groupby('product_brand')['order_id'].nunique().sort_values(ascending=False).head(5)\n",
        "top_5_product_brand"
      ],
      "metadata": {
        "colab": {
          "base_uri": "https://localhost:8080/",
          "height": 272
        },
        "id": "-FdI6DAryZEX",
        "outputId": "3c54a501-5f12-4cde-a558-eba3d50c054e"
      },
      "execution_count": 38,
      "outputs": [
        {
          "output_type": "execute_result",
          "data": {
            "text/plain": [
              "product_brand\n",
              "Allegra K       11796\n",
              "Calvin Klein     6319\n",
              "Carhartt         5135\n",
              "Hanes            3945\n",
              "Volcom           3791\n",
              "Name: order_id, dtype: int64"
            ],
            "text/html": [
              "<div>\n",
              "<style scoped>\n",
              "    .dataframe tbody tr th:only-of-type {\n",
              "        vertical-align: middle;\n",
              "    }\n",
              "\n",
              "    .dataframe tbody tr th {\n",
              "        vertical-align: top;\n",
              "    }\n",
              "\n",
              "    .dataframe thead th {\n",
              "        text-align: right;\n",
              "    }\n",
              "</style>\n",
              "<table border=\"1\" class=\"dataframe\">\n",
              "  <thead>\n",
              "    <tr style=\"text-align: right;\">\n",
              "      <th></th>\n",
              "      <th>order_id</th>\n",
              "    </tr>\n",
              "    <tr>\n",
              "      <th>product_brand</th>\n",
              "      <th></th>\n",
              "    </tr>\n",
              "  </thead>\n",
              "  <tbody>\n",
              "    <tr>\n",
              "      <th>Allegra K</th>\n",
              "      <td>11796</td>\n",
              "    </tr>\n",
              "    <tr>\n",
              "      <th>Calvin Klein</th>\n",
              "      <td>6319</td>\n",
              "    </tr>\n",
              "    <tr>\n",
              "      <th>Carhartt</th>\n",
              "      <td>5135</td>\n",
              "    </tr>\n",
              "    <tr>\n",
              "      <th>Hanes</th>\n",
              "      <td>3945</td>\n",
              "    </tr>\n",
              "    <tr>\n",
              "      <th>Volcom</th>\n",
              "      <td>3791</td>\n",
              "    </tr>\n",
              "  </tbody>\n",
              "</table>\n",
              "</div><br><label><b>dtype:</b> int64</label>"
            ]
          },
          "metadata": {},
          "execution_count": 38
        }
      ]
    },
    {
      "cell_type": "code",
      "source": [
        "# Plotting the bar chart\n",
        "plt.figure(figsize=(8, 4))\n",
        "top_5_product_brand.plot(kind='barh', color='pink')\n",
        "\n",
        "# Adding labels and title\n",
        "plt.title('Top 5 of Product brand', fontsize=16)\n",
        "plt.xlabel('Total Order', fontsize=12)\n",
        "plt.ylabel('Product Brand', fontsize=12)\n",
        "\n",
        "# Display the plot\n",
        "plt.tight_layout()\n",
        "plt.show()"
      ],
      "metadata": {
        "colab": {
          "base_uri": "https://localhost:8080/",
          "height": 407
        },
        "id": "4XLaMMA-yi09",
        "outputId": "e441e4ff-4c50-4703-fafd-412a8be70272"
      },
      "execution_count": 46,
      "outputs": [
        {
          "output_type": "display_data",
          "data": {
            "text/plain": [
              "<Figure size 800x400 with 1 Axes>"
            ],
            "image/png": "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\n"
          },
          "metadata": {}
        }
      ]
    },
    {
      "cell_type": "markdown",
      "source": [
        "Here are insights based on the product brand and order data:\n",
        "\n",
        "1. **Allegra K Dominates**: *Allegra K* is the leading brand with 11,796 orders, far surpassing other brands. This suggests that Allegra K's product line is highly popular among customers, potentially due to its wide range of offerings, affordable pricing, or appeal to a broad demographic. It may reflect the brand's effectiveness in meeting customer needs or trends.\n",
        "\n",
        "2. **Strong Presence of Premium Brands**: *Calvin Klein* ranks second with 6,319 orders, indicating that customers are drawn to premium, well-established fashion brands. Calvin Klein's reputation for quality, particularly in categories like underwear and apparel, makes it a consistent choice for customers.\n",
        "\n",
        "3. **Durability and Practicality Appeal**: *Carhartt* comes in third with 5,135 orders, known for its rugged, durable clothing. This suggests that a significant portion of customers are looking for practical, long-lasting workwear or outdoor gear, indicating the platform's appeal to both fashion and utility-oriented shoppers.\n",
        "\n",
        "4. **Basic Essentials Popularity**: *Hanes*, with 3,945 orders, reflects the high demand for everyday essentials like undergarments and casual wear. This suggests that basic, affordable products are a key component of the platform's sales mix.\n",
        "\n",
        "5. **Volcom's Niche Appeal**: *Volcom*, with 3,791 orders, appeals to customers looking for lifestyle and action-sports-oriented fashion. While not as high as other brands, its presence indicates niche market popularity within the platform.\n",
        "\n",
        "Overall, **Allegra K leads by a large margin**, but premium and practical brands like Calvin Klein, Carhartt, Hanes, and Volcom also play significant roles, demonstrating a diverse range of customer preferences."
      ],
      "metadata": {
        "id": "HGaC7-2Zy9RY"
      }
    },
    {
      "cell_type": "markdown",
      "source": [
        "### 6. What are the top 5 countries based on total revenue for theLook eCommerce?"
      ],
      "metadata": {
        "id": "rwTC60UFzMy5"
      }
    },
    {
      "cell_type": "code",
      "source": [
        "top_5_country = df_cleaned_revenue.groupby('country')['revenue'].sum().round(2).sort_values(ascending=False).head(5)\n",
        "top_5_country"
      ],
      "metadata": {
        "colab": {
          "base_uri": "https://localhost:8080/",
          "height": 272
        },
        "id": "e4wEXMxZzUCE",
        "outputId": "0677832b-3895-4891-ae1e-c9a84d3db40e"
      },
      "execution_count": 41,
      "outputs": [
        {
          "output_type": "execute_result",
          "data": {
            "text/plain": [
              "country\n",
              "China            12742993.29\n",
              "United States     8160354.20\n",
              "Brasil            5364895.27\n",
              "South Korea       1961635.67\n",
              "France            1820167.43\n",
              "Name: revenue, dtype: float64"
            ],
            "text/html": [
              "<div>\n",
              "<style scoped>\n",
              "    .dataframe tbody tr th:only-of-type {\n",
              "        vertical-align: middle;\n",
              "    }\n",
              "\n",
              "    .dataframe tbody tr th {\n",
              "        vertical-align: top;\n",
              "    }\n",
              "\n",
              "    .dataframe thead th {\n",
              "        text-align: right;\n",
              "    }\n",
              "</style>\n",
              "<table border=\"1\" class=\"dataframe\">\n",
              "  <thead>\n",
              "    <tr style=\"text-align: right;\">\n",
              "      <th></th>\n",
              "      <th>revenue</th>\n",
              "    </tr>\n",
              "    <tr>\n",
              "      <th>country</th>\n",
              "      <th></th>\n",
              "    </tr>\n",
              "  </thead>\n",
              "  <tbody>\n",
              "    <tr>\n",
              "      <th>China</th>\n",
              "      <td>12742993.29</td>\n",
              "    </tr>\n",
              "    <tr>\n",
              "      <th>United States</th>\n",
              "      <td>8160354.20</td>\n",
              "    </tr>\n",
              "    <tr>\n",
              "      <th>Brasil</th>\n",
              "      <td>5364895.27</td>\n",
              "    </tr>\n",
              "    <tr>\n",
              "      <th>South Korea</th>\n",
              "      <td>1961635.67</td>\n",
              "    </tr>\n",
              "    <tr>\n",
              "      <th>France</th>\n",
              "      <td>1820167.43</td>\n",
              "    </tr>\n",
              "  </tbody>\n",
              "</table>\n",
              "</div><br><label><b>dtype:</b> float64</label>"
            ]
          },
          "metadata": {},
          "execution_count": 41
        }
      ]
    },
    {
      "cell_type": "code",
      "source": [
        "# Plotting the bar chart\n",
        "plt.figure(figsize=(8, 4))\n",
        "top_5_country.plot(kind='barh', color='brown')\n",
        "\n",
        "# Adding labels and title\n",
        "plt.title('Top 5 Country', fontsize=16)\n",
        "plt.xlabel('Revenue (in USD)', fontsize=12)\n",
        "plt.ylabel('Country', fontsize=12)\n",
        "\n",
        "# Change format y-axis in %%M (%% million)\n",
        "formatter = ticker.FuncFormatter(format_million_h)\n",
        "plt.gca().xaxis.set_major_formatter(formatter)\n",
        "\n",
        "# Display the plot\n",
        "plt.tight_layout()\n",
        "plt.show()"
      ],
      "metadata": {
        "colab": {
          "base_uri": "https://localhost:8080/",
          "height": 407
        },
        "id": "HKCqwJIp0_Dn",
        "outputId": "04c0a970-e06b-45dc-be28-cf883b0a2cd3"
      },
      "execution_count": 48,
      "outputs": [
        {
          "output_type": "display_data",
          "data": {
            "text/plain": [
              "<Figure size 800x400 with 1 Axes>"
            ],
            "image/png": "iVBORw0KGgoAAAANSUhEUgAAAxYAAAGGCAYAAADmRxfNAAAAOXRFWHRTb2Z0d2FyZQBNYXRwbG90bGliIHZlcnNpb24zLjcuMSwgaHR0cHM6Ly9tYXRwbG90bGliLm9yZy/bCgiHAAAACXBIWXMAAA9hAAAPYQGoP6dpAABJq0lEQVR4nO3deVxV1f7/8feRUWRQcVZEUZzJNIccEkwNnErTNEfIHHPIzFLrmkODWVqamVY3RctK1DSvlbM45shXTVMz5xTFCXAIUNi/P3xwfp04ILBRRF7Px4PHw7P22mt/9vbePG/WXntbDMMwBAAAAAAmFMjtAgAAAADkfQQLAAAAAKYRLAAAAACYRrAAAAAAYBrBAgAAAIBpBAsAAAAAphEsAAAAAJhGsAAAAABgGsECAAAAgGkECwDIRywWS5Z/goKCcrtsSVJQUFCGdZYqVcrU+IcOHdKIESNUp04deXt7y8nJSd7e3mrUqJHGjBmjQ4cO5dCZAMDDyTG3CwAA3D+hoaFp2s6fP69Vq1alu71atWr3vK6sCA4OthsivLy8sjXe7du39dprr+mTTz5RSkqKihYtqvr168vb21uxsbHas2ePtm/frg8++EDTp0/XkCFDzJ7CfRUZGanmzZsrMDBQkZGRuV0OgIcYwQIA8pHw8PA0bZGRkdZgYW/7g2b06NE5OovSs2dPLVy4UJ6enpo+fbp69eolBwcH63bDMLRmzRqNGTNGf/75Z44dFwAeNgQLAEC+NWfOHC1cuFBOTk5avXq1GjZsmKaPxWLRU089pebNm2v37t25UCUA5A2ssQAAZOivv/7S0KFD5e/vL1dXV3l5ealJkyb6/PPPlZycnKZ/eHi4LBaLwsLCdPnyZQ0ePFjly5eXi4uLfH199corr+jq1au5cCa2DMPQu+++K0kaNGiQ3VDxT05OTmrUqFGa9p07d6pLly4qU6aMnJ2dVaJECbVv315r1qyxO07qWpH0bksaP368LBaLxo8fn277xYsXNXjwYPn4+MjZ2Vk+Pj4aOnSoYmNj0xyrefPmkqSNGzfarEmpUKGCtV9YWJgsFovCw8N14MABde3aVaVLl5aDg4PGjx+vcePGyWKxaMCAAelen507d8pisahs2bK6fft2uv0APLyYsQAApGvXrl0KCQnRlStXVL58eXXo0EFxcXGKjIzUtm3btHTpUi1fvlzOzs5p9r169aoaNmyoy5cv23yZnjZtmn755Rdt3rxZxYsXz3JNS5cu1bJly/T333+rZMmSaty4sZ566ikVKJC135X99ttvOn78uCT7a0sy48svv9TAgQOVkpKiOnXqKCgoSKdOndKKFSu0YsUK65fynHTmzBnVrVtXt27dUpMmTZSQkKCtW7fq008/1Y4dO7R161Y5OTlJkkJCQuTq6qpVq1apZMmSCgkJsY5TrFixNGNv27ZNAwcOVOnSpdWsWTP9/fff8vDwUI8ePfT+++9rwYIFmjx5sgoXLpxm35kzZ0qSBgwYIEdHvl4A+ZIBAMjXNmzYYEgy/v1PQkJCguHr62tIMgYOHGgkJSVZtx07dsyoUKGCIcl44403bPabO3eudbzHH3/cuHz5snXb1atXjcaNGxuSjOeffz5LdQYGBlrH/fdPlSpVjJ07d2ZpvK+++sqQZDg7Oxu3bt3K0r6GYRj79+83HB0dDYvFYsyfP99m288//2w4OzsbkozVq1fbPY8NGzbYHXfcuHGGJGPcuHF22yUZYWFhRkJCgnXb6dOnjbJlyxqSjG+//dZmv9S/38DAwHTPJTQ01Dr26NGjjeTk5DR9evToYUgyPvroozTbLl68aLi4uBhOTk5GdHR0uscB8HDjVigAgF2LFi3SqVOnVKZMGU2bNs36W3BJ8vPz05QpUyRJM2bMUEJCgt0xZs2apaJFi1o/Fy5cWLNnz5bFYlFERIT++uuvTNfzxBNP6Msvv9SRI0d048YN/fXXX1q6dKlq1qypP/74Qy1btszSI2EvXrwoSSpatGi2fsM+ffp03b59Wx07dlSvXr1strVu3Vr9+/eXJH344YdZHjsj5cqV08yZM+Xi4mJtS70VSpLWrl2b7bGrVKmid955x+7sz8svvyzpzt+pYRg22/773/8qMTFRnTt3Nv3YXwB5F8ECAGBX6hqA559/3uZLbKpnn31WRYoU0bVr17Rnz54022vXrq1HH300TXtAQIDq1KmjlJQUbdq0KdP1vP322+rbt6+qVKkiNzc3lS1bVh06dNCePXtUv359xcfHa8yYMZkez6zU6xMWFmZ3+4svvihJ2rx5s921KNnVokULubm5pWmvXr26JOns2bPZHrtDhw42T8T6p/r166tRo0Y6evSo9SlikpSSkqLZs2dLUp57FC+AnEWwAADYlfoFtWLFina3WywW6zZ7X2bT2++f27IyY5EeFxcXvfnmm5KklStX6tatW5naL3V9x5UrV7L1xf9u16dSpUqSpISEBF2+fDnL46enfPnydts9PT2tx8uufy7otmfYsGGSpE8//dTatmLFCp06dUp16tRR48aNs31sAHkfwQIAkGv+fUtNdqX+tj4xMVGXLl3K1D6PPfaYJCkpKUn79u3LkTpyQkpKSobbs7pIPSsKFiyY4fbOnTurbNmy+uWXX3TixAlJ/3/RNrMVAAgWAAC7ypYtK0nWJyfZk/rlMrWvvW32nDx5UtKd9QI54Z8zAh4eHpna55FHHrHONsybNy/Lx7zb9Ultd3V1tVlnkvoErWvXrtnd79SpU1mu5X5xdHTUoEGDlJKSos8++0x//PGH1qxZo6JFi6pbt265XR6AXEawAADYlfp264ULF9q9vWbp0qW6evWqPDw8rL/9/6f9+/dr//79adoPHjyoqKgoFShQQM2aNcuRWr///ntJd2Yu3N3dM7WPxWLRG2+8IenOguSdO3dm2P/27dvavn279XPq9UnvbeVz5syRdGfR+T8Xh6cGEnsLzW/evKkNGzZkqv7MSg0yOfVuiQEDBsjV1VVz5szR1KlTZRiGXnzxxbvOdgB4+BEsAAB2PffccypfvrzOnTunESNG2HwxPXHihF599VVJ0tChQ+Xq6ppmf8MwNGjQIJuX4cXFxWnQoEEyDEOdOnWSj49PpmrZsGGDIiMj09w6lZSUpPfff18zZsyQJGtNmdW3b1917txZt27dUqtWrTRv3rw06y0Mw9D69evVuHFja4CR7jwlydHRUcuWLdM333xjs8/q1av1+eefS5JGjhxps61ly5aS7txC9M+1KTdu3FD//v115syZLJ3D3aTOCh09ejTT608yUqxYMXXv3l1XrlzRF198oQIFCuill14yPS6AvI832AAA7HJxcdHixYsVEhKiWbNm6eeff9bjjz+ua9euaf369UpISFBwcHC6L4B7+umndeDAAfn5+al58+bWF+RduXJF/v7+NguA72bfvn165ZVXVLJkST366KPy9vbWxYsXtX//fl24cEHSnS/wqU9iyopvv/1WpUqV0syZMxUWFqZXX31V9evXV9GiRRUXF6eoqChFR0fLwcHB5glQAQEBmjlzpgYNGqRevXrp448/VrVq1XTq1Clt27ZNhmFo/Pjxeuqpp2yO16VLF02bNk27d+9WzZo11bRpU6WkpGj37t1ydnZWnz59rLMdOaF8+fKqV6+edu/erYCAANWrV0+urq4qVqyY3n///WyNOWzYMGuNbdu2veuibwD5AzMWAIB01a9fX3v37tXgwYPl4OCgpUuXavPmzapTp45mzZqlFStW2H3rtiQVKVJE27dvV9euXbVr1y6tWLFChQoV0rBhw7R9+3aVKFEi03UEBgZq0KBB8vX11f79+7VkyRJt2bJF7u7u6t27t7Zu3Zrt90U4OTlpxowZOnDggF5++WWVK1dO27dvV0REhLZt26by5cvrjTfe0KFDh9L8Zr5///7atm2bOnfurHPnzikiIkKHDx9WmzZttHr1aruhy8nJSWvWrNGQIUPk4eGh1atXa//+/erYsaOioqIyPYuTFUuWLFH37t0VHx+vhQsX6quvvrKZfcmq2rVrW99XwaJtAKksRk49kgMAAN1Zc/DCCy8oNDQ03fUHyNvWrl2rVq1aqWrVqjp06JAsFktulwTgAcCMBQAAyLTk5GTrTMyIESMIFQCsWGMBAADuau7cudq0aZN2796tAwcOKCAgQH369MntsgA8QJixAAAAd7Vx40aFh4frr7/+UseOHbVixQqbx+gCAGssAAAAAJjGjAUAAAAA0wgWAAAAAEzj5khkKCUlRefOnZOHhwdP/gAAAMhnDMPQtWvXVKZMGRUokPGcBMECGTp37tw9eVkTAAAA8o4zZ86oXLlyGfYhWCBDHh4eku78j8nT0zOXqwEAAMD9FB8fLx8fH+t3wowQLJCh1NufPD09CRYAAAD5VGZuiWfxNgAAAADTCBYAAAAATCNYAAAAADCNYAEAAADANIIFAAAAANMIFgAAAABMI1gAAAAAMI1gAQAAAMA0ggUAAAAA0wgWAAAAAEwjWAAAAAAwjWABAAAAwDTH3C4AeUNEgwZyc3DI7TIeSt0PHsztEgAAAExjxgIAAACAaQQLAAAAAKYRLAAAAACYRrAAAAAAYBrBAgAAAIBpBAsAAAAAphEsAAAAAJhGsAAAAABgGsECAAAAgGkECwAAAACmESxyUFhYmCwWS5qfP//8M7dLAwAAAO4px9wu4GETEhKiuXPn2rQVL17c5nNSUpKcnZ3vZ1kAAADAPcWMRQ5zcXFRqVKlbH5atGihIUOGaPjw4SpWrJiCg4MlSR999JECAgJUqFAh+fj46KWXXtL169etY4WHh6tw4cJatWqVqlevLnd3d4WEhCg6OtrmmHPmzFHNmjXl4uKi0qVLa8iQIdZtsbGx6tu3r4oXLy5PT089+eST2rdv3/25GAAAAMg3CBb3ybx58+Ts7KytW7dq9uzZkqQCBQrok08+0cGDBzVv3jytX79er7/+us1+N2/e1JQpU/T1119r06ZNOn36tEaOHGndPmvWLA0ePFj9+/fXb7/9puXLl6ty5crW7c8995xiYmL0yy+/aM+ePapbt65atGihK1eu2K0zMTFR8fHxNj8AAADA3VgMwzByu4iHRVhYmL755hu5urpa21q3bq2LFy8qPj5eUVFRGe6/ePFiDRw4UJcuXZJ0Z8bihRde0J9//qlKlSpJkj777DNNnDhR58+flySVLVtWL7zwgt555500423ZskVt27ZVTEyMXFxcrO2VK1fW66+/rv79+6fZZ/z48ZowYUKa9i+rVpWbg0MmrgKyqvvBg7ldAgAAgF3x8fHy8vJSXFycPD09M+zLGosc1rx5c82aNcv6uVChQurWrZsee+yxNH3Xrl2rSZMm6fDhw4qPj9ft27eVkJCgmzdvys3NTZLk5uZmDRWSVLp0acXExEiSYmJidO7cObVo0cJuLfv27dP169fl7e1t0/7333/r2LFjdvcZM2aMRowYYf0cHx8vHx+fTJ49AAAA8iuCRQ4rVKiQza1I/2z/p5MnT6pdu3YaNGiQ3n33XRUtWlRbtmzRiy++qKSkJGuwcHJystnPYrEodZKpYMGCGdZy/fp1lS5dWpGRkWm2FS5c2O4+Li4uNrMbAAAAQGYQLHLJnj17lJKSoqlTp6pAgTtLXSIiIrI0hoeHhypUqKB169apefPmabbXrVtX58+fl6OjoypUqJATZQMAAAB2sXg7l1SuXFm3bt3SjBkzdPz4cX399dfWRd1ZMX78eE2dOlWffPKJjh49qqioKM2YMUOS1LJlSzVq1EgdOnTQ6tWrdfLkSW3btk1vvvmmdu/endOnBAAAgHyMYJFLateurY8++kiTJ09WrVq1tGDBAk2aNCnL44SGhmratGn67LPPVLNmTbVr105Hjx6VdOe2qZ9//lnNmjXTCy+8oCpVquj555/XqVOnVLJkyZw+JQAAAORjPBUKGUp9EgBPhbp3eCoUAAB4UGXlqVDMWAAAAAAwjWABAAAAwDSCBQAAAADTCBYAAAAATCNYAAAAADCNYAEAAADANIIFAAAAANMIFgAAAABMc8ztApA3dNm5864vRQEAAED+xYwFAAAAANMIFgAAAABMI1gAAAAAMI1gAQAAAMA0ggUAAAAA0wgWAAAAAEwjWAAAAAAwjWABAAAAwDSCBQAAAADTCBYAAAAATCNYAAAAADCNYAEAAADANIIFAAAAANMIFgAAAABMI1gAAAAAMI1gAQAAAMA0ggUAAAAA0wgWAAAAAEwjWAAAAAAwjWABAAAAwDSCBQAAAADTCBYAAAAATCNYAAAAADCNYAEAAADANIIFAAAAANMIFgAAAABMI1gAAAAAMI1gAQAAAMA0ggUAAAAA0xxzuwDkDRENGsjNwSG3y8h3uh88mNslAAAAZAozFgAAAABMI1gAAAAAMI1gAQAAAMA0ggUAAAAA0wgWAAAAAEwjWAAAAAAwjWABAAAAwDSCBQAAAADTCBZZFBkZKYvFotjY2NwuBQAAAHhg5MlgcfHiRQ0aNEjly5eXi4uLSpUqpeDgYG3dujVHjxMUFKThw4fnyFgWi0XLli2zfr5165a6deumsmXL6sCBAzlyDAAAACC3OOZ2AdnRqVMnJSUlad68efLz89OFCxe0bt06Xb58ObdLy5SbN2+qU6dOOnr0qLZs2aKKFStmeYzk5GRZLBYVKJAnsyEAAAAeMnnuW2lsbKw2b96syZMnq3nz5vL19VWDBg00ZswYPf3009Z+p0+f1jPPPCN3d3d5enqqS5cuunDhgnV7WFiYOnToYDP28OHDFRQUZN2+ceNGTZ8+XRaLRRaLRSdPnrT23bNnj+rVqyc3Nzc1btxYR44cyXT9rVq10rlz52xCxdWrV9W7d28VKVJEbm5uat26tY4ePWrdLzw8XIULF9by5ctVo0YNubi46PTp00pMTNTIkSNVtmxZFSpUSA0bNlRkZKR1v8uXL1tnRtzc3BQQEKDvvvsuk1cbAAAAyJw8Fyzc3d3l7u6uZcuWKTEx0W6flJQUPfPMM7py5Yo2btyoNWvW6Pjx4+ratWumjzN9+nQ1atRI/fr1U3R0tKKjo+Xj42Pd/uabb2rq1KnavXu3HB0d1adPn7uOef78eQUGBkqSNm7cqFKlSlm3hYWFaffu3Vq+fLl+/fVXGYahNm3a6NatW9Y+N2/e1OTJk/Xf//5XBw8eVIkSJTRkyBD9+uuv+v7777V//34999xzCgkJsYaShIQEPfbYY/rpp5904MAB9e/fX7169dLOnTszfS0AAACAu8lzt0I5OjoqPDxc/fr10+zZs1W3bl0FBgbq+eef1yOPPCJJWrdunX777TedOHHCGgbmz5+vmjVrateuXapfv/5dj+Pl5SVnZ2e5ubnZBIBU7777rjUkjB49Wm3btlVCQoJcXV3THfPll1+Wn5+f1qxZIzc3N2v70aNHtXz5cm3dulWNGzeWJC1YsEA+Pj5atmyZnnvuOUl31mV89tlnql27tqQ7szJz587V6dOnVaZMGUnSyJEjtXLlSs2dO1fvvfeeypYtq5EjR1qPNXToUK1atUoRERFq0KBBmhoTExNtAlt8fPxdrxUAAACQ52YspDtrLM6dO6fly5crJCREkZGRqlu3rsLDwyVJhw4dko+Pj80MQ40aNVS4cGEdOnQoR2pIDTGSVLp0aUlSTExMhvu0a9dOf/zxhz7//HOb9kOHDsnR0VENGza0tnl7e6tq1ao29To7O9sc97ffflNycrKqVKlinclxd3fXxo0bdezYMUl31mK8/fbbCggIUNGiReXu7q5Vq1bp9OnTdmucNGmSvLy8rD//vIYAAABAevLcjEUqV1dXtWrVSq1atdLYsWPVt29fjRs3TmFhYZnav0CBAjIMw6btn7cd3Y2Tk5P1zxaLRdKdW7Ay0qtXLz399NPq06ePDMPQiBEjMn08SSpYsKD1WJJ0/fp1OTg4aM+ePXJwcLDp6+7uLkn68MMPNX36dE2bNk0BAQEqVKiQhg8frqSkJLvHGDNmjE1d8fHxhAsAAADcVZ4NFv9Wo0YN6+Ncq1evrjNnzujMmTPWL8W///67YmNjVaNGDUlS8eLF0zzmde/evTaBwdnZWcnJyTlaZ2hoqAoUKKAXXnhBKSkpGjlypKpXr67bt29rx44d1luhLl++rCNHjljrtadOnTpKTk5WTEyMnnjiCbt9tm7dqmeeeUY9e/aUdCf8/PHHH+mO6+LiIhcXF5NnCQAAgPwmz90KdfnyZT355JP65ptvtH//fp04cUKLFi3SBx98oGeeeUaS1LJlSwUEBKhHjx6KiorSzp071bt3bwUGBqpevXqSpCeffFK7d+/W/PnzdfToUY0bNy5N0KhQoYJ27NihkydP6tKlS3edkcisXr16ad68eRo9erQ+/PBD+fv765lnnlG/fv20ZcsW7du3Tz179lTZsmWt52RPlSpV1KNHD/Xu3Vs//PCDTpw4oZ07d2rSpEn66aefJEn+/v5as2aNtm3bpkOHDmnAgAE2T8cCAAAAckKem7Fwd3dXw4YN9fHHH+vYsWO6deuWfHx81K9fP73xxhuS7tya9OOPP2ro0KFq1qyZChQooJCQEM2YMcM6TnBwsMaOHavXX39dCQkJ6tOnj3r37q3ffvvN2mfkyJEKDQ1VjRo19Pfff+vEiRM5dh49evRQgQIF1KtXL6WkpGju3Ll6+eWX1a5dOyUlJalZs2b6+eefbWZQ7Jk7d67eeecdvfrqqzp79qyKFSumxx9/XO3atZMk/ec//9Hx48cVHBwsNzc39e/fXx06dFBcXFyOnQsAAABgMf690AD4h/j4eHl5eenLqlXl9q91HLj3uh88mNslAACAfCz1u2BcXJw8PT0z7JvnboUCAAAA8OAhWAAAAAAwjWABAAAAwDSCBQAAAADTCBYAAAAATCNYAAAAADCNYAEAAADANIIFAAAAANMIFgAAAABMc8ztApA3dNm5865vWwQAAED+xYwFAAAAANMIFgAAAABMI1gAAAAAMI1gAQAAAMA0ggUAAAAA0wgWAAAAAEwjWAAAAAAwjWABAAAAwDSCBQAAAADTCBYAAAAATCNYAAAAADCNYAEAAADAtGwHix07duRkHQAAAADysGwHi0aNGqlKlSp6++23dfz48ZysCQAAAEAek+1g8c0338jf319vv/22/P391aRJE82ePVtXrlzJyfoAAAAA5AHZDhbdu3fXTz/9pHPnzmn69OkyDEMvvfSSypQpow4dOmjx4sVKSkrKyVoBAAAAPKAshmEYOTXYsWPH9O2332rBggU6evSovLy81LlzZ/Xu3VtNmzbNqcPgPoqPj5eXl5fi4uLk6emZ2+UAAADgPsrKd8EcfSpUwYIF5ebmJldXVxmGIYvFoh9//FGBgYGqX7++fv/995w8HAAAAIAHhOlgce3aNc2dO1ctW7aUr6+v3njjDVWoUEGLFy/W+fPnde7cOS1cuFAxMTF64YUXcqJmAAAAAA8Yx+zu+OOPP2rBggVasWKFEhISVL9+fU2bNk3PP/+8vL29bfp27txZV69e1eDBg00XDAAAAODBk+1g0bFjR/n4+OiVV15R7969VbVq1Qz7165dWz169Mju4QAAAAA8wLIdLNavX6+goKBM92/QoIEaNGiQ3cMBAAAAeIBla43FzZs31alTJ02ZMiWn6wEAAACQB2UrWLi5ucnR0VFubm45XQ8AAACAPCjbT4Xq1KmTFi9erBx8DQYAAACAPCrbayyef/55vfTSS2revLn69eunChUqqGDBgmn61a1b11SBAAAAAB582X7zdoEC/3+yw2KxpNme+oK85OTk7FeHXMebtwEAAPKvrHwXzPaMxZw5c+wGCgAAAAD5T7aDRVhYWA6WAQAAACAvy3awePLJJ/Xmm2+qRYsWdrdv2LBBb7/9ttavX5/t4vDgiGjQQG4ODrldBoBc0v3gwdwuAQDwgMv2U6EiIyN14cKFdLfHxMRo48aN2R0eAAAAQB6S7WAh2V+0nerPP/+Uh4eHmeEBAAAA5BFZuhVq3rx5mjdvnvXzO++8oy+//DJNv9jYWO3fv19t2rQxXyEAAACAB16WgsXNmzd18eJF6+dr167ZPHZWujOLUahQIQ0cOFBvvfVWzlQJAAAA4IGWpWAxaNAgDRo0SJJUsWJFTZ8+XU8//fQ9KQwAAABA3pHtp0KdOHEiJ+sAAAAAkIdlO1ikunbtmk6dOqWrV6/K3ku8mzVrZvYQAAAAAB5w2Q4Wly5d0tChQ7VkyRIlJyen2W4YhiwWi91tAAAAAB4u2Q4W/fv31//+9z8NGzZMTzzxhIoUKZKTdSGHhIWFKTY2VsuWLZMkBQUF6dFHH9W0adNytS4AAAA8XLIdLFavXq1XXnlFH3zwQU7W89AKCwuzeVRv0aJFVb9+fX3wwQd65JFH7tlxp0+fbvcWNQAAACAnZfsFeW5ubqpQoUIOlvLwCwkJUXR0tKKjo7Vu3To5OjqqXbt26fa/deuW6WN6eXmpcOHCpscBAAAAMpLtYNGzZ08tXbo0J2t56Lm4uKhUqVIqVaqUHn30UY0ePVpnzpzRxYsXdfLkSVksFi1cuFCBgYFydXXVggULdPnyZXXr1k1ly5aVm5ubAgIC9N1339mMu3jxYgUEBKhgwYLy9vZWy5YtdePGDUl3Zko6dOiQC2cLAACA/CTbt0J17txZGzduVEhIiPr37y8fHx85ODik6Ve3bl1TBT6srl+/rm+++UaVK1eWt7e3NQiMHj1aU6dOVZ06deTq6qqEhAQ99thjGjVqlDw9PfXTTz+pV69eqlSpkho0aKDo6Gh169ZNH3zwgTp27Khr165p8+bN3P4EAACA+yrbwaJp06bWP69ZsybNdp4KldaKFSvk7u4uSbpx44ZKly6tFStW2Ly9fPjw4Xr22Wdt9hs5cqT1z0OHDtWqVasUERFhDRa3b9/Ws88+K19fX0lSQEBAtmtMTExUYmKi9XN8fHy2xwIAAED+ke1gMXfu3JysI19o3ry5Zs2aJUm6evWqPvvsM7Vu3Vo7d+609qlXr57NPsnJyXrvvfcUERGhs2fPKikpSYmJiXJzc5Mk1a5dWy1atFBAQICCg4P11FNPqXPnztl+StekSZM0YcKEbJ4hAAAA8qtsB4vQ0NCcrCNfKFSokCpXrmz9/N///ldeXl768ssv1bdvX2uff/rwww81ffp0TZs2TQEBASpUqJCGDx+upKQkSZKDg4PWrFmjbdu2afXq1ZoxY4befPNN7dixQxUrVsxyjWPGjNGIESOsn+Pj4+Xj45Od0wUAAEA+ku3F2zDPYrGoQIEC+vvvv9Pts3XrVj3zzDPq2bOnateuLT8/P/3xxx9pxmnSpIkmTJig//u//5Ozs3O2F9a7uLjI09PT5gcAAAC4m2zPWPTp0+eufSwWi7766qvsHuKhk5iYqPPnz0u6cyvUp59+quvXr6t9+/bp7uPv76/Fixdr27ZtKlKkiD766CNduHBBNWrUkCTt2LFD69at01NPPaUSJUpox44dunjxoqpXr35fzgkAAACQTASL9evXy2Kx2LQlJycrOjpaycnJKl68eJrbevK7lStXqnTp0pIkDw8PVatWTYsWLVJQUJBOnjxpd5///Oc/On78uIKDg+Xm5qb+/furQ4cOiouLkyR5enpq06ZNmjZtmuLj4+Xr66upU6eqdevW9+u0AAAAAFmMHH4u6a1bt/T5559r2rRpWrNmTbbu88eDIz4+/s46kKpV5WbnccIA8ofuBw/mdgkAgFyQ+l0wLi7urrfI5/gaCycnJw0ZMkRPPfWUhgwZktPDAwAAAHgA3bPF27Vr19amTZvu1fAAAAAAHiD3LFisWbPG+q4FAAAAAA+3bC/enjhxot322NhYbdq0SVFRURo9enS2CwMAAACQd2Q7WIwfP95ue5EiRVSpUiXNnj1b/fr1y+7wAAAAAPKQbAeLlJSUnKwDAAAAQB7Gm7cBAAAAmJbtGYtUGzdu1E8//aRTp05Jknx9fdW2bVsFBgaaLg4AAABA3pDtF+QlJSWpW7duWrZsmQzDUOHChSXdWbxtsVjUsWNHfffdd3JycsrJenGfZeWlKAAAAHi43JcX5E2YMEFLly7Vq6++qujoaF25ckVXrlzR+fPnNXLkSP3www/pPjkKAAAAwMMl2zMWFStWVFBQkObOnWt3e1hYmCIjI3Xy5Ekz9SGXMWMBAACQf92XGYvo6Gg1bNgw3e0NGzbU+fPnszs8AAAAgDwk28GiXLlyioyMTHf7xo0bVa5cuewODwAAACAPyXawCA0NVUREhAYOHKgjR44oOTlZKSkpOnLkiAYNGqRFixYpLCwsB0sFAAAA8KDK9hqL5ORkvfjii5o/f74sFosKFLiTUVJSUmQYhkJDQ/XVV19Z25E3scYCAAAg/8rKd8FsB4tU+/fv188//2zzHos2bdrokUceMTMsHhAECwAAgPzrngWLhIQEDR8+XDVr1tTQoUPT7ffJJ5/o8OHDmj59Ou+xyOMIFgAAAPnXPXsq1BdffKHw8HC1bds2w35t27bVnDlz9N///jcrwwMAAADIo7IULCIiItSpUyf5+fll2K9SpUp67rnn9N1335kqDgAAAEDekKVg8dtvv6lp06aZ6tu4cWPt378/W0UBAAAAyFuyFCySkpLk7Oycqb7Ozs5KTEzMVlEAAAAA8pYsBYsyZcrowIEDmep74MABlSlTJltFAQAAAMhbshQsWrZsqfnz5ysmJibDfjExMZo/f75atWplqjgAAAAAeUOWgsWoUaOUkJCgJ598Ujt27LDbZ8eOHWrRooUSEhL02muv5UiRAAAAAB5sjlnp7Ofnp4iICHXr1k2NGzeWn5+fAgIC5OHhoWvXrunAgQM6duyY3Nzc9P3336tSpUr3qm4AAAAAD5BsvXn75MmTmjx5slasWKGzZ89a28uUKaN27drp9ddfv+sjaZE38II8AACA/OuevXnbnmvXrik+Pl6enp7y8PAwMxQeQAQLAACA/Csr3wWzdCuUPR4eHgQKAAAAIJ/L0uJtAAAAALCHYAEAAADANIIFAAAAANMIFgAAAABMI1gAAAAAMI1gAQAAAMA0ggUAAAAA0wgWAAAAAEwjWAAAAAAwjWABAAAAwDTH3C4AeUNEgwZyc3DI7TIAAA+Q7gcP5nYJAB4gzFgAAAAAMI1gAQAAAMA0ggUAAAAA0wgWAAAAAEwjWAAAAAAwjWABAAAAwDSCBQAAAADTCBYAAAAATCNYAAAAADDtoQ0WFSpU0LRp0+7J2BaLRcuWLbsnYwMAAAB50QMVLIKCgjR8+PA07eHh4SpcuHCWxtq1a5f69+9v/Xw/w8DFixc1aNAglS9fXi4uLipVqpSCg4O1detW0/Xcy8AEAAAAZJdjbhdwrxQvXjzXjt2pUyclJSVp3rx58vPz04ULF7Ru3Tpdvnw512oCAAAA7qUHasYis8LCwtShQwdNmTJFpUuXlre3twYPHqxbt25Z+/zzN/sVKlSQJHXs2FEWi8X6WZJ+/PFH1a1bV66urvLz89OECRN0+/Zt6/ajR4+qWbNmcnV1VY0aNbRmzZoMa4uNjdXmzZs1efJkNW/eXL6+vmrQoIHGjBmjp59+OsN6jh07pmeeeUYlS5aUu7u76tevr7Vr11rHDgoK0qlTp/TKK6/IYrHIYrFYt23ZskVPPPGEChYsKB8fHw0bNkw3btywbv/ss8/k7+8vV1dXlSxZUp07d8709QYAAADuJk8GC0nasGGDjh07pg0bNmjevHkKDw9XeHi43b67du2SJM2dO1fR0dHWz5s3b1bv3r318ssv6/fff9fnn3+u8PBwvfvuu5KklJQUPfvss3J2dtaOHTs0e/ZsjRo1KsO63N3d5e7urmXLlikxMTFL9Vy/fl1t2rTRunXr9H//938KCQlR+/btdfr0aUnSDz/8oHLlymnixImKjo5WdHS0pDuBJCQkRJ06ddL+/fu1cOFCbdmyRUOGDJEk7d69W8OGDdPEiRN15MgRrVy5Us2aNbNbW2JiouLj421+AAAAgLvJs8GiSJEi+vTTT1WtWjW1a9dObdu21bp16+z2Tb0tqnDhwipVqpT184QJEzR69GiFhobKz89PrVq10ttvv63PP/9ckrR27VodPnxY8+fPV+3atdWsWTO99957Gdbl6Oio8PBwzZs3T4ULF1aTJk30xhtvaP/+/Xetp3bt2howYIBq1aolf39/vf3226pUqZKWL18uSSpatKgcHBzk4eGhUqVKqVSpUpKkSZMmqUePHho+fLj8/f3VuHFjffLJJ5o/f74SEhJ0+vRpFSpUSO3atZOvr6/q1KmjYcOG2a1/0qRJ8vLysv74+Phk6u8DAAAA+VueDRY1a9aUg4OD9XPp0qUVExOTpTH27duniRMnWmcZ3N3d1a9fP0VHR+vmzZs6dOiQfHx8VKZMGes+jRo1uuu4nTp10rlz57R8+XKFhIQoMjJSdevWTXdGJdX169c1cuRIVa9eXYULF5a7u7sOHTpknbHI6DzCw8NtziM4OFgpKSk6ceKEWrVqJV9fX/n5+alXr15asGCBbt68aXesMWPGKC4uzvpz5syZu54vAAAA8EAt3vb09FRcXFya9tjYWHl5edm0OTk52Xy2WCxKSUnJ0vGuX7+uCRMm6Nlnn02zzdXVNUtj2du/VatWatWqlcaOHau+fftq3LhxCgsLS3efkSNHas2aNZoyZYoqV66sggULqnPnzkpKSrrreQwYMMDuLET58uXl7OysqKgoRUZGavXq1Xrrrbc0fvx47dq1K83TtlxcXOTi4pKdUwYAAEA+9kAFi6pVq2r16tVp2qOiolSlShVTYzs5OSk5OdmmrW7dujpy5IgqV65sd5/q1avrzJkzio6OVunSpSVJ27dvz9bxa9SoYfN4WXv1bN26VWFhYerYsaOkO4Hh5MmTNn2cnZ3tnsfvv/+e7nlId27RatmypVq2bKlx48apcOHCWr9+vd1QBQAAAGTVA3Ur1KBBg/THH39o2LBh2r9/v44cOaKPPvpI3333nV599VVTY1eoUEHr1q3T+fPndfXqVUnSW2+9pfnz52vChAk6ePCgDh06pO+//17/+c9/JEktW7ZUlSpVFBoaqn379mnz5s168803MzzO5cuX9eSTT+qbb77R/v37deLECS1atEgffPCBnnnmmQzr8ff31w8//KC9e/dq37596t69e5pZmAoVKmjTpk06e/asLl26JEkaNWqUtm3bpiFDhmjv3r06evSofvzxR+vi7RUrVuiTTz7R3r17derUKc2fP18pKSmqWrWqqWsKAAAApHqggoWfn582bdqkw4cPq2XLlmrYsKEiIiK0aNEihYSEmBp76tSpWrNmjXx8fFSnTh1JUnBwsFasWKHVq1erfv36evzxx/Xxxx/L19dXklSgQAEtXbpUf//9txo0aKC+fftanxiVHnd3dzVs2FAff/yxmjVrplq1amns2LHq16+fPv300wzr+eijj1SkSBE1btxY7du3V3BwsOrWrWsz/sSJE3Xy5ElVqlTJuuj7kUce0caNG/XHH3/oiSeeUJ06dfTWW29Z14YULlxYP/zwg5588klVr15ds2fP1nfffaeaNWuauqYAAABAKothGEZuF4EHV3x8vLy8vPRl1apy+8dieQAAuh88mNslALjHUr8LxsXFydPTM8O+D9SMBQAAAIC8iWABAAAAwDSCBQAAAADTCBYAAAAATCNYAAAAADCNYAEAAADANIIFAAAAANMIFgAAAABMc8ztApA3dNm5864vRQEAAED+xYwFAAAAANMIFgAAAABMI1gAAAAAMI1gAQAAAMA0ggUAAAAA0wgWAAAAAEwjWAAAAAAwjWABAAAAwDSCBQAAAADTCBYAAAAATCNYAAAAADCNYAEAAADANIIFAAAAANMIFgAAAABMI1gAAAAAMI1gAQAAAMA0ggUAAAAA0wgWAAAAAEwjWAAAAAAwjWABAAAAwDSCBQAAAADTCBYAAAAATCNYAAAAADCNYAEAAADANIIFAAAAANMIFgAAAABMI1gAAAAAMI1gAQAAAMA0ggUAAAAA0xxzuwDkDRENGsjNwSG3ywAAAMiXuh88mNsl3BUzFgAAAABMI1gAAAAAMI1gAQAAAMA0ggUAAAAA0wgWAAAAAEwjWAAAAAAwjWABAAAAwDSCBQAAAADTCBYPEIvFomXLlqW7PTIyUhaLRbGxsfetJgAAACAzCBb30fnz5zV06FD5+fnJxcVFPj4+at++vdatW5ep/Rs3bqzo6Gh5eXnd40oBAACArHHM7QLyi5MnT6pJkyYqXLiwPvzwQwUEBOjWrVtatWqVBg8erMOHD991DGdnZ5UqVeo+VAsAAABkDTMW98lLL70ki8WinTt3qlOnTqpSpYpq1qypESNGaPv27dZ+ly5dUseOHeXm5iZ/f38tX77cuu3ft0KFh4ercOHCWrVqlapXry53d3eFhIQoOjraus+uXbvUqlUrFStWTF5eXgoMDFRUVNR9O28AAADkDwSL++DKlStauXKlBg8erEKFCqXZXrhwYeufJ0yYoC5dumj//v1q06aNevTooStXrqQ79s2bNzVlyhR9/fXX2rRpk06fPq2RI0dat1+7dk2hoaHasmWLtm/fLn9/f7Vp00bXrl3L0XMEAABA/kawuA/+/PNPGYahatWq3bVvWFiYunXrpsqVK+u9997T9evXtXPnznT737p1S7Nnz1a9evVUt25dDRkyxGbNxpNPPqmePXuqWrVqql69ur744gvdvHlTGzdutDteYmKi4uPjbX4AAACAuyFY3AeGYWS67yOPPGL9c6FCheTp6amYmJh0+7u5ualSpUrWz6VLl7bpf+HCBfXr10/+/v7y8vKSp6enrl+/rtOnT9sdb9KkSfLy8rL++Pj4ZLp2AAAA5F8Ei/vA399fFoslUwu0nZycbD5bLBalpKRkqf8/g0xoaKj27t2r6dOna9u2bdq7d6+8vb2VlJRkd7wxY8YoLi7O+nPmzJm71gwAAAAQLO6DokWLKjg4WDNnztSNGzfSbL+X76XYunWrhg0bpjZt2qhmzZpycXHRpUuX0u3v4uIiT09Pmx8AAADgbggW98nMmTOVnJysBg0aaMmSJTp69KgOHTqkTz75RI0aNbpnx/X399fXX3+tQ4cOaceOHerRo4cKFix4z44HAACA/IlgcZ/4+fkpKipKzZs316uvvqpatWqpVatWWrdunWbNmnXPjvvVV1/p6tWrqlu3rnr16qVhw4apRIkS9+x4AAAAyJ8sRlZWFiPfiY+Pl5eXl76sWlVuDg65XQ4AAEC+1P3gwVw5bup3wbi4uLveIs+MBQAAAADTCBYAAAAATCNYAAAAADCNYAEAAADANIIFAAAAANMIFgAAAABMI1gAAAAAMI1gAQAAAMA0ggUAAAAA0xxzuwDkDV127rzr2xYBAACQfzFjAQAAAMA0ggUAAAAA0wgWAAAAAEwjWAAAAAAwjWABAAAAwDSCBQAAAADTCBYAAAAATCNYAAAAADCNYAEAAADANIIFAAAAANMIFgAAAABMI1gAAAAAMI1gAQAAAMA0x9wuAA82wzAkSfHx8blcCQAAAO631O+Aqd8JM0KwQIYuX74sSfLx8cnlSgAAAJBbrl27Ji8vrwz7ECyQoaJFi0qSTp8+fdf/MSHnxcfHy8fHR2fOnJGnp2dul5PvcP1zF9c/9/F3kLu4/rmL63+HYRi6du2aypQpc9e+BAtkqECBO8twvLy88vX/qXKbp6cn1z8Xcf1zF9c/9/F3kLu4/rmL669M/3KZxdsAAAAATCNYAAAAADCNYIEMubi4aNy4cXJxccntUvIlrn/u4vrnLq5/7uPvIHdx/XMX1z/rLEZmnh0FAAAAABlgxgIAAACAaQQLAAAAAKYRLAAAAACYRrBAhmbOnKkKFSrI1dVVDRs21M6dO3O7pIfKpEmTVL9+fXl4eKhEiRLq0KGDjhw5YtOnQoUKslgs+v7779PsX7NmTVksFoWHh9+nih9u77//viwWi4YPH25t4/rfW2fPnlXPnj3l7e2tggULKiAgQLt377ZuDwoKksVi0fvvv59m37Zt28pisWj8+PH3seKHR3JyssaOHauKFSuqYMGCqlSpkt5++239c+kl1z/nbNq0Se3bt1eZMmVksVi0bNkym+2GYeitt95S6dKlVbBgQbVs2VJHjx616WOxWGSxWLR9+3ab9sTERHl7e8tisSgyMvIen0nelNH1v3XrlkaNGqWAgAAVKlRIZcqUUe/evXXu3DmbMbj+d0ewQLoWLlyoESNGaNy4cYqKilLt2rUVHBysmJiY3C7tobFx40YNHjxY27dv15o1a3Tr1i099dRTunHjhk0/Hx8fzZ0716Zt+/btOn/+vAoVKnQ/S35o7dq1S59//rkeeeSRNNu4/vfG1atX1aRJEzk5OemXX37R77//rqlTp6pIkSI2/Xx8fNKEt7Nnz2rdunUqXbr0faz44TJ58mTNmjVLn376qQ4dOqTJkyfrgw8+0IwZM2z6cf1zxo0bN1S7dm3NnDnT7vYPPvhAn3zyiWbPnq0dO3aoUKFCCg4OVkJCgk0/e/89Wrp0qdzd3e9Z7Q+DjK7/zZs3FRUVpbFjxyoqKko//PCDjhw5oqeffjpNX67/XRhAOho0aGAMHjzY+jk5OdkoU6aMMWnSpFys6uEWExNjSDI2btxobfP19TVGjx5tuLi4GKdPn7a29+vXzxg6dKjh5eVlzJ07NxeqfXhcu3bN8Pf3N9asWWMEBgYaL7/8snUb1//eGTVqlNG0adMM+wQGBhqDBg0yvL29jS1btljb3333XaN9+/ZG7dq1jXHjxt3jSh9Obdu2Nfr06WPT9uyzzxo9evSwfub63xuSjKVLl1o/p6SkGKVKlTI+/PBDa1tsbKzh4uJifPfddzb7/ec//zE8PT2NmzdvWttbtWpljB071pBkbNiw4X6cQp727+tvz86dOw1JxqlTp2z24/pnjBkL2JWUlKQ9e/aoZcuW1rYCBQqoZcuW+vXXX3OxsodbXFycJKlo0aI27SVLllRwcLDmzZsn6c5vVxYuXKg+ffrc9xofRoMHD1bbtm1t/vf+T1z/e2P58uWqV6+ennvuOZUoUUJ16tTRl19+maafs7OzevToYfNbwvDwcK6/SY0bN9a6dev0xx9/SJL27dunLVu2qHXr1jb9uP733okTJ3T+/Hmb/wZ5eXmpYcOGaf7Nfeyxx1ShQgUtWbJEknT69Glt2rRJvXr1uq81P+zi4uJksVhUuHBhm3auf8YIFrDr0qVLSk5OVsmSJW3aS5YsqfPnz+dSVQ+3lJQUDR8+XE2aNFGtWrXSbO/Tp4/Cw8NlGIYWL16sSpUq6dFHH73/hT5kvv/+e0VFRWnSpEkZ9uP657zjx49r1qxZ8vf316pVqzRo0CANGzbMGuD+qU+fPoqIiNCNGze0adMmxcXFqV27drlQ9cNj9OjRev7551WtWjU5OTmpTp06Gj58uHr06JGmL9f/3kr9dzWz/+b26dNHc+bMkXQn5LVp00bFixe/94XmEwkJCRo1apS6desmT0/PNNu5/ukjWAAPiMGDB+vAgQN2FwlLdxZKXr9+XZs2bdKcOXP4bWEOOHPmjF5++WUtWLBArq6uGfbl+ue8lJQU1a1bV++9957q1Kmj/v37q1+/fpo9e3aavrVr15a/v78WL16sOXPmqFevXnJ0dMyFqh8eERERWrBggb799ltFRUVp3rx5mjJlit1gx/V/sPTs2VO//vqrjh8/zuxRDrt165a6dOkiwzA0a9Ysu324/unjvwqwq1ixYnJwcNCFCxds2i9cuKBSpUrlUlUPryFDhmjFihXatGmTypUrZ7ePo6OjevXqpXHjxmnHjh1aunTpfa7y4bNnzx7FxMSobt261rbk5GRt2rRJn376qRITE63tXP+cV7p0adWoUcOmrXr16tZbDP6tT58+mjlzpn7//XeeUJcDXnvtNeushSQFBATo1KlTmjRpkkJDQ9P05/rfO6n/rl64cMFmQfyFCxfszox6e3urXbt2evHFF5WQkKDWrVvr2rVr96vch1ZqqDh16pTWr19vd7ZC4vpnhBkL2OXs7KzHHntM69ats7alpKRo3bp1atSoUS5W9nAxDENDhgzR0qVLtX79elWsWDHD/n369NHGjRv1zDPPpHlyDrKuRYsW+u2337R3717rT7169dSjRw/t3btXDg4ONv25/jmrSZMmaR6v/Mcff8jX19du/+7du+u3335TrVq10gQSZN3NmzdVoIDt1wAHBwelpKTY7c/1v3cqVqyoUqVK2fybGx8frx07dqT7b26fPn0UGRmp3r17p/lvFbIuNVQcPXpUa9eulbe3d4b9uf72MWOBdI0YMUKhoaGqV6+eGjRooGnTpunGjRt64YUXcru0h8bgwYP17bff6scff5SHh4f1XlovLy8VLFgwTf/q1avr0qVLcnNzu9+lPpQ8PDzSrGcpVKiQvL297a5z4frnrFdeeUWNGzfWe++9py5dumjnzp364osv9MUXX9jtX6RIEUVHR8vJyek+V/pwat++vd59912VL19eNWvW1P/93//po48+Sve2Dq6/OdevX9eff/5p/XzixAnt3btXRYsWVfny5TV8+HC988478vf3V8WKFTV27FiVKVNGHTp0sDteSEiILl68mO5v1WEro+tfunRpde7cWVFRUVqxYoWSk5Ot/x4XLVpUzs7Oacbj+ttHsEC6unbtqosXL+qtt97S+fPn9eijj2rlypVpFpch+1Lv3wwKCrJpnzt3rsLCwuzuc7ffouDe4vrnnPr162vp0qUaM2aMJk6cqIoVK2ratGl2Fw+n+vcTWpB9M2bM0NixY/XSSy8pJiZGZcqU0YABA/TWW2+luw/XP/t2796t5s2bWz+PGDFCkhQaGqrw8HC9/vrrunHjhvr376/Y2Fg1bdpUK1euTHf9l8ViUbFixe5L7Q+DjK7/+PHjtXz5cklKc+vZhg0b0vwbLXH902MxjH+8YhMAAAAAsoE1FgAAAABMI1gAAAAAMI1gAQAAAMA0ggUAAAAA0wgWAAAAAEwjWAAAAAAwjWABAAAAwDSCBQAAAADTCBYAAJjQpk0b9evXz/o5MjJSFotFkZGRuVfUPbRy5Uq5u7vr4sWLuV0KgAcMwQIA8rnw8HBZLBbrj6Ojo8qWLauwsDCdPXs2t8t7oG3dulWrV6/WqFGj7ulxLBaLhgwZYnfb4sWL7QaZ//3vfwoMDFSJEiXk5uYmPz8/denSRStXrrT2OXnypM3fvZOTk4oVK6bGjRvrjTfe0OnTp9McLyQkRJUrV9akSZNy9BwB5H2OuV0AAODBMHHiRFWsWFEJCQnavn27wsPDtWXLFh04cECurq65Xd4D6cMPP1SLFi1UuXJla1uzZs30999/y9nZOdfqmjJlil577TUFBgZqzJgxcnNz059//qm1a9fq+++/V0hIiE3/bt26qU2bNkpJSdHVq1e1a9cuTZs2TdOnT9dXX32l559/3qb/gAEDNHLkSE2YMEEeHh7389QAPMAIFgAASVLr1q1Vr149SVLfvn1VrFgxTZ48WcuXL1eXLl1yuboHT0xMjH766SfNnj3bpr1AgQK5GsRu376tt99+W61atdLq1avTbI+JiUnTVrduXfXs2dOm7dSpU3rqqacUGhqq6tWrq3bt2tZtnTp10tChQ7Vo0SL16dMn508CQJ7ErVAAALueeOIJSdKxY8ds2g8fPqzOnTuraNGicnV1Vb169bR8+XLr9t27d8tisWjevHlpxly1apUsFotWrFhhbTt79qz69OmjkiVLysXFRTVr1tScOXNs9ktdtxAREaF3331X5cqVk6urq1q0aKE///zTpm+FChUUFhaW5thBQUEKCgqyaUtMTNS4ceNUuXJlubi4yMfHR6+//roSExPven1++ukn3b59Wy1btrRb6z9vTQoKClKtWrX0+++/q3nz5nJzc1PZsmX1wQcf3PU4WXXp0iXFx8erSZMmdreXKFEiU+P4+voqPDxcSUlJaeosUaKEHnnkEf3444+m6wXw8CBYAADsOnnypCSpSJEi1raDBw/q8ccf16FDhzR69GhNnTpVhQoVUocOHbR06VJJUr169eTn56eIiIg0Yy5cuFBFihRRcHCwJOnChQt6/PHHtXbtWg0ZMkTTp09X5cqV9eKLL2ratGlp9n///fe1dOlSjRw5UmPGjNH27dvVo0ePbJ1fSkqKnn76aU2ZMkXt27fXjBkz1KFDB3388cfq2rXrXffftm2bvL295evrm6njXb16VSEhIapdu7amTp2qatWqadSoUfrll1+yVX96SpQooYIFC+p///ufrly5YmqsRo0aqVKlSlqzZk2abY899pi2bdtmanwADxduhQIASJLi4uJ06dIlJSQkaMeOHZowYYJcXFzUrl07a5+XX35Z5cuX165du+Ti4iJJeumll9S0aVONGjVKHTt2lCR17dpVU6ZM0dWrV63BJCkpSUuXLtWzzz4rJycnSdKbb76p5ORk/fbbb/L29pYkDRw4UN26ddP48eM1YMAAFSxY0Hr8hIQE7d2717p+oUiRInr55Zd14MAB1apVK0vn++2332rt2rXauHGjmjZtam2vVauWBg4cqG3btqlx48bp7n/48GFVqFAh08c7d+6c5s+fr169ekmSXnzxRfn6+uqrr75S69ats1R7RgoUKKDXXntNEydOVPny5dWsWTM1bdpUISEhqlu3bpbHq1Wrln788UfFx8fL09PT2u7n56dLly4pJiYm07MgAB5uzFgAACRJLVu2VPHixeXj46POnTurUKFCWr58ucqVKydJunLlitavX68uXbro2rVrunTpki5duqTLly8rODhYR48etT5FqmvXrrp165Z++OEH6/irV69WbGysdTbAMAwtWbJE7du3l2EY1vEuXbqk4OBgxcXFKSoqyqbGF154wWZRdOrtWsePH8/y+S5atEjVq1dXtWrVbI795JNPSpI2bNiQ4f6XL1+2mc25G3d3d5t1DM7OzmrQoEG2ar+bCRMm6Ntvv1WdOnW0atUqvfnmm3rsscdUt25dHTp0KEtjubu7S5KuXbtm05567pcuXcqZogHkecxYAAAkSTNnzlSVKlUUFxenOXPmaNOmTdZZCUn6888/ZRiGxo4dq7Fjx9odIyYmRmXLllXt2rVVrVo1LVy4UC+++KKkO7dBFStWzPrF/eLFi4qNjdUXX3yhL774It3x/ql8+fI2n1O/3F69ejXL53v06FEdOnRIxYsXz9Sx7TEMI9PHK1eunCwWi01bkSJFtH///kyPkZF/j92tWzd169ZN8fHx2rFjh8LDw/Xtt9+qffv2WXrS1/Xr1yUpzdOfUs/938cFkH8RLAAAkqQGDRpYnwrVoUMHNW3aVN27d9eRI0fk7u6ulJQUSdLIkSOtayT+7Z+PXe3ataveffddXbp0SR4eHlq+fLm6desmR8c7//SkjtezZ0+FhobaHe+RRx6x+ezg4GC33z+/4Kf3RTc5Odlm/5SUFAUEBOijjz6y29/Hx8dueypvb+8sBZrM1J4eFxcX/f3333a33bx5U5LSDQqenp5q1aqVWrVqJScnJ82bN087duxQYGBgpuo+cOCASpQoYXMblPT/w1yxYsUyNQ6Ahx/BAgCQhoODgyZNmqTmzZvr008/1ejRo+Xn5ydJcnJySvMkJHu6du2qCRMmaMmSJSpZsqTi4+Nt3odQvHhxeXh4KDk5OVPjZVaRIkUUGxubpv3UqVPWc5CkSpUqad++fWrRokW2futerVo1LVmyxEypmebr66sjR47Y3ZbanplF5PXq1dO8efMUHR2dqeP++uuvOnbsWJpH0UrSiRMnVKxYsXRnfADkP6yxAADYFRQUpAYNGmjatGlKSEhQiRIlFBQUpM8//9zuF9OLFy/afK5evboCAgK0cOFCLVy4UKVLl1azZs2s2x0cHNSpUyctWbJEBw4cuOt4mVWpUiVt375dSUlJ1rYVK1bozJkzNv26dOmis2fP6ssvv0wzxt9//60bN25keJxGjRrp6tWr92SNxL+1adNG27dv1549e2zaY2NjtWDBAj366KMqVaqUpDszGL/++qvdcVKfQFW1atW7HvPUqVMKCwuTs7OzXnvttTTb9+zZo0aNGmX1VAA8xJixAACk67XXXtNzzz2n8PBwDRw4UDNnzlTTpk0VEBCgfv36yc/PTxcuXNCvv/6qv/76S/v27bPZv2vXrnrrrbfk6uqqF198UQUK2P4+6/3339eGDRvUsGFD9evXTzVq1NCVK1cUFRWltWvXZutxqX379tXixYsVEhKiLl266NixY/rmm29UqVIlm369evVSRESEBg4cqA0bNqhJkyZKTk7W4cOHFRERoVWrVllvDbOnbdu2cnR01Nq1a9W/f/8s15kVo0eP1qJFi9SsWTMNGDBA1apV07lz5xQeHq7o6GjNnTvX2vfmzZtq3LixHn/8cYWEhMjHx0exsbFatmyZNm/erA4dOqhOnTo240dFRembb75RSkqKYmNjtWvXLi1ZskQWi0Vff/11mlvSYmJitH//fg0ePPienjeAPMYAAORrc+fONSQZu3btSrMtOTnZqFSpklGpUiXj9u3bhmEYxrFjx4zevXsbpUqVMpycnIyyZcsa7dq1MxYvXpxm/6NHjxqSDEnGli1b7B7/woULxuDBgw0fHx/DycnJKFWqlNGiRQvjiy++sPbZsGGDIclYtGiRzb4nTpwwJBlz5861aZ86dapRtmxZw8XFxWjSpImxe/duIzAw0AgMDLTpl5SUZEyePNmoWbOm4eLiYhQpUsR47LHHjAkTJhhxcXF3vXZPP/200aJFC5u21Fo3bNhgbQsMDDRq1qyZZv/Q0FDD19f3rscxDMP466+/jL59+xply5Y1HB0djaJFixrt2rUztm/fbtPv1q1bxpdffml06NDB8PX1NVxcXAw3NzejTp06xocffmgkJiZa+6Zev9Sf1HEbNmxojBkzxjh16pTdWmbNmmW4ubkZ8fHxmaodQP5gMYwsPNICAABYbd68WUFBQTp8+LD8/f1zu5z7pk6dOgoKCtLHH3+c26UAeIAQLAAAMKF169YqV66c3bUaD6OVK1eqc+fOOn78OC/GA2CDYAEAAADANJ4KBQAAAMA0ggUAAAAA0wgWAAAAAEwjWAAAAAAwjWABAAAAwDSCBQAAAADTCBYAAAAATCNYAAAAADCNYAEAAADANIIFAAAAANMIFgAAAABM+39fA4+s5DtiRQAAAABJRU5ErkJggg==\n"
          },
          "metadata": {}
        }
      ]
    },
    {
      "cell_type": "markdown",
      "source": [
        "From the data:\n",
        "\n",
        "1. **China** is the top revenue-generating country for theLook eCommerce, contributing significantly with a revenue of approximately **\$12.74 million**.\n",
        "2. The **United States** follows with a notable revenue of **\$8.16 million**, making it the second-largest market.\n",
        "3. **Brazil** ranks third, generating around **\$5.36 million**, showing strong performance in the South American region.\n",
        "4. **South Korea** and **France** contribute smaller, yet substantial revenues of **\$1.96 million** and **\$1.82 million** respectively.\n",
        "\n",
        "The data highlights that **China** and the **United States** are the company's strongest markets, while there is notable traction in emerging markets like **Brazil**."
      ],
      "metadata": {
        "id": "3ZqNP1ON178y"
      }
    }
  ]
}
