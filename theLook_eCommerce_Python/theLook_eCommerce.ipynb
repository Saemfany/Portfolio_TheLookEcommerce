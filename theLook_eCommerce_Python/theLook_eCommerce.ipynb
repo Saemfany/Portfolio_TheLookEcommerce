{
  "nbformat": 4,
  "nbformat_minor": 0,
  "metadata": {
    "colab": {
      "provenance": [],
      "toc_visible": true
    },
    "kernelspec": {
      "name": "python3",
      "display_name": "Python 3"
    },
    "language_info": {
      "name": "python"
    }
  },
  "cells": [
    {
      "cell_type": "markdown",
      "source": [
        "# **theLook eCommerce Data Analysis with Python**\n",
        "\n",
        "\n",
        "---\n"
      ],
      "metadata": {
        "id": "oQ-Yihsw5c1v"
      }
    },
    {
      "cell_type": "markdown",
      "source": [
        "## Install the required libraries"
      ],
      "metadata": {
        "id": "XGz3BwGFNwqM"
      }
    },
    {
      "cell_type": "code",
      "source": [
        "!pip install pandas matplotlib"
      ],
      "metadata": {
        "colab": {
          "base_uri": "https://localhost:8080/"
        },
        "id": "TkUpXWJkLsYU",
        "outputId": "16880aa9-7018-4f95-e050-2cc6fad4af31"
      },
      "execution_count": 1,
      "outputs": [
        {
          "output_type": "stream",
          "name": "stdout",
          "text": [
            "Requirement already satisfied: pandas in /usr/local/lib/python3.10/dist-packages (2.1.4)\n",
            "Requirement already satisfied: matplotlib in /usr/local/lib/python3.10/dist-packages (3.7.1)\n",
            "Requirement already satisfied: numpy<2,>=1.22.4 in /usr/local/lib/python3.10/dist-packages (from pandas) (1.26.4)\n",
            "Requirement already satisfied: python-dateutil>=2.8.2 in /usr/local/lib/python3.10/dist-packages (from pandas) (2.8.2)\n",
            "Requirement already satisfied: pytz>=2020.1 in /usr/local/lib/python3.10/dist-packages (from pandas) (2024.2)\n",
            "Requirement already satisfied: tzdata>=2022.1 in /usr/local/lib/python3.10/dist-packages (from pandas) (2024.1)\n",
            "Requirement already satisfied: contourpy>=1.0.1 in /usr/local/lib/python3.10/dist-packages (from matplotlib) (1.3.0)\n",
            "Requirement already satisfied: cycler>=0.10 in /usr/local/lib/python3.10/dist-packages (from matplotlib) (0.12.1)\n",
            "Requirement already satisfied: fonttools>=4.22.0 in /usr/local/lib/python3.10/dist-packages (from matplotlib) (4.53.1)\n",
            "Requirement already satisfied: kiwisolver>=1.0.1 in /usr/local/lib/python3.10/dist-packages (from matplotlib) (1.4.7)\n",
            "Requirement already satisfied: packaging>=20.0 in /usr/local/lib/python3.10/dist-packages (from matplotlib) (24.1)\n",
            "Requirement already satisfied: pillow>=6.2.0 in /usr/local/lib/python3.10/dist-packages (from matplotlib) (9.4.0)\n",
            "Requirement already satisfied: pyparsing>=2.3.1 in /usr/local/lib/python3.10/dist-packages (from matplotlib) (3.1.4)\n",
            "Requirement already satisfied: six>=1.5 in /usr/local/lib/python3.10/dist-packages (from python-dateutil>=2.8.2->pandas) (1.16.0)\n"
          ]
        }
      ]
    },
    {
      "cell_type": "markdown",
      "source": [
        "### Import the required libraries"
      ],
      "metadata": {
        "id": "5tpTybGaG_dd"
      }
    },
    {
      "cell_type": "code",
      "source": [
        "import pandas as pd\n",
        "import matplotlib.pyplot as plt\n",
        "import matplotlib.ticker as ticker"
      ],
      "metadata": {
        "id": "TdoRgCxYNRwC"
      },
      "execution_count": 2,
      "outputs": []
    },
    {
      "cell_type": "markdown",
      "source": [
        "## Mounted google.colab with google.drive"
      ],
      "metadata": {
        "id": "cPyBiNBmHs7t"
      }
    },
    {
      "cell_type": "code",
      "source": [
        "from google.colab import drive\n",
        "drive.mount('/content/drive')"
      ],
      "metadata": {
        "colab": {
          "base_uri": "https://localhost:8080/"
        },
        "id": "MaP7f_GNHi5_",
        "outputId": "782f8558-b2f0-4db0-9627-e12072d230bb"
      },
      "execution_count": 3,
      "outputs": [
        {
          "output_type": "stream",
          "name": "stdout",
          "text": [
            "Mounted at /content/drive\n"
          ]
        }
      ]
    },
    {
      "cell_type": "markdown",
      "source": [
        "### Import csv data from google.drive"
      ],
      "metadata": {
        "id": "o2UrB7mTTzzl"
      }
    },
    {
      "cell_type": "markdown",
      "source": [
        "csv data: https://drive.google.com/file/d/16mRDjVGWvq1G5Fqlxf-fuDYHpUv0szPi/view?usp=sharing\n",
        "\n",
        "df is a dataframe of theLook eCommerce"
      ],
      "metadata": {
        "id": "Qdhr0Tbj1XBu"
      }
    },
    {
      "cell_type": "code",
      "source": [
        "file_path = '/content/drive/My Drive/bq-results-20240911-033404-1726025664657/bq-results-20240911-033404-1726025664657.csv'\n",
        "df = pd.read_csv(file_path)"
      ],
      "metadata": {
        "id": "-_OObOTNTpep"
      },
      "execution_count": 4,
      "outputs": []
    },
    {
      "cell_type": "markdown",
      "source": [
        "Show top 5 of the data"
      ],
      "metadata": {
        "id": "lmKB_IVC0Irf"
      }
    },
    {
      "cell_type": "code",
      "source": [
        "df.head()"
      ],
      "metadata": {
        "colab": {
          "base_uri": "https://localhost:8080/",
          "height": 521
        },
        "id": "0EGToEkXUMGE",
        "outputId": "85fa275e-fcaf-4e47-c528-9ba628e19cf9"
      },
      "execution_count": 5,
      "outputs": [
        {
          "output_type": "execute_result",
          "data": {
            "text/plain": [
              "   customer_id customer_name  age gender country traffic_source  order_id  \\\n",
              "0         1535  Tonya Martin   56      F  Brasil         Search    1882.0   \n",
              "1         1535  Tonya Martin   56      F  Brasil         Search    1882.0   \n",
              "2         1535  Tonya Martin   56      F  Brasil         Search    1882.0   \n",
              "3         1535  Tonya Martin   56      F  Brasil         Search    1882.0   \n",
              "4         1535  Tonya Martin   56      F  Brasil         Search    1882.0   \n",
              "\n",
              "        order_created_date    status  product_id  \\\n",
              "0  2023-10-27 09:03:00 UTC  Complete     14951.0   \n",
              "1  2023-10-27 09:03:00 UTC  Complete     14548.0   \n",
              "2  2023-10-27 09:03:00 UTC  Complete     15217.0   \n",
              "3  2023-10-27 09:03:00 UTC  Complete      2010.0   \n",
              "4  2023-10-27 09:03:00 UTC  Complete     12029.0   \n",
              "\n",
              "                product_category  \\\n",
              "0                      Maternity   \n",
              "1                      Maternity   \n",
              "2                      Maternity   \n",
              "3  Fashion Hoodies & Sweatshirts   \n",
              "4                      Intimates   \n",
              "\n",
              "                                        product_name  \\\n",
              "0  Maternity Holdup Suspenders Worn Under Materni...   \n",
              "1  Three Seasons Maternity Women's 3/4 Sleeve Sol...   \n",
              "2  Womens Maternity Two Piece Tankini Bikini Swim...   \n",
              "3        O'Neill Juniors Jackson Pullover Sweatshirt   \n",
              "4  Frederick's of Hollywood Hollywood Dream Full-...   \n",
              "\n",
              "              product_brand  num_of_item  sale_price  \n",
              "0     Hold-Up Suspender Co.          1.0   18.950001  \n",
              "1   Three Seasons Maternity          1.0   32.000000  \n",
              "2                      COCO          1.0   44.990002  \n",
              "3                   O'Neill          1.0   50.000000  \n",
              "4  Frederick's of Hollywood          1.0   62.000000  "
            ],
            "text/html": [
              "\n",
              "  <div id=\"df-aec6c84c-0a74-437c-b9c7-524597358f7f\" class=\"colab-df-container\">\n",
              "    <div>\n",
              "<style scoped>\n",
              "    .dataframe tbody tr th:only-of-type {\n",
              "        vertical-align: middle;\n",
              "    }\n",
              "\n",
              "    .dataframe tbody tr th {\n",
              "        vertical-align: top;\n",
              "    }\n",
              "\n",
              "    .dataframe thead th {\n",
              "        text-align: right;\n",
              "    }\n",
              "</style>\n",
              "<table border=\"1\" class=\"dataframe\">\n",
              "  <thead>\n",
              "    <tr style=\"text-align: right;\">\n",
              "      <th></th>\n",
              "      <th>customer_id</th>\n",
              "      <th>customer_name</th>\n",
              "      <th>age</th>\n",
              "      <th>gender</th>\n",
              "      <th>country</th>\n",
              "      <th>traffic_source</th>\n",
              "      <th>order_id</th>\n",
              "      <th>order_created_date</th>\n",
              "      <th>status</th>\n",
              "      <th>product_id</th>\n",
              "      <th>product_category</th>\n",
              "      <th>product_name</th>\n",
              "      <th>product_brand</th>\n",
              "      <th>num_of_item</th>\n",
              "      <th>sale_price</th>\n",
              "    </tr>\n",
              "  </thead>\n",
              "  <tbody>\n",
              "    <tr>\n",
              "      <th>0</th>\n",
              "      <td>1535</td>\n",
              "      <td>Tonya Martin</td>\n",
              "      <td>56</td>\n",
              "      <td>F</td>\n",
              "      <td>Brasil</td>\n",
              "      <td>Search</td>\n",
              "      <td>1882.0</td>\n",
              "      <td>2023-10-27 09:03:00 UTC</td>\n",
              "      <td>Complete</td>\n",
              "      <td>14951.0</td>\n",
              "      <td>Maternity</td>\n",
              "      <td>Maternity Holdup Suspenders Worn Under Materni...</td>\n",
              "      <td>Hold-Up Suspender Co.</td>\n",
              "      <td>1.0</td>\n",
              "      <td>18.950001</td>\n",
              "    </tr>\n",
              "    <tr>\n",
              "      <th>1</th>\n",
              "      <td>1535</td>\n",
              "      <td>Tonya Martin</td>\n",
              "      <td>56</td>\n",
              "      <td>F</td>\n",
              "      <td>Brasil</td>\n",
              "      <td>Search</td>\n",
              "      <td>1882.0</td>\n",
              "      <td>2023-10-27 09:03:00 UTC</td>\n",
              "      <td>Complete</td>\n",
              "      <td>14548.0</td>\n",
              "      <td>Maternity</td>\n",
              "      <td>Three Seasons Maternity Women's 3/4 Sleeve Sol...</td>\n",
              "      <td>Three Seasons Maternity</td>\n",
              "      <td>1.0</td>\n",
              "      <td>32.000000</td>\n",
              "    </tr>\n",
              "    <tr>\n",
              "      <th>2</th>\n",
              "      <td>1535</td>\n",
              "      <td>Tonya Martin</td>\n",
              "      <td>56</td>\n",
              "      <td>F</td>\n",
              "      <td>Brasil</td>\n",
              "      <td>Search</td>\n",
              "      <td>1882.0</td>\n",
              "      <td>2023-10-27 09:03:00 UTC</td>\n",
              "      <td>Complete</td>\n",
              "      <td>15217.0</td>\n",
              "      <td>Maternity</td>\n",
              "      <td>Womens Maternity Two Piece Tankini Bikini Swim...</td>\n",
              "      <td>COCO</td>\n",
              "      <td>1.0</td>\n",
              "      <td>44.990002</td>\n",
              "    </tr>\n",
              "    <tr>\n",
              "      <th>3</th>\n",
              "      <td>1535</td>\n",
              "      <td>Tonya Martin</td>\n",
              "      <td>56</td>\n",
              "      <td>F</td>\n",
              "      <td>Brasil</td>\n",
              "      <td>Search</td>\n",
              "      <td>1882.0</td>\n",
              "      <td>2023-10-27 09:03:00 UTC</td>\n",
              "      <td>Complete</td>\n",
              "      <td>2010.0</td>\n",
              "      <td>Fashion Hoodies &amp; Sweatshirts</td>\n",
              "      <td>O'Neill Juniors Jackson Pullover Sweatshirt</td>\n",
              "      <td>O'Neill</td>\n",
              "      <td>1.0</td>\n",
              "      <td>50.000000</td>\n",
              "    </tr>\n",
              "    <tr>\n",
              "      <th>4</th>\n",
              "      <td>1535</td>\n",
              "      <td>Tonya Martin</td>\n",
              "      <td>56</td>\n",
              "      <td>F</td>\n",
              "      <td>Brasil</td>\n",
              "      <td>Search</td>\n",
              "      <td>1882.0</td>\n",
              "      <td>2023-10-27 09:03:00 UTC</td>\n",
              "      <td>Complete</td>\n",
              "      <td>12029.0</td>\n",
              "      <td>Intimates</td>\n",
              "      <td>Frederick's of Hollywood Hollywood Dream Full-...</td>\n",
              "      <td>Frederick's of Hollywood</td>\n",
              "      <td>1.0</td>\n",
              "      <td>62.000000</td>\n",
              "    </tr>\n",
              "  </tbody>\n",
              "</table>\n",
              "</div>\n",
              "    <div class=\"colab-df-buttons\">\n",
              "\n",
              "  <div class=\"colab-df-container\">\n",
              "    <button class=\"colab-df-convert\" onclick=\"convertToInteractive('df-aec6c84c-0a74-437c-b9c7-524597358f7f')\"\n",
              "            title=\"Convert this dataframe to an interactive table.\"\n",
              "            style=\"display:none;\">\n",
              "\n",
              "  <svg xmlns=\"http://www.w3.org/2000/svg\" height=\"24px\" viewBox=\"0 -960 960 960\">\n",
              "    <path d=\"M120-120v-720h720v720H120Zm60-500h600v-160H180v160Zm220 220h160v-160H400v160Zm0 220h160v-160H400v160ZM180-400h160v-160H180v160Zm440 0h160v-160H620v160ZM180-180h160v-160H180v160Zm440 0h160v-160H620v160Z\"/>\n",
              "  </svg>\n",
              "    </button>\n",
              "\n",
              "  <style>\n",
              "    .colab-df-container {\n",
              "      display:flex;\n",
              "      gap: 12px;\n",
              "    }\n",
              "\n",
              "    .colab-df-convert {\n",
              "      background-color: #E8F0FE;\n",
              "      border: none;\n",
              "      border-radius: 50%;\n",
              "      cursor: pointer;\n",
              "      display: none;\n",
              "      fill: #1967D2;\n",
              "      height: 32px;\n",
              "      padding: 0 0 0 0;\n",
              "      width: 32px;\n",
              "    }\n",
              "\n",
              "    .colab-df-convert:hover {\n",
              "      background-color: #E2EBFA;\n",
              "      box-shadow: 0px 1px 2px rgba(60, 64, 67, 0.3), 0px 1px 3px 1px rgba(60, 64, 67, 0.15);\n",
              "      fill: #174EA6;\n",
              "    }\n",
              "\n",
              "    .colab-df-buttons div {\n",
              "      margin-bottom: 4px;\n",
              "    }\n",
              "\n",
              "    [theme=dark] .colab-df-convert {\n",
              "      background-color: #3B4455;\n",
              "      fill: #D2E3FC;\n",
              "    }\n",
              "\n",
              "    [theme=dark] .colab-df-convert:hover {\n",
              "      background-color: #434B5C;\n",
              "      box-shadow: 0px 1px 3px 1px rgba(0, 0, 0, 0.15);\n",
              "      filter: drop-shadow(0px 1px 2px rgba(0, 0, 0, 0.3));\n",
              "      fill: #FFFFFF;\n",
              "    }\n",
              "  </style>\n",
              "\n",
              "    <script>\n",
              "      const buttonEl =\n",
              "        document.querySelector('#df-aec6c84c-0a74-437c-b9c7-524597358f7f button.colab-df-convert');\n",
              "      buttonEl.style.display =\n",
              "        google.colab.kernel.accessAllowed ? 'block' : 'none';\n",
              "\n",
              "      async function convertToInteractive(key) {\n",
              "        const element = document.querySelector('#df-aec6c84c-0a74-437c-b9c7-524597358f7f');\n",
              "        const dataTable =\n",
              "          await google.colab.kernel.invokeFunction('convertToInteractive',\n",
              "                                                    [key], {});\n",
              "        if (!dataTable) return;\n",
              "\n",
              "        const docLinkHtml = 'Like what you see? Visit the ' +\n",
              "          '<a target=\"_blank\" href=https://colab.research.google.com/notebooks/data_table.ipynb>data table notebook</a>'\n",
              "          + ' to learn more about interactive tables.';\n",
              "        element.innerHTML = '';\n",
              "        dataTable['output_type'] = 'display_data';\n",
              "        await google.colab.output.renderOutput(dataTable, element);\n",
              "        const docLink = document.createElement('div');\n",
              "        docLink.innerHTML = docLinkHtml;\n",
              "        element.appendChild(docLink);\n",
              "      }\n",
              "    </script>\n",
              "  </div>\n",
              "\n",
              "\n",
              "<div id=\"df-21c771f9-36e7-4361-a35d-7c82766985ee\">\n",
              "  <button class=\"colab-df-quickchart\" onclick=\"quickchart('df-21c771f9-36e7-4361-a35d-7c82766985ee')\"\n",
              "            title=\"Suggest charts\"\n",
              "            style=\"display:none;\">\n",
              "\n",
              "<svg xmlns=\"http://www.w3.org/2000/svg\" height=\"24px\"viewBox=\"0 0 24 24\"\n",
              "     width=\"24px\">\n",
              "    <g>\n",
              "        <path d=\"M19 3H5c-1.1 0-2 .9-2 2v14c0 1.1.9 2 2 2h14c1.1 0 2-.9 2-2V5c0-1.1-.9-2-2-2zM9 17H7v-7h2v7zm4 0h-2V7h2v10zm4 0h-2v-4h2v4z\"/>\n",
              "    </g>\n",
              "</svg>\n",
              "  </button>\n",
              "\n",
              "<style>\n",
              "  .colab-df-quickchart {\n",
              "      --bg-color: #E8F0FE;\n",
              "      --fill-color: #1967D2;\n",
              "      --hover-bg-color: #E2EBFA;\n",
              "      --hover-fill-color: #174EA6;\n",
              "      --disabled-fill-color: #AAA;\n",
              "      --disabled-bg-color: #DDD;\n",
              "  }\n",
              "\n",
              "  [theme=dark] .colab-df-quickchart {\n",
              "      --bg-color: #3B4455;\n",
              "      --fill-color: #D2E3FC;\n",
              "      --hover-bg-color: #434B5C;\n",
              "      --hover-fill-color: #FFFFFF;\n",
              "      --disabled-bg-color: #3B4455;\n",
              "      --disabled-fill-color: #666;\n",
              "  }\n",
              "\n",
              "  .colab-df-quickchart {\n",
              "    background-color: var(--bg-color);\n",
              "    border: none;\n",
              "    border-radius: 50%;\n",
              "    cursor: pointer;\n",
              "    display: none;\n",
              "    fill: var(--fill-color);\n",
              "    height: 32px;\n",
              "    padding: 0;\n",
              "    width: 32px;\n",
              "  }\n",
              "\n",
              "  .colab-df-quickchart:hover {\n",
              "    background-color: var(--hover-bg-color);\n",
              "    box-shadow: 0 1px 2px rgba(60, 64, 67, 0.3), 0 1px 3px 1px rgba(60, 64, 67, 0.15);\n",
              "    fill: var(--button-hover-fill-color);\n",
              "  }\n",
              "\n",
              "  .colab-df-quickchart-complete:disabled,\n",
              "  .colab-df-quickchart-complete:disabled:hover {\n",
              "    background-color: var(--disabled-bg-color);\n",
              "    fill: var(--disabled-fill-color);\n",
              "    box-shadow: none;\n",
              "  }\n",
              "\n",
              "  .colab-df-spinner {\n",
              "    border: 2px solid var(--fill-color);\n",
              "    border-color: transparent;\n",
              "    border-bottom-color: var(--fill-color);\n",
              "    animation:\n",
              "      spin 1s steps(1) infinite;\n",
              "  }\n",
              "\n",
              "  @keyframes spin {\n",
              "    0% {\n",
              "      border-color: transparent;\n",
              "      border-bottom-color: var(--fill-color);\n",
              "      border-left-color: var(--fill-color);\n",
              "    }\n",
              "    20% {\n",
              "      border-color: transparent;\n",
              "      border-left-color: var(--fill-color);\n",
              "      border-top-color: var(--fill-color);\n",
              "    }\n",
              "    30% {\n",
              "      border-color: transparent;\n",
              "      border-left-color: var(--fill-color);\n",
              "      border-top-color: var(--fill-color);\n",
              "      border-right-color: var(--fill-color);\n",
              "    }\n",
              "    40% {\n",
              "      border-color: transparent;\n",
              "      border-right-color: var(--fill-color);\n",
              "      border-top-color: var(--fill-color);\n",
              "    }\n",
              "    60% {\n",
              "      border-color: transparent;\n",
              "      border-right-color: var(--fill-color);\n",
              "    }\n",
              "    80% {\n",
              "      border-color: transparent;\n",
              "      border-right-color: var(--fill-color);\n",
              "      border-bottom-color: var(--fill-color);\n",
              "    }\n",
              "    90% {\n",
              "      border-color: transparent;\n",
              "      border-bottom-color: var(--fill-color);\n",
              "    }\n",
              "  }\n",
              "</style>\n",
              "\n",
              "  <script>\n",
              "    async function quickchart(key) {\n",
              "      const quickchartButtonEl =\n",
              "        document.querySelector('#' + key + ' button');\n",
              "      quickchartButtonEl.disabled = true;  // To prevent multiple clicks.\n",
              "      quickchartButtonEl.classList.add('colab-df-spinner');\n",
              "      try {\n",
              "        const charts = await google.colab.kernel.invokeFunction(\n",
              "            'suggestCharts', [key], {});\n",
              "      } catch (error) {\n",
              "        console.error('Error during call to suggestCharts:', error);\n",
              "      }\n",
              "      quickchartButtonEl.classList.remove('colab-df-spinner');\n",
              "      quickchartButtonEl.classList.add('colab-df-quickchart-complete');\n",
              "    }\n",
              "    (() => {\n",
              "      let quickchartButtonEl =\n",
              "        document.querySelector('#df-21c771f9-36e7-4361-a35d-7c82766985ee button');\n",
              "      quickchartButtonEl.style.display =\n",
              "        google.colab.kernel.accessAllowed ? 'block' : 'none';\n",
              "    })();\n",
              "  </script>\n",
              "</div>\n",
              "\n",
              "    </div>\n",
              "  </div>\n"
            ],
            "application/vnd.google.colaboratory.intrinsic+json": {
              "type": "dataframe",
              "variable_name": "df"
            }
          },
          "metadata": {},
          "execution_count": 5
        }
      ]
    },
    {
      "cell_type": "markdown",
      "source": [
        "Number of duplicated rows"
      ],
      "metadata": {
        "id": "o67Q0tQY6r6H"
      }
    },
    {
      "cell_type": "code",
      "source": [
        "df.duplicated().sum()"
      ],
      "metadata": {
        "colab": {
          "base_uri": "https://localhost:8080/"
        },
        "id": "FaugfIveEu0P",
        "outputId": "ad8686fe-1b0f-4146-c22d-85aa0fe433ce"
      },
      "execution_count": 6,
      "outputs": [
        {
          "output_type": "execute_result",
          "data": {
            "text/plain": [
              "42"
            ]
          },
          "metadata": {},
          "execution_count": 6
        }
      ]
    },
    {
      "cell_type": "markdown",
      "source": [
        "Create a new variable which is a dataframe with duplicate rows of data removed."
      ],
      "metadata": {
        "id": "xRadGu4W69BM"
      }
    },
    {
      "cell_type": "code",
      "source": [
        "df_cleaned = df.drop_duplicates()"
      ],
      "metadata": {
        "id": "c-wpUgevE_N4"
      },
      "execution_count": 7,
      "outputs": []
    },
    {
      "cell_type": "markdown",
      "source": [
        "Reset index of the data"
      ],
      "metadata": {
        "id": "0EEbNHm78j2N"
      }
    },
    {
      "cell_type": "code",
      "source": [
        "df_cleaned = df_cleaned.reset_index(drop=True)"
      ],
      "metadata": {
        "id": "Ey-5jT-NFXcu"
      },
      "execution_count": 8,
      "outputs": []
    },
    {
      "cell_type": "code",
      "source": [
        "df_cleaned.info()"
      ],
      "metadata": {
        "colab": {
          "base_uri": "https://localhost:8080/"
        },
        "id": "D-TmMC1dFZ8N",
        "outputId": "3e437f3a-a9fe-41f1-ddfd-2d736ec3e3b5"
      },
      "execution_count": 9,
      "outputs": [
        {
          "output_type": "stream",
          "name": "stdout",
          "text": [
            "<class 'pandas.core.frame.DataFrame'>\n",
            "RangeIndex: 391510 entries, 0 to 391509\n",
            "Data columns (total 15 columns):\n",
            " #   Column              Non-Null Count   Dtype  \n",
            "---  ------              --------------   -----  \n",
            " 0   customer_id         391510 non-null  int64  \n",
            " 1   customer_name       391510 non-null  object \n",
            " 2   age                 391510 non-null  int64  \n",
            " 3   gender              391510 non-null  object \n",
            " 4   country             391510 non-null  object \n",
            " 5   traffic_source      391510 non-null  object \n",
            " 6   order_id            371329 non-null  float64\n",
            " 7   order_created_date  371329 non-null  object \n",
            " 8   status              371329 non-null  object \n",
            " 9   product_id          371329 non-null  float64\n",
            " 10  product_category    371329 non-null  object \n",
            " 11  product_name        371308 non-null  object \n",
            " 12  product_brand       370995 non-null  object \n",
            " 13  num_of_item         371329 non-null  float64\n",
            " 14  sale_price          371329 non-null  float64\n",
            "dtypes: float64(4), int64(2), object(9)\n",
            "memory usage: 44.8+ MB\n"
          ]
        }
      ]
    },
    {
      "cell_type": "markdown",
      "source": [
        "Convert 'order_created_date' data type, from string to datetime."
      ],
      "metadata": {
        "id": "y42Iq0Y_2L-_"
      }
    },
    {
      "cell_type": "code",
      "source": [
        "# Convert to datetime, including handling microseconds and timezone\n",
        "df_cleaned['order_created_date'] = pd.to_datetime(df_cleaned['order_created_date'], errors='coerce', utc=True)\n",
        "\n",
        "# Remove microseconds if needed\n",
        "df_cleaned['order_created_date'] = df_cleaned['order_created_date'].dt.floor('S')\n",
        "\n",
        "df_cleaned.head()"
      ],
      "metadata": {
        "colab": {
          "base_uri": "https://localhost:8080/",
          "height": 521
        },
        "id": "6hR8hFtMPc4i",
        "outputId": "958304b5-fe20-40fc-d844-74e58bfe9370"
      },
      "execution_count": 10,
      "outputs": [
        {
          "output_type": "execute_result",
          "data": {
            "text/plain": [
              "   customer_id customer_name  age gender country traffic_source  order_id  \\\n",
              "0         1535  Tonya Martin   56      F  Brasil         Search    1882.0   \n",
              "1         1535  Tonya Martin   56      F  Brasil         Search    1882.0   \n",
              "2         1535  Tonya Martin   56      F  Brasil         Search    1882.0   \n",
              "3         1535  Tonya Martin   56      F  Brasil         Search    1882.0   \n",
              "4         1535  Tonya Martin   56      F  Brasil         Search    1882.0   \n",
              "\n",
              "         order_created_date    status  product_id  \\\n",
              "0 2023-10-27 09:03:00+00:00  Complete     14951.0   \n",
              "1 2023-10-27 09:03:00+00:00  Complete     14548.0   \n",
              "2 2023-10-27 09:03:00+00:00  Complete     15217.0   \n",
              "3 2023-10-27 09:03:00+00:00  Complete      2010.0   \n",
              "4 2023-10-27 09:03:00+00:00  Complete     12029.0   \n",
              "\n",
              "                product_category  \\\n",
              "0                      Maternity   \n",
              "1                      Maternity   \n",
              "2                      Maternity   \n",
              "3  Fashion Hoodies & Sweatshirts   \n",
              "4                      Intimates   \n",
              "\n",
              "                                        product_name  \\\n",
              "0  Maternity Holdup Suspenders Worn Under Materni...   \n",
              "1  Three Seasons Maternity Women's 3/4 Sleeve Sol...   \n",
              "2  Womens Maternity Two Piece Tankini Bikini Swim...   \n",
              "3        O'Neill Juniors Jackson Pullover Sweatshirt   \n",
              "4  Frederick's of Hollywood Hollywood Dream Full-...   \n",
              "\n",
              "              product_brand  num_of_item  sale_price  \n",
              "0     Hold-Up Suspender Co.          1.0   18.950001  \n",
              "1   Three Seasons Maternity          1.0   32.000000  \n",
              "2                      COCO          1.0   44.990002  \n",
              "3                   O'Neill          1.0   50.000000  \n",
              "4  Frederick's of Hollywood          1.0   62.000000  "
            ],
            "text/html": [
              "\n",
              "  <div id=\"df-c300f097-b195-4bf5-99c5-768438e7c723\" class=\"colab-df-container\">\n",
              "    <div>\n",
              "<style scoped>\n",
              "    .dataframe tbody tr th:only-of-type {\n",
              "        vertical-align: middle;\n",
              "    }\n",
              "\n",
              "    .dataframe tbody tr th {\n",
              "        vertical-align: top;\n",
              "    }\n",
              "\n",
              "    .dataframe thead th {\n",
              "        text-align: right;\n",
              "    }\n",
              "</style>\n",
              "<table border=\"1\" class=\"dataframe\">\n",
              "  <thead>\n",
              "    <tr style=\"text-align: right;\">\n",
              "      <th></th>\n",
              "      <th>customer_id</th>\n",
              "      <th>customer_name</th>\n",
              "      <th>age</th>\n",
              "      <th>gender</th>\n",
              "      <th>country</th>\n",
              "      <th>traffic_source</th>\n",
              "      <th>order_id</th>\n",
              "      <th>order_created_date</th>\n",
              "      <th>status</th>\n",
              "      <th>product_id</th>\n",
              "      <th>product_category</th>\n",
              "      <th>product_name</th>\n",
              "      <th>product_brand</th>\n",
              "      <th>num_of_item</th>\n",
              "      <th>sale_price</th>\n",
              "    </tr>\n",
              "  </thead>\n",
              "  <tbody>\n",
              "    <tr>\n",
              "      <th>0</th>\n",
              "      <td>1535</td>\n",
              "      <td>Tonya Martin</td>\n",
              "      <td>56</td>\n",
              "      <td>F</td>\n",
              "      <td>Brasil</td>\n",
              "      <td>Search</td>\n",
              "      <td>1882.0</td>\n",
              "      <td>2023-10-27 09:03:00+00:00</td>\n",
              "      <td>Complete</td>\n",
              "      <td>14951.0</td>\n",
              "      <td>Maternity</td>\n",
              "      <td>Maternity Holdup Suspenders Worn Under Materni...</td>\n",
              "      <td>Hold-Up Suspender Co.</td>\n",
              "      <td>1.0</td>\n",
              "      <td>18.950001</td>\n",
              "    </tr>\n",
              "    <tr>\n",
              "      <th>1</th>\n",
              "      <td>1535</td>\n",
              "      <td>Tonya Martin</td>\n",
              "      <td>56</td>\n",
              "      <td>F</td>\n",
              "      <td>Brasil</td>\n",
              "      <td>Search</td>\n",
              "      <td>1882.0</td>\n",
              "      <td>2023-10-27 09:03:00+00:00</td>\n",
              "      <td>Complete</td>\n",
              "      <td>14548.0</td>\n",
              "      <td>Maternity</td>\n",
              "      <td>Three Seasons Maternity Women's 3/4 Sleeve Sol...</td>\n",
              "      <td>Three Seasons Maternity</td>\n",
              "      <td>1.0</td>\n",
              "      <td>32.000000</td>\n",
              "    </tr>\n",
              "    <tr>\n",
              "      <th>2</th>\n",
              "      <td>1535</td>\n",
              "      <td>Tonya Martin</td>\n",
              "      <td>56</td>\n",
              "      <td>F</td>\n",
              "      <td>Brasil</td>\n",
              "      <td>Search</td>\n",
              "      <td>1882.0</td>\n",
              "      <td>2023-10-27 09:03:00+00:00</td>\n",
              "      <td>Complete</td>\n",
              "      <td>15217.0</td>\n",
              "      <td>Maternity</td>\n",
              "      <td>Womens Maternity Two Piece Tankini Bikini Swim...</td>\n",
              "      <td>COCO</td>\n",
              "      <td>1.0</td>\n",
              "      <td>44.990002</td>\n",
              "    </tr>\n",
              "    <tr>\n",
              "      <th>3</th>\n",
              "      <td>1535</td>\n",
              "      <td>Tonya Martin</td>\n",
              "      <td>56</td>\n",
              "      <td>F</td>\n",
              "      <td>Brasil</td>\n",
              "      <td>Search</td>\n",
              "      <td>1882.0</td>\n",
              "      <td>2023-10-27 09:03:00+00:00</td>\n",
              "      <td>Complete</td>\n",
              "      <td>2010.0</td>\n",
              "      <td>Fashion Hoodies &amp; Sweatshirts</td>\n",
              "      <td>O'Neill Juniors Jackson Pullover Sweatshirt</td>\n",
              "      <td>O'Neill</td>\n",
              "      <td>1.0</td>\n",
              "      <td>50.000000</td>\n",
              "    </tr>\n",
              "    <tr>\n",
              "      <th>4</th>\n",
              "      <td>1535</td>\n",
              "      <td>Tonya Martin</td>\n",
              "      <td>56</td>\n",
              "      <td>F</td>\n",
              "      <td>Brasil</td>\n",
              "      <td>Search</td>\n",
              "      <td>1882.0</td>\n",
              "      <td>2023-10-27 09:03:00+00:00</td>\n",
              "      <td>Complete</td>\n",
              "      <td>12029.0</td>\n",
              "      <td>Intimates</td>\n",
              "      <td>Frederick's of Hollywood Hollywood Dream Full-...</td>\n",
              "      <td>Frederick's of Hollywood</td>\n",
              "      <td>1.0</td>\n",
              "      <td>62.000000</td>\n",
              "    </tr>\n",
              "  </tbody>\n",
              "</table>\n",
              "</div>\n",
              "    <div class=\"colab-df-buttons\">\n",
              "\n",
              "  <div class=\"colab-df-container\">\n",
              "    <button class=\"colab-df-convert\" onclick=\"convertToInteractive('df-c300f097-b195-4bf5-99c5-768438e7c723')\"\n",
              "            title=\"Convert this dataframe to an interactive table.\"\n",
              "            style=\"display:none;\">\n",
              "\n",
              "  <svg xmlns=\"http://www.w3.org/2000/svg\" height=\"24px\" viewBox=\"0 -960 960 960\">\n",
              "    <path d=\"M120-120v-720h720v720H120Zm60-500h600v-160H180v160Zm220 220h160v-160H400v160Zm0 220h160v-160H400v160ZM180-400h160v-160H180v160Zm440 0h160v-160H620v160ZM180-180h160v-160H180v160Zm440 0h160v-160H620v160Z\"/>\n",
              "  </svg>\n",
              "    </button>\n",
              "\n",
              "  <style>\n",
              "    .colab-df-container {\n",
              "      display:flex;\n",
              "      gap: 12px;\n",
              "    }\n",
              "\n",
              "    .colab-df-convert {\n",
              "      background-color: #E8F0FE;\n",
              "      border: none;\n",
              "      border-radius: 50%;\n",
              "      cursor: pointer;\n",
              "      display: none;\n",
              "      fill: #1967D2;\n",
              "      height: 32px;\n",
              "      padding: 0 0 0 0;\n",
              "      width: 32px;\n",
              "    }\n",
              "\n",
              "    .colab-df-convert:hover {\n",
              "      background-color: #E2EBFA;\n",
              "      box-shadow: 0px 1px 2px rgba(60, 64, 67, 0.3), 0px 1px 3px 1px rgba(60, 64, 67, 0.15);\n",
              "      fill: #174EA6;\n",
              "    }\n",
              "\n",
              "    .colab-df-buttons div {\n",
              "      margin-bottom: 4px;\n",
              "    }\n",
              "\n",
              "    [theme=dark] .colab-df-convert {\n",
              "      background-color: #3B4455;\n",
              "      fill: #D2E3FC;\n",
              "    }\n",
              "\n",
              "    [theme=dark] .colab-df-convert:hover {\n",
              "      background-color: #434B5C;\n",
              "      box-shadow: 0px 1px 3px 1px rgba(0, 0, 0, 0.15);\n",
              "      filter: drop-shadow(0px 1px 2px rgba(0, 0, 0, 0.3));\n",
              "      fill: #FFFFFF;\n",
              "    }\n",
              "  </style>\n",
              "\n",
              "    <script>\n",
              "      const buttonEl =\n",
              "        document.querySelector('#df-c300f097-b195-4bf5-99c5-768438e7c723 button.colab-df-convert');\n",
              "      buttonEl.style.display =\n",
              "        google.colab.kernel.accessAllowed ? 'block' : 'none';\n",
              "\n",
              "      async function convertToInteractive(key) {\n",
              "        const element = document.querySelector('#df-c300f097-b195-4bf5-99c5-768438e7c723');\n",
              "        const dataTable =\n",
              "          await google.colab.kernel.invokeFunction('convertToInteractive',\n",
              "                                                    [key], {});\n",
              "        if (!dataTable) return;\n",
              "\n",
              "        const docLinkHtml = 'Like what you see? Visit the ' +\n",
              "          '<a target=\"_blank\" href=https://colab.research.google.com/notebooks/data_table.ipynb>data table notebook</a>'\n",
              "          + ' to learn more about interactive tables.';\n",
              "        element.innerHTML = '';\n",
              "        dataTable['output_type'] = 'display_data';\n",
              "        await google.colab.output.renderOutput(dataTable, element);\n",
              "        const docLink = document.createElement('div');\n",
              "        docLink.innerHTML = docLinkHtml;\n",
              "        element.appendChild(docLink);\n",
              "      }\n",
              "    </script>\n",
              "  </div>\n",
              "\n",
              "\n",
              "<div id=\"df-953ffb0e-f0d6-4622-b90a-3575a7c9cbfa\">\n",
              "  <button class=\"colab-df-quickchart\" onclick=\"quickchart('df-953ffb0e-f0d6-4622-b90a-3575a7c9cbfa')\"\n",
              "            title=\"Suggest charts\"\n",
              "            style=\"display:none;\">\n",
              "\n",
              "<svg xmlns=\"http://www.w3.org/2000/svg\" height=\"24px\"viewBox=\"0 0 24 24\"\n",
              "     width=\"24px\">\n",
              "    <g>\n",
              "        <path d=\"M19 3H5c-1.1 0-2 .9-2 2v14c0 1.1.9 2 2 2h14c1.1 0 2-.9 2-2V5c0-1.1-.9-2-2-2zM9 17H7v-7h2v7zm4 0h-2V7h2v10zm4 0h-2v-4h2v4z\"/>\n",
              "    </g>\n",
              "</svg>\n",
              "  </button>\n",
              "\n",
              "<style>\n",
              "  .colab-df-quickchart {\n",
              "      --bg-color: #E8F0FE;\n",
              "      --fill-color: #1967D2;\n",
              "      --hover-bg-color: #E2EBFA;\n",
              "      --hover-fill-color: #174EA6;\n",
              "      --disabled-fill-color: #AAA;\n",
              "      --disabled-bg-color: #DDD;\n",
              "  }\n",
              "\n",
              "  [theme=dark] .colab-df-quickchart {\n",
              "      --bg-color: #3B4455;\n",
              "      --fill-color: #D2E3FC;\n",
              "      --hover-bg-color: #434B5C;\n",
              "      --hover-fill-color: #FFFFFF;\n",
              "      --disabled-bg-color: #3B4455;\n",
              "      --disabled-fill-color: #666;\n",
              "  }\n",
              "\n",
              "  .colab-df-quickchart {\n",
              "    background-color: var(--bg-color);\n",
              "    border: none;\n",
              "    border-radius: 50%;\n",
              "    cursor: pointer;\n",
              "    display: none;\n",
              "    fill: var(--fill-color);\n",
              "    height: 32px;\n",
              "    padding: 0;\n",
              "    width: 32px;\n",
              "  }\n",
              "\n",
              "  .colab-df-quickchart:hover {\n",
              "    background-color: var(--hover-bg-color);\n",
              "    box-shadow: 0 1px 2px rgba(60, 64, 67, 0.3), 0 1px 3px 1px rgba(60, 64, 67, 0.15);\n",
              "    fill: var(--button-hover-fill-color);\n",
              "  }\n",
              "\n",
              "  .colab-df-quickchart-complete:disabled,\n",
              "  .colab-df-quickchart-complete:disabled:hover {\n",
              "    background-color: var(--disabled-bg-color);\n",
              "    fill: var(--disabled-fill-color);\n",
              "    box-shadow: none;\n",
              "  }\n",
              "\n",
              "  .colab-df-spinner {\n",
              "    border: 2px solid var(--fill-color);\n",
              "    border-color: transparent;\n",
              "    border-bottom-color: var(--fill-color);\n",
              "    animation:\n",
              "      spin 1s steps(1) infinite;\n",
              "  }\n",
              "\n",
              "  @keyframes spin {\n",
              "    0% {\n",
              "      border-color: transparent;\n",
              "      border-bottom-color: var(--fill-color);\n",
              "      border-left-color: var(--fill-color);\n",
              "    }\n",
              "    20% {\n",
              "      border-color: transparent;\n",
              "      border-left-color: var(--fill-color);\n",
              "      border-top-color: var(--fill-color);\n",
              "    }\n",
              "    30% {\n",
              "      border-color: transparent;\n",
              "      border-left-color: var(--fill-color);\n",
              "      border-top-color: var(--fill-color);\n",
              "      border-right-color: var(--fill-color);\n",
              "    }\n",
              "    40% {\n",
              "      border-color: transparent;\n",
              "      border-right-color: var(--fill-color);\n",
              "      border-top-color: var(--fill-color);\n",
              "    }\n",
              "    60% {\n",
              "      border-color: transparent;\n",
              "      border-right-color: var(--fill-color);\n",
              "    }\n",
              "    80% {\n",
              "      border-color: transparent;\n",
              "      border-right-color: var(--fill-color);\n",
              "      border-bottom-color: var(--fill-color);\n",
              "    }\n",
              "    90% {\n",
              "      border-color: transparent;\n",
              "      border-bottom-color: var(--fill-color);\n",
              "    }\n",
              "  }\n",
              "</style>\n",
              "\n",
              "  <script>\n",
              "    async function quickchart(key) {\n",
              "      const quickchartButtonEl =\n",
              "        document.querySelector('#' + key + ' button');\n",
              "      quickchartButtonEl.disabled = true;  // To prevent multiple clicks.\n",
              "      quickchartButtonEl.classList.add('colab-df-spinner');\n",
              "      try {\n",
              "        const charts = await google.colab.kernel.invokeFunction(\n",
              "            'suggestCharts', [key], {});\n",
              "      } catch (error) {\n",
              "        console.error('Error during call to suggestCharts:', error);\n",
              "      }\n",
              "      quickchartButtonEl.classList.remove('colab-df-spinner');\n",
              "      quickchartButtonEl.classList.add('colab-df-quickchart-complete');\n",
              "    }\n",
              "    (() => {\n",
              "      let quickchartButtonEl =\n",
              "        document.querySelector('#df-953ffb0e-f0d6-4622-b90a-3575a7c9cbfa button');\n",
              "      quickchartButtonEl.style.display =\n",
              "        google.colab.kernel.accessAllowed ? 'block' : 'none';\n",
              "    })();\n",
              "  </script>\n",
              "</div>\n",
              "\n",
              "    </div>\n",
              "  </div>\n"
            ],
            "application/vnd.google.colaboratory.intrinsic+json": {
              "type": "dataframe",
              "variable_name": "df_cleaned"
            }
          },
          "metadata": {},
          "execution_count": 10
        }
      ]
    },
    {
      "cell_type": "markdown",
      "source": [
        "Show the information of dataframe after the converting 'order_created_date' data type."
      ],
      "metadata": {
        "id": "C3VBinQG2kkc"
      }
    },
    {
      "cell_type": "code",
      "source": [
        "df_cleaned.info()"
      ],
      "metadata": {
        "colab": {
          "base_uri": "https://localhost:8080/"
        },
        "id": "fSWlIBVxK2-3",
        "outputId": "cce67015-ab24-49cc-80ba-c92a238095b1"
      },
      "execution_count": 11,
      "outputs": [
        {
          "output_type": "stream",
          "name": "stdout",
          "text": [
            "<class 'pandas.core.frame.DataFrame'>\n",
            "RangeIndex: 391510 entries, 0 to 391509\n",
            "Data columns (total 15 columns):\n",
            " #   Column              Non-Null Count   Dtype              \n",
            "---  ------              --------------   -----              \n",
            " 0   customer_id         391510 non-null  int64              \n",
            " 1   customer_name       391510 non-null  object             \n",
            " 2   age                 391510 non-null  int64              \n",
            " 3   gender              391510 non-null  object             \n",
            " 4   country             391510 non-null  object             \n",
            " 5   traffic_source      391510 non-null  object             \n",
            " 6   order_id            371329 non-null  float64            \n",
            " 7   order_created_date  361350 non-null  datetime64[ns, UTC]\n",
            " 8   status              371329 non-null  object             \n",
            " 9   product_id          371329 non-null  float64            \n",
            " 10  product_category    371329 non-null  object             \n",
            " 11  product_name        371308 non-null  object             \n",
            " 12  product_brand       370995 non-null  object             \n",
            " 13  num_of_item         371329 non-null  float64            \n",
            " 14  sale_price          371329 non-null  float64            \n",
            "dtypes: datetime64[ns, UTC](1), float64(4), int64(2), object(8)\n",
            "memory usage: 44.8+ MB\n"
          ]
        }
      ]
    },
    {
      "cell_type": "markdown",
      "source": [
        "Create a new column 'revenue' which is the result of multiplying 'num_of_item' and 'sale_price'."
      ],
      "metadata": {
        "id": "m4yXg0t222dl"
      }
    },
    {
      "cell_type": "code",
      "source": [
        "df_cleaned['revenue'] = df_cleaned['num_of_item'] * df_cleaned['sale_price']\n",
        "\n",
        "df_cleaned.head()"
      ],
      "metadata": {
        "colab": {
          "base_uri": "https://localhost:8080/",
          "height": 521
        },
        "id": "QUIcA2BTUd5r",
        "outputId": "1b2258d3-69e3-472d-d97d-ea5b8199eae4"
      },
      "execution_count": 12,
      "outputs": [
        {
          "output_type": "execute_result",
          "data": {
            "text/plain": [
              "   customer_id customer_name  age gender country traffic_source  order_id  \\\n",
              "0         1535  Tonya Martin   56      F  Brasil         Search    1882.0   \n",
              "1         1535  Tonya Martin   56      F  Brasil         Search    1882.0   \n",
              "2         1535  Tonya Martin   56      F  Brasil         Search    1882.0   \n",
              "3         1535  Tonya Martin   56      F  Brasil         Search    1882.0   \n",
              "4         1535  Tonya Martin   56      F  Brasil         Search    1882.0   \n",
              "\n",
              "         order_created_date    status  product_id  \\\n",
              "0 2023-10-27 09:03:00+00:00  Complete     14951.0   \n",
              "1 2023-10-27 09:03:00+00:00  Complete     14548.0   \n",
              "2 2023-10-27 09:03:00+00:00  Complete     15217.0   \n",
              "3 2023-10-27 09:03:00+00:00  Complete      2010.0   \n",
              "4 2023-10-27 09:03:00+00:00  Complete     12029.0   \n",
              "\n",
              "                product_category  \\\n",
              "0                      Maternity   \n",
              "1                      Maternity   \n",
              "2                      Maternity   \n",
              "3  Fashion Hoodies & Sweatshirts   \n",
              "4                      Intimates   \n",
              "\n",
              "                                        product_name  \\\n",
              "0  Maternity Holdup Suspenders Worn Under Materni...   \n",
              "1  Three Seasons Maternity Women's 3/4 Sleeve Sol...   \n",
              "2  Womens Maternity Two Piece Tankini Bikini Swim...   \n",
              "3        O'Neill Juniors Jackson Pullover Sweatshirt   \n",
              "4  Frederick's of Hollywood Hollywood Dream Full-...   \n",
              "\n",
              "              product_brand  num_of_item  sale_price    revenue  \n",
              "0     Hold-Up Suspender Co.          1.0   18.950001  18.950001  \n",
              "1   Three Seasons Maternity          1.0   32.000000  32.000000  \n",
              "2                      COCO          1.0   44.990002  44.990002  \n",
              "3                   O'Neill          1.0   50.000000  50.000000  \n",
              "4  Frederick's of Hollywood          1.0   62.000000  62.000000  "
            ],
            "text/html": [
              "\n",
              "  <div id=\"df-0223a971-e15c-4307-8f40-5a3cfe1ea993\" class=\"colab-df-container\">\n",
              "    <div>\n",
              "<style scoped>\n",
              "    .dataframe tbody tr th:only-of-type {\n",
              "        vertical-align: middle;\n",
              "    }\n",
              "\n",
              "    .dataframe tbody tr th {\n",
              "        vertical-align: top;\n",
              "    }\n",
              "\n",
              "    .dataframe thead th {\n",
              "        text-align: right;\n",
              "    }\n",
              "</style>\n",
              "<table border=\"1\" class=\"dataframe\">\n",
              "  <thead>\n",
              "    <tr style=\"text-align: right;\">\n",
              "      <th></th>\n",
              "      <th>customer_id</th>\n",
              "      <th>customer_name</th>\n",
              "      <th>age</th>\n",
              "      <th>gender</th>\n",
              "      <th>country</th>\n",
              "      <th>traffic_source</th>\n",
              "      <th>order_id</th>\n",
              "      <th>order_created_date</th>\n",
              "      <th>status</th>\n",
              "      <th>product_id</th>\n",
              "      <th>product_category</th>\n",
              "      <th>product_name</th>\n",
              "      <th>product_brand</th>\n",
              "      <th>num_of_item</th>\n",
              "      <th>sale_price</th>\n",
              "      <th>revenue</th>\n",
              "    </tr>\n",
              "  </thead>\n",
              "  <tbody>\n",
              "    <tr>\n",
              "      <th>0</th>\n",
              "      <td>1535</td>\n",
              "      <td>Tonya Martin</td>\n",
              "      <td>56</td>\n",
              "      <td>F</td>\n",
              "      <td>Brasil</td>\n",
              "      <td>Search</td>\n",
              "      <td>1882.0</td>\n",
              "      <td>2023-10-27 09:03:00+00:00</td>\n",
              "      <td>Complete</td>\n",
              "      <td>14951.0</td>\n",
              "      <td>Maternity</td>\n",
              "      <td>Maternity Holdup Suspenders Worn Under Materni...</td>\n",
              "      <td>Hold-Up Suspender Co.</td>\n",
              "      <td>1.0</td>\n",
              "      <td>18.950001</td>\n",
              "      <td>18.950001</td>\n",
              "    </tr>\n",
              "    <tr>\n",
              "      <th>1</th>\n",
              "      <td>1535</td>\n",
              "      <td>Tonya Martin</td>\n",
              "      <td>56</td>\n",
              "      <td>F</td>\n",
              "      <td>Brasil</td>\n",
              "      <td>Search</td>\n",
              "      <td>1882.0</td>\n",
              "      <td>2023-10-27 09:03:00+00:00</td>\n",
              "      <td>Complete</td>\n",
              "      <td>14548.0</td>\n",
              "      <td>Maternity</td>\n",
              "      <td>Three Seasons Maternity Women's 3/4 Sleeve Sol...</td>\n",
              "      <td>Three Seasons Maternity</td>\n",
              "      <td>1.0</td>\n",
              "      <td>32.000000</td>\n",
              "      <td>32.000000</td>\n",
              "    </tr>\n",
              "    <tr>\n",
              "      <th>2</th>\n",
              "      <td>1535</td>\n",
              "      <td>Tonya Martin</td>\n",
              "      <td>56</td>\n",
              "      <td>F</td>\n",
              "      <td>Brasil</td>\n",
              "      <td>Search</td>\n",
              "      <td>1882.0</td>\n",
              "      <td>2023-10-27 09:03:00+00:00</td>\n",
              "      <td>Complete</td>\n",
              "      <td>15217.0</td>\n",
              "      <td>Maternity</td>\n",
              "      <td>Womens Maternity Two Piece Tankini Bikini Swim...</td>\n",
              "      <td>COCO</td>\n",
              "      <td>1.0</td>\n",
              "      <td>44.990002</td>\n",
              "      <td>44.990002</td>\n",
              "    </tr>\n",
              "    <tr>\n",
              "      <th>3</th>\n",
              "      <td>1535</td>\n",
              "      <td>Tonya Martin</td>\n",
              "      <td>56</td>\n",
              "      <td>F</td>\n",
              "      <td>Brasil</td>\n",
              "      <td>Search</td>\n",
              "      <td>1882.0</td>\n",
              "      <td>2023-10-27 09:03:00+00:00</td>\n",
              "      <td>Complete</td>\n",
              "      <td>2010.0</td>\n",
              "      <td>Fashion Hoodies &amp; Sweatshirts</td>\n",
              "      <td>O'Neill Juniors Jackson Pullover Sweatshirt</td>\n",
              "      <td>O'Neill</td>\n",
              "      <td>1.0</td>\n",
              "      <td>50.000000</td>\n",
              "      <td>50.000000</td>\n",
              "    </tr>\n",
              "    <tr>\n",
              "      <th>4</th>\n",
              "      <td>1535</td>\n",
              "      <td>Tonya Martin</td>\n",
              "      <td>56</td>\n",
              "      <td>F</td>\n",
              "      <td>Brasil</td>\n",
              "      <td>Search</td>\n",
              "      <td>1882.0</td>\n",
              "      <td>2023-10-27 09:03:00+00:00</td>\n",
              "      <td>Complete</td>\n",
              "      <td>12029.0</td>\n",
              "      <td>Intimates</td>\n",
              "      <td>Frederick's of Hollywood Hollywood Dream Full-...</td>\n",
              "      <td>Frederick's of Hollywood</td>\n",
              "      <td>1.0</td>\n",
              "      <td>62.000000</td>\n",
              "      <td>62.000000</td>\n",
              "    </tr>\n",
              "  </tbody>\n",
              "</table>\n",
              "</div>\n",
              "    <div class=\"colab-df-buttons\">\n",
              "\n",
              "  <div class=\"colab-df-container\">\n",
              "    <button class=\"colab-df-convert\" onclick=\"convertToInteractive('df-0223a971-e15c-4307-8f40-5a3cfe1ea993')\"\n",
              "            title=\"Convert this dataframe to an interactive table.\"\n",
              "            style=\"display:none;\">\n",
              "\n",
              "  <svg xmlns=\"http://www.w3.org/2000/svg\" height=\"24px\" viewBox=\"0 -960 960 960\">\n",
              "    <path d=\"M120-120v-720h720v720H120Zm60-500h600v-160H180v160Zm220 220h160v-160H400v160Zm0 220h160v-160H400v160ZM180-400h160v-160H180v160Zm440 0h160v-160H620v160ZM180-180h160v-160H180v160Zm440 0h160v-160H620v160Z\"/>\n",
              "  </svg>\n",
              "    </button>\n",
              "\n",
              "  <style>\n",
              "    .colab-df-container {\n",
              "      display:flex;\n",
              "      gap: 12px;\n",
              "    }\n",
              "\n",
              "    .colab-df-convert {\n",
              "      background-color: #E8F0FE;\n",
              "      border: none;\n",
              "      border-radius: 50%;\n",
              "      cursor: pointer;\n",
              "      display: none;\n",
              "      fill: #1967D2;\n",
              "      height: 32px;\n",
              "      padding: 0 0 0 0;\n",
              "      width: 32px;\n",
              "    }\n",
              "\n",
              "    .colab-df-convert:hover {\n",
              "      background-color: #E2EBFA;\n",
              "      box-shadow: 0px 1px 2px rgba(60, 64, 67, 0.3), 0px 1px 3px 1px rgba(60, 64, 67, 0.15);\n",
              "      fill: #174EA6;\n",
              "    }\n",
              "\n",
              "    .colab-df-buttons div {\n",
              "      margin-bottom: 4px;\n",
              "    }\n",
              "\n",
              "    [theme=dark] .colab-df-convert {\n",
              "      background-color: #3B4455;\n",
              "      fill: #D2E3FC;\n",
              "    }\n",
              "\n",
              "    [theme=dark] .colab-df-convert:hover {\n",
              "      background-color: #434B5C;\n",
              "      box-shadow: 0px 1px 3px 1px rgba(0, 0, 0, 0.15);\n",
              "      filter: drop-shadow(0px 1px 2px rgba(0, 0, 0, 0.3));\n",
              "      fill: #FFFFFF;\n",
              "    }\n",
              "  </style>\n",
              "\n",
              "    <script>\n",
              "      const buttonEl =\n",
              "        document.querySelector('#df-0223a971-e15c-4307-8f40-5a3cfe1ea993 button.colab-df-convert');\n",
              "      buttonEl.style.display =\n",
              "        google.colab.kernel.accessAllowed ? 'block' : 'none';\n",
              "\n",
              "      async function convertToInteractive(key) {\n",
              "        const element = document.querySelector('#df-0223a971-e15c-4307-8f40-5a3cfe1ea993');\n",
              "        const dataTable =\n",
              "          await google.colab.kernel.invokeFunction('convertToInteractive',\n",
              "                                                    [key], {});\n",
              "        if (!dataTable) return;\n",
              "\n",
              "        const docLinkHtml = 'Like what you see? Visit the ' +\n",
              "          '<a target=\"_blank\" href=https://colab.research.google.com/notebooks/data_table.ipynb>data table notebook</a>'\n",
              "          + ' to learn more about interactive tables.';\n",
              "        element.innerHTML = '';\n",
              "        dataTable['output_type'] = 'display_data';\n",
              "        await google.colab.output.renderOutput(dataTable, element);\n",
              "        const docLink = document.createElement('div');\n",
              "        docLink.innerHTML = docLinkHtml;\n",
              "        element.appendChild(docLink);\n",
              "      }\n",
              "    </script>\n",
              "  </div>\n",
              "\n",
              "\n",
              "<div id=\"df-faa5ece3-4341-4525-b262-7f3eea709a83\">\n",
              "  <button class=\"colab-df-quickchart\" onclick=\"quickchart('df-faa5ece3-4341-4525-b262-7f3eea709a83')\"\n",
              "            title=\"Suggest charts\"\n",
              "            style=\"display:none;\">\n",
              "\n",
              "<svg xmlns=\"http://www.w3.org/2000/svg\" height=\"24px\"viewBox=\"0 0 24 24\"\n",
              "     width=\"24px\">\n",
              "    <g>\n",
              "        <path d=\"M19 3H5c-1.1 0-2 .9-2 2v14c0 1.1.9 2 2 2h14c1.1 0 2-.9 2-2V5c0-1.1-.9-2-2-2zM9 17H7v-7h2v7zm4 0h-2V7h2v10zm4 0h-2v-4h2v4z\"/>\n",
              "    </g>\n",
              "</svg>\n",
              "  </button>\n",
              "\n",
              "<style>\n",
              "  .colab-df-quickchart {\n",
              "      --bg-color: #E8F0FE;\n",
              "      --fill-color: #1967D2;\n",
              "      --hover-bg-color: #E2EBFA;\n",
              "      --hover-fill-color: #174EA6;\n",
              "      --disabled-fill-color: #AAA;\n",
              "      --disabled-bg-color: #DDD;\n",
              "  }\n",
              "\n",
              "  [theme=dark] .colab-df-quickchart {\n",
              "      --bg-color: #3B4455;\n",
              "      --fill-color: #D2E3FC;\n",
              "      --hover-bg-color: #434B5C;\n",
              "      --hover-fill-color: #FFFFFF;\n",
              "      --disabled-bg-color: #3B4455;\n",
              "      --disabled-fill-color: #666;\n",
              "  }\n",
              "\n",
              "  .colab-df-quickchart {\n",
              "    background-color: var(--bg-color);\n",
              "    border: none;\n",
              "    border-radius: 50%;\n",
              "    cursor: pointer;\n",
              "    display: none;\n",
              "    fill: var(--fill-color);\n",
              "    height: 32px;\n",
              "    padding: 0;\n",
              "    width: 32px;\n",
              "  }\n",
              "\n",
              "  .colab-df-quickchart:hover {\n",
              "    background-color: var(--hover-bg-color);\n",
              "    box-shadow: 0 1px 2px rgba(60, 64, 67, 0.3), 0 1px 3px 1px rgba(60, 64, 67, 0.15);\n",
              "    fill: var(--button-hover-fill-color);\n",
              "  }\n",
              "\n",
              "  .colab-df-quickchart-complete:disabled,\n",
              "  .colab-df-quickchart-complete:disabled:hover {\n",
              "    background-color: var(--disabled-bg-color);\n",
              "    fill: var(--disabled-fill-color);\n",
              "    box-shadow: none;\n",
              "  }\n",
              "\n",
              "  .colab-df-spinner {\n",
              "    border: 2px solid var(--fill-color);\n",
              "    border-color: transparent;\n",
              "    border-bottom-color: var(--fill-color);\n",
              "    animation:\n",
              "      spin 1s steps(1) infinite;\n",
              "  }\n",
              "\n",
              "  @keyframes spin {\n",
              "    0% {\n",
              "      border-color: transparent;\n",
              "      border-bottom-color: var(--fill-color);\n",
              "      border-left-color: var(--fill-color);\n",
              "    }\n",
              "    20% {\n",
              "      border-color: transparent;\n",
              "      border-left-color: var(--fill-color);\n",
              "      border-top-color: var(--fill-color);\n",
              "    }\n",
              "    30% {\n",
              "      border-color: transparent;\n",
              "      border-left-color: var(--fill-color);\n",
              "      border-top-color: var(--fill-color);\n",
              "      border-right-color: var(--fill-color);\n",
              "    }\n",
              "    40% {\n",
              "      border-color: transparent;\n",
              "      border-right-color: var(--fill-color);\n",
              "      border-top-color: var(--fill-color);\n",
              "    }\n",
              "    60% {\n",
              "      border-color: transparent;\n",
              "      border-right-color: var(--fill-color);\n",
              "    }\n",
              "    80% {\n",
              "      border-color: transparent;\n",
              "      border-right-color: var(--fill-color);\n",
              "      border-bottom-color: var(--fill-color);\n",
              "    }\n",
              "    90% {\n",
              "      border-color: transparent;\n",
              "      border-bottom-color: var(--fill-color);\n",
              "    }\n",
              "  }\n",
              "</style>\n",
              "\n",
              "  <script>\n",
              "    async function quickchart(key) {\n",
              "      const quickchartButtonEl =\n",
              "        document.querySelector('#' + key + ' button');\n",
              "      quickchartButtonEl.disabled = true;  // To prevent multiple clicks.\n",
              "      quickchartButtonEl.classList.add('colab-df-spinner');\n",
              "      try {\n",
              "        const charts = await google.colab.kernel.invokeFunction(\n",
              "            'suggestCharts', [key], {});\n",
              "      } catch (error) {\n",
              "        console.error('Error during call to suggestCharts:', error);\n",
              "      }\n",
              "      quickchartButtonEl.classList.remove('colab-df-spinner');\n",
              "      quickchartButtonEl.classList.add('colab-df-quickchart-complete');\n",
              "    }\n",
              "    (() => {\n",
              "      let quickchartButtonEl =\n",
              "        document.querySelector('#df-faa5ece3-4341-4525-b262-7f3eea709a83 button');\n",
              "      quickchartButtonEl.style.display =\n",
              "        google.colab.kernel.accessAllowed ? 'block' : 'none';\n",
              "    })();\n",
              "  </script>\n",
              "</div>\n",
              "\n",
              "    </div>\n",
              "  </div>\n"
            ],
            "application/vnd.google.colaboratory.intrinsic+json": {
              "type": "dataframe",
              "variable_name": "df_cleaned"
            }
          },
          "metadata": {},
          "execution_count": 12
        }
      ]
    },
    {
      "cell_type": "code",
      "source": [
        "df_cleaned.info()"
      ],
      "metadata": {
        "colab": {
          "base_uri": "https://localhost:8080/"
        },
        "id": "fugH7N6Ea_TB",
        "outputId": "d1f1738e-44bd-4708-d18d-6ac1f94cea4d"
      },
      "execution_count": 13,
      "outputs": [
        {
          "output_type": "stream",
          "name": "stdout",
          "text": [
            "<class 'pandas.core.frame.DataFrame'>\n",
            "RangeIndex: 391510 entries, 0 to 391509\n",
            "Data columns (total 16 columns):\n",
            " #   Column              Non-Null Count   Dtype              \n",
            "---  ------              --------------   -----              \n",
            " 0   customer_id         391510 non-null  int64              \n",
            " 1   customer_name       391510 non-null  object             \n",
            " 2   age                 391510 non-null  int64              \n",
            " 3   gender              391510 non-null  object             \n",
            " 4   country             391510 non-null  object             \n",
            " 5   traffic_source      391510 non-null  object             \n",
            " 6   order_id            371329 non-null  float64            \n",
            " 7   order_created_date  361350 non-null  datetime64[ns, UTC]\n",
            " 8   status              371329 non-null  object             \n",
            " 9   product_id          371329 non-null  float64            \n",
            " 10  product_category    371329 non-null  object             \n",
            " 11  product_name        371308 non-null  object             \n",
            " 12  product_brand       370995 non-null  object             \n",
            " 13  num_of_item         371329 non-null  float64            \n",
            " 14  sale_price          371329 non-null  float64            \n",
            " 15  revenue             371329 non-null  float64            \n",
            "dtypes: datetime64[ns, UTC](1), float64(5), int64(2), object(8)\n",
            "memory usage: 47.8+ MB\n"
          ]
        }
      ]
    },
    {
      "cell_type": "markdown",
      "source": [
        "Check if there are any errors in the writing of the data."
      ],
      "metadata": {
        "id": "IrYCk92U_ZNK"
      }
    },
    {
      "cell_type": "code",
      "source": [
        "for col_name in ['gender', 'country', 'traffic_source', 'status', 'product_category', 'product_name', 'product_brand']:\n",
        "    print(df_cleaned[col_name].value_counts(), '\\n')"
      ],
      "metadata": {
        "colab": {
          "base_uri": "https://localhost:8080/"
        },
        "id": "kWvgC9t5-SpE",
        "outputId": "5f6491d3-7a22-482b-e0f3-d5a4bb7a77a3"
      },
      "execution_count": 14,
      "outputs": [
        {
          "output_type": "stream",
          "name": "stdout",
          "text": [
            "gender\n",
            "F    196033\n",
            "M    195477\n",
            "Name: count, dtype: int64 \n",
            "\n",
            "country\n",
            "China             134002\n",
            "United States      87498\n",
            "Brasil             56817\n",
            "South Korea        20802\n",
            "France             19442\n",
            "United Kingdom     17351\n",
            "Germany            16763\n",
            "Spain              15767\n",
            "Japan               9686\n",
            "Australia           7550\n",
            "Belgium             5032\n",
            "Poland               748\n",
            "Colombia              38\n",
            "Austria               12\n",
            "España                 2\n",
            "Name: count, dtype: int64 \n",
            "\n",
            "traffic_source\n",
            "Search      273215\n",
            "Organic      59080\n",
            "Facebook     23784\n",
            "Email        19821\n",
            "Display      15610\n",
            "Name: count, dtype: int64 \n",
            "\n",
            "status\n",
            "Shipped       111830\n",
            "Complete       92920\n",
            "Processing     73791\n",
            "Cancelled      55698\n",
            "Returned       37090\n",
            "Name: count, dtype: int64 \n",
            "\n",
            "product_category\n",
            "Intimates                        27037\n",
            "Jeans                            25698\n",
            "Tops & Tees                      24502\n",
            "Fashion Hoodies & Sweatshirts    24300\n",
            "Swim                             22970\n",
            "Shorts                           22917\n",
            "Sleep & Lounge                   22880\n",
            "Sweaters                         22618\n",
            "Accessories                      20201\n",
            "Active                           18707\n",
            "Outerwear & Coats                18431\n",
            "Underwear                        15440\n",
            "Pants                            14579\n",
            "Socks                            13206\n",
            "Dresses                          11375\n",
            "Maternity                        10329\n",
            "Suits & Sport Coats              10287\n",
            "Plus                              8853\n",
            "Socks & Hosiery                   7666\n",
            "Pants & Capris                    7154\n",
            "Blazers & Jackets                 6645\n",
            "Leggings                          6599\n",
            "Skirts                            4380\n",
            "Suits                             2207\n",
            "Jumpsuits & Rompers               1893\n",
            "Clothing Sets                      455\n",
            "Name: count, dtype: int64 \n",
            "\n",
            "product_name\n",
            "Wrangler Men's Premium Performance Cowboy Cut Jean                          147\n",
            "7 For All Mankind Men's Standard Classic Straight Leg Jean                  105\n",
            "Wrangler Men's Original Cowboy Cut Relaxed Fit Jean                          80\n",
            "Lucky Brand Mens Men's 361 Vintage Straight Denim Jean                       78\n",
            "True Religion Men's Ricky Straight Jean                                      78\n",
            "                                                                           ... \n",
            "Alice & Trixie Women's Zinnia Dress                                           1\n",
            "Alice & Trixie Women's Mara Dress                                             1\n",
            "New Full 11 Ruffle Drawstring Bridal Petticoat Wedding Gown Slip (112DS)      1\n",
            "180s Men's Admiral Ear Warmer                                                 1\n",
            "ED HARDY Christian Audigier Fancey Geisha Womens Socks                        1\n",
            "Name: count, Length: 27245, dtype: int64 \n",
            "\n",
            "product_brand\n",
            "Allegra K               12603\n",
            "Calvin Klein             6510\n",
            "Carhartt                 5316\n",
            "Hanes                    4029\n",
            "Volcom                   3864\n",
            "                        ...  \n",
            "Swim Station                1\n",
            "BluePrint                   1\n",
            "FASHION BOUTIQUE            1\n",
            "Foot Petals                 1\n",
            "Olive Branch Legwear        1\n",
            "Name: count, Length: 2751, dtype: int64 \n",
            "\n"
          ]
        }
      ]
    },
    {
      "cell_type": "markdown",
      "source": [
        "Check if there are any null data"
      ],
      "metadata": {
        "id": "Qs0XJIeR-sUs"
      }
    },
    {
      "cell_type": "code",
      "source": [
        "df_cleaned.isnull().sum()"
      ],
      "metadata": {
        "colab": {
          "base_uri": "https://localhost:8080/",
          "height": 586
        },
        "id": "1kU5wiF59ZA7",
        "outputId": "15d9c075-a985-4d5d-f966-f56b61f98114"
      },
      "execution_count": 15,
      "outputs": [
        {
          "output_type": "execute_result",
          "data": {
            "text/plain": [
              "customer_id               0\n",
              "customer_name             0\n",
              "age                       0\n",
              "gender                    0\n",
              "country                   0\n",
              "traffic_source            0\n",
              "order_id              20181\n",
              "order_created_date    30160\n",
              "status                20181\n",
              "product_id            20181\n",
              "product_category      20181\n",
              "product_name          20202\n",
              "product_brand         20515\n",
              "num_of_item           20181\n",
              "sale_price            20181\n",
              "revenue               20181\n",
              "dtype: int64"
            ],
            "text/html": [
              "<div>\n",
              "<style scoped>\n",
              "    .dataframe tbody tr th:only-of-type {\n",
              "        vertical-align: middle;\n",
              "    }\n",
              "\n",
              "    .dataframe tbody tr th {\n",
              "        vertical-align: top;\n",
              "    }\n",
              "\n",
              "    .dataframe thead th {\n",
              "        text-align: right;\n",
              "    }\n",
              "</style>\n",
              "<table border=\"1\" class=\"dataframe\">\n",
              "  <thead>\n",
              "    <tr style=\"text-align: right;\">\n",
              "      <th></th>\n",
              "      <th>0</th>\n",
              "    </tr>\n",
              "  </thead>\n",
              "  <tbody>\n",
              "    <tr>\n",
              "      <th>customer_id</th>\n",
              "      <td>0</td>\n",
              "    </tr>\n",
              "    <tr>\n",
              "      <th>customer_name</th>\n",
              "      <td>0</td>\n",
              "    </tr>\n",
              "    <tr>\n",
              "      <th>age</th>\n",
              "      <td>0</td>\n",
              "    </tr>\n",
              "    <tr>\n",
              "      <th>gender</th>\n",
              "      <td>0</td>\n",
              "    </tr>\n",
              "    <tr>\n",
              "      <th>country</th>\n",
              "      <td>0</td>\n",
              "    </tr>\n",
              "    <tr>\n",
              "      <th>traffic_source</th>\n",
              "      <td>0</td>\n",
              "    </tr>\n",
              "    <tr>\n",
              "      <th>order_id</th>\n",
              "      <td>20181</td>\n",
              "    </tr>\n",
              "    <tr>\n",
              "      <th>order_created_date</th>\n",
              "      <td>30160</td>\n",
              "    </tr>\n",
              "    <tr>\n",
              "      <th>status</th>\n",
              "      <td>20181</td>\n",
              "    </tr>\n",
              "    <tr>\n",
              "      <th>product_id</th>\n",
              "      <td>20181</td>\n",
              "    </tr>\n",
              "    <tr>\n",
              "      <th>product_category</th>\n",
              "      <td>20181</td>\n",
              "    </tr>\n",
              "    <tr>\n",
              "      <th>product_name</th>\n",
              "      <td>20202</td>\n",
              "    </tr>\n",
              "    <tr>\n",
              "      <th>product_brand</th>\n",
              "      <td>20515</td>\n",
              "    </tr>\n",
              "    <tr>\n",
              "      <th>num_of_item</th>\n",
              "      <td>20181</td>\n",
              "    </tr>\n",
              "    <tr>\n",
              "      <th>sale_price</th>\n",
              "      <td>20181</td>\n",
              "    </tr>\n",
              "    <tr>\n",
              "      <th>revenue</th>\n",
              "      <td>20181</td>\n",
              "    </tr>\n",
              "  </tbody>\n",
              "</table>\n",
              "</div><br><label><b>dtype:</b> int64</label>"
            ]
          },
          "metadata": {},
          "execution_count": 15
        }
      ]
    },
    {
      "cell_type": "markdown",
      "source": [
        "Delete the rows that contain null data in 'revenue' column"
      ],
      "metadata": {
        "id": "inUxgVGm-7LT"
      }
    },
    {
      "cell_type": "code",
      "source": [
        "df_cleaned_revenue = df_cleaned.dropna(subset=['revenue'])"
      ],
      "metadata": {
        "id": "2edw4Sbx-De5"
      },
      "execution_count": 16,
      "outputs": []
    },
    {
      "cell_type": "markdown",
      "source": [
        "Reset the index of the data frame"
      ],
      "metadata": {
        "id": "098FbJpf_FQZ"
      }
    },
    {
      "cell_type": "code",
      "source": [
        "df_cleaned_revenue = df_cleaned_revenue.reset_index(drop=True)"
      ],
      "metadata": {
        "id": "3H2eXP4P-k3z"
      },
      "execution_count": 17,
      "outputs": []
    },
    {
      "cell_type": "code",
      "source": [
        "df_cleaned_revenue.info()"
      ],
      "metadata": {
        "colab": {
          "base_uri": "https://localhost:8080/"
        },
        "id": "LhteQqve-Otq",
        "outputId": "56f2b81e-e2a5-4371-92e9-e6ab6ca78d12"
      },
      "execution_count": 18,
      "outputs": [
        {
          "output_type": "stream",
          "name": "stdout",
          "text": [
            "<class 'pandas.core.frame.DataFrame'>\n",
            "RangeIndex: 371329 entries, 0 to 371328\n",
            "Data columns (total 16 columns):\n",
            " #   Column              Non-Null Count   Dtype              \n",
            "---  ------              --------------   -----              \n",
            " 0   customer_id         371329 non-null  int64              \n",
            " 1   customer_name       371329 non-null  object             \n",
            " 2   age                 371329 non-null  int64              \n",
            " 3   gender              371329 non-null  object             \n",
            " 4   country             371329 non-null  object             \n",
            " 5   traffic_source      371329 non-null  object             \n",
            " 6   order_id            371329 non-null  float64            \n",
            " 7   order_created_date  361350 non-null  datetime64[ns, UTC]\n",
            " 8   status              371329 non-null  object             \n",
            " 9   product_id          371329 non-null  float64            \n",
            " 10  product_category    371329 non-null  object             \n",
            " 11  product_name        371308 non-null  object             \n",
            " 12  product_brand       370995 non-null  object             \n",
            " 13  num_of_item         371329 non-null  float64            \n",
            " 14  sale_price          371329 non-null  float64            \n",
            " 15  revenue             371329 non-null  float64            \n",
            "dtypes: datetime64[ns, UTC](1), float64(5), int64(2), object(8)\n",
            "memory usage: 45.3+ MB\n"
          ]
        }
      ]
    },
    {
      "cell_type": "markdown",
      "source": [
        "## Overall Performance"
      ],
      "metadata": {
        "id": "mHeV5k7dVmfe"
      }
    },
    {
      "cell_type": "markdown",
      "source": [
        "### 1. What is the total revenue received by theLook eCommerce?\n",
        "\n",
        "\n",
        "---\n",
        "\n",
        "\n",
        "**$ 36,929,064.9**\n",
        "\n",
        "---\n",
        "\n"
      ],
      "metadata": {
        "id": "Pr5Snlg4VsU3"
      }
    },
    {
      "cell_type": "code",
      "source": [
        "df_cleaned_revenue['revenue'].sum()"
      ],
      "metadata": {
        "colab": {
          "base_uri": "https://localhost:8080/"
        },
        "id": "jJLAZXWTUwJa",
        "outputId": "0471ba0c-d42a-4e18-9c04-e4e6b9f3e7eb"
      },
      "execution_count": 19,
      "outputs": [
        {
          "output_type": "execute_result",
          "data": {
            "text/plain": [
              "36929064.86630914"
            ]
          },
          "metadata": {},
          "execution_count": 19
        }
      ]
    },
    {
      "cell_type": "markdown",
      "source": [
        "### 2. How many customers does theLook eCommerce have?\n",
        "\n",
        "\n",
        "---\n",
        "**100,000**\n",
        "\n",
        "\n",
        "---\n",
        "\n",
        "\n"
      ],
      "metadata": {
        "id": "uka2PCemV-Xl"
      }
    },
    {
      "cell_type": "code",
      "source": [
        "df_cleaned['customer_id'].nunique()"
      ],
      "metadata": {
        "colab": {
          "base_uri": "https://localhost:8080/"
        },
        "id": "4PCz_GWDVLhz",
        "outputId": "5c971d92-8c86-42be-8e6c-d4600617b98f"
      },
      "execution_count": 20,
      "outputs": [
        {
          "output_type": "execute_result",
          "data": {
            "text/plain": [
              "100000"
            ]
          },
          "metadata": {},
          "execution_count": 20
        }
      ]
    },
    {
      "cell_type": "markdown",
      "source": [
        "### 3. How many orders does theLook eCommerce have?\n",
        "\n",
        "\n",
        "---\n",
        "**125,056**\n",
        "\n",
        "\n",
        "---\n",
        "\n",
        "\n"
      ],
      "metadata": {
        "id": "X-vK4rQpXOAL"
      }
    },
    {
      "cell_type": "code",
      "source": [
        "df_cleaned['order_id'].nunique()"
      ],
      "metadata": {
        "colab": {
          "base_uri": "https://localhost:8080/"
        },
        "id": "Mp34I3QlVPmm",
        "outputId": "17fe3932-f0ee-4a84-db32-541067f58d11"
      },
      "execution_count": 21,
      "outputs": [
        {
          "output_type": "execute_result",
          "data": {
            "text/plain": [
              "125056"
            ]
          },
          "metadata": {},
          "execution_count": 21
        }
      ]
    },
    {
      "cell_type": "markdown",
      "source": [
        "### 4. How many lost order opportunities does theLook eCommerce have?\n",
        "\n",
        "\n",
        "---\n",
        "**31,337**\n",
        "\n",
        "\n",
        "---\n",
        "\n",
        "\n"
      ],
      "metadata": {
        "id": "VsvBtiouXyXg"
      }
    },
    {
      "cell_type": "code",
      "source": [
        "df_cleaned[df_cleaned['status'].isin(['Cancelled', 'Returned'])]['order_id'].nunique()"
      ],
      "metadata": {
        "colab": {
          "base_uri": "https://localhost:8080/"
        },
        "id": "_0G1HCWVVdRQ",
        "outputId": "5fa1a2b3-6d83-4e0a-d369-ebdda6ccdc21"
      },
      "execution_count": 22,
      "outputs": [
        {
          "output_type": "execute_result",
          "data": {
            "text/plain": [
              "31337"
            ]
          },
          "metadata": {},
          "execution_count": 22
        }
      ]
    },
    {
      "cell_type": "markdown",
      "source": [
        "## Deep Dive Analysis"
      ],
      "metadata": {
        "id": "-s0-287_4NgW"
      }
    },
    {
      "cell_type": "markdown",
      "source": [
        "### 1. What is the annual revenue trend for theLook eCommerce?"
      ],
      "metadata": {
        "id": "IAhLKGxz8H81"
      }
    },
    {
      "cell_type": "code",
      "source": [
        "df_cleaned_revenue['year']=df_cleaned_revenue['order_created_date'].dt.year\n",
        "print(df_cleaned_revenue['year'].unique())"
      ],
      "metadata": {
        "colab": {
          "base_uri": "https://localhost:8080/"
        },
        "id": "01ypnSLqD5pe",
        "outputId": "4884f85d-3865-4237-b59c-84ce3ff7637e"
      },
      "execution_count": 23,
      "outputs": [
        {
          "output_type": "stream",
          "name": "stdout",
          "text": [
            "[2023. 2024. 2022. 2021. 2020.   nan 2019.]\n"
          ]
        }
      ]
    },
    {
      "cell_type": "code",
      "source": [
        "# Change NaN value in 'year' column to 'Unknown'\n",
        "df_cleaned_revenue['year'] = df_cleaned_revenue['year'].fillna('Unknown')\n",
        "\n",
        "# Convert the 'year' data type that is not 'Unknown' to integer\n",
        "df_cleaned_revenue['year'] = df_cleaned_revenue['year'].apply(lambda x: int(x) if x != 'Unknown' else x)\n",
        "\n",
        "print(df_cleaned_revenue['year'].unique())"
      ],
      "metadata": {
        "colab": {
          "base_uri": "https://localhost:8080/"
        },
        "id": "QYVAT9-AGzhF",
        "outputId": "eb59246e-0d2b-4b34-ea55-5c39376a7e33"
      },
      "execution_count": 24,
      "outputs": [
        {
          "output_type": "stream",
          "name": "stdout",
          "text": [
            "[2023 2024 2022 2021 2020 'Unknown' 2019]\n"
          ]
        }
      ]
    },
    {
      "cell_type": "code",
      "source": [
        "annual_revenue = df_cleaned_revenue.groupby('year')['revenue'].sum().round(2)  # Round into two decimal\n",
        "annual_revenue"
      ],
      "metadata": {
        "colab": {
          "base_uri": "https://localhost:8080/",
          "height": 335
        },
        "id": "fxg0E463Vqn_",
        "outputId": "3b71b13e-d162-415c-fbe5-e762dfbf1e60"
      },
      "execution_count": 25,
      "outputs": [
        {
          "output_type": "execute_result",
          "data": {
            "text/plain": [
              "year\n",
              "2019         590099.09\n",
              "2020        1971013.93\n",
              "2021        3671159.85\n",
              "2022        6040028.05\n",
              "2023        9991973.19\n",
              "2024       13635235.59\n",
              "Unknown     1029555.16\n",
              "Name: revenue, dtype: float64"
            ],
            "text/html": [
              "<div>\n",
              "<style scoped>\n",
              "    .dataframe tbody tr th:only-of-type {\n",
              "        vertical-align: middle;\n",
              "    }\n",
              "\n",
              "    .dataframe tbody tr th {\n",
              "        vertical-align: top;\n",
              "    }\n",
              "\n",
              "    .dataframe thead th {\n",
              "        text-align: right;\n",
              "    }\n",
              "</style>\n",
              "<table border=\"1\" class=\"dataframe\">\n",
              "  <thead>\n",
              "    <tr style=\"text-align: right;\">\n",
              "      <th></th>\n",
              "      <th>revenue</th>\n",
              "    </tr>\n",
              "    <tr>\n",
              "      <th>year</th>\n",
              "      <th></th>\n",
              "    </tr>\n",
              "  </thead>\n",
              "  <tbody>\n",
              "    <tr>\n",
              "      <th>2019</th>\n",
              "      <td>590099.09</td>\n",
              "    </tr>\n",
              "    <tr>\n",
              "      <th>2020</th>\n",
              "      <td>1971013.93</td>\n",
              "    </tr>\n",
              "    <tr>\n",
              "      <th>2021</th>\n",
              "      <td>3671159.85</td>\n",
              "    </tr>\n",
              "    <tr>\n",
              "      <th>2022</th>\n",
              "      <td>6040028.05</td>\n",
              "    </tr>\n",
              "    <tr>\n",
              "      <th>2023</th>\n",
              "      <td>9991973.19</td>\n",
              "    </tr>\n",
              "    <tr>\n",
              "      <th>2024</th>\n",
              "      <td>13635235.59</td>\n",
              "    </tr>\n",
              "    <tr>\n",
              "      <th>Unknown</th>\n",
              "      <td>1029555.16</td>\n",
              "    </tr>\n",
              "  </tbody>\n",
              "</table>\n",
              "</div><br><label><b>dtype:</b> float64</label>"
            ]
          },
          "metadata": {},
          "execution_count": 25
        }
      ]
    },
    {
      "cell_type": "code",
      "source": [
        "# Define different colors for each bar\n",
        "colors = ['#5588bb', '#66bbbb', '#aa6644', '#99bb55', '#ee9944', '#444466', '#bb5555']\n",
        "\n",
        "# Bar chart plot\n",
        "plt.figure(figsize=(8, 4))\n",
        "annual_revenue.plot(kind='bar', color=colors)\n",
        "\n",
        "# Adding a title and label\n",
        "plt.title('Annual Revenue')\n",
        "plt.xlabel('Year')\n",
        "plt.ylabel('Revenue')\n",
        "\n",
        "# Change format y-axis in %%M (%% million)\n",
        "def format_million(x, pos):\n",
        "    if x >= 1e6:\n",
        "        return '{:.0f}M'.format(x * 1e-6)\n",
        "    else:\n",
        "        return '{:.0f}'.format(x)\n",
        "\n",
        "formatter = ticker.FuncFormatter(format_million)\n",
        "plt.gca().yaxis.set_major_formatter(formatter)\n",
        "\n",
        "# Show the graph\n",
        "plt.xticks(rotation=45)\n",
        "plt.tight_layout()\n",
        "plt.show()"
      ],
      "metadata": {
        "colab": {
          "base_uri": "https://localhost:8080/",
          "height": 407
        },
        "id": "oHhZpVtYVztu",
        "outputId": "f0339ff7-acd8-487a-ab7c-566164888287"
      },
      "execution_count": 26,
      "outputs": [
        {
          "output_type": "display_data",
          "data": {
            "text/plain": [
              "<Figure size 800x400 with 1 Axes>"
            ],
            "image/png": "[encoded data removed]"
          },
          "metadata": {}
        }
      ]
    },
    {
      "cell_type": "markdown",
      "source": [
        "From the revenue data across the years:\n",
        "\n",
        "1. **Steady Growth**: theLook eCommerce shows a clear upward trend in revenue from 2019 to 2024. Starting from about 590,099 in 2019, revenue has grown each year, reaching 13.6 million by 2024.\n",
        "   \n",
        "2. **Significant Jumps in Revenue**: The most notable jumps in revenue occur between:\n",
        "   - 2019 to 2020, with an increase of about 233% (from 590k to 1.97M).\n",
        "   - 2023 to 2024, where revenue jumped from 9.99M to 13.6M, a 36% increase.\n",
        "   \n",
        "3. **Unknown Revenue Source**: There is 1.03M attributed to \"Unknown\" in the year column, indicating either incomplete data or unclassified transactions. This is a significant amount, and further investigation into its source or reclassification could help clarify the trend.\n",
        "\n",
        "4. **Exponential Growth**: From 2019 to 2024, the company’s revenue has multiplied by over 23 times, indicating a very successful expansion or growth strategy during this period.\n",
        "\n",
        "Overall, theLook eCommerce has demonstrated rapid growth, with particularly strong revenue increases in 2023 and 2024. However, attention should be given to the \"Unknown\" category, as it represents over 1 million in revenue."
      ],
      "metadata": {
        "id": "2Ob51UIX6ndx"
      }
    },
    {
      "cell_type": "markdown",
      "source": [
        "### 2. How is the performance of the traffic sources owned by theLook eCommerce?"
      ],
      "metadata": {
        "id": "ozdaWqds6FLT"
      }
    },
    {
      "cell_type": "code",
      "source": [
        "traffic_source = df_cleaned_revenue.groupby('traffic_source')['revenue'].sum().round(2).sort_values(ascending=False)\n",
        "traffic_source"
      ],
      "metadata": {
        "colab": {
          "base_uri": "https://localhost:8080/",
          "height": 272
        },
        "id": "_BSjmcXR6LDV",
        "outputId": "e0e6bfa4-9010-4992-aa8d-4ead0e6f27f9"
      },
      "execution_count": 27,
      "outputs": [
        {
          "output_type": "execute_result",
          "data": {
            "text/plain": [
              "traffic_source\n",
              "Search      25850433.32\n",
              "Organic      5591551.91\n",
              "Facebook     2177106.22\n",
              "Email        1883397.42\n",
              "Display      1426575.99\n",
              "Name: revenue, dtype: float64"
            ],
            "text/html": [
              "<div>\n",
              "<style scoped>\n",
              "    .dataframe tbody tr th:only-of-type {\n",
              "        vertical-align: middle;\n",
              "    }\n",
              "\n",
              "    .dataframe tbody tr th {\n",
              "        vertical-align: top;\n",
              "    }\n",
              "\n",
              "    .dataframe thead th {\n",
              "        text-align: right;\n",
              "    }\n",
              "</style>\n",
              "<table border=\"1\" class=\"dataframe\">\n",
              "  <thead>\n",
              "    <tr style=\"text-align: right;\">\n",
              "      <th></th>\n",
              "      <th>revenue</th>\n",
              "    </tr>\n",
              "    <tr>\n",
              "      <th>traffic_source</th>\n",
              "      <th></th>\n",
              "    </tr>\n",
              "  </thead>\n",
              "  <tbody>\n",
              "    <tr>\n",
              "      <th>Search</th>\n",
              "      <td>25850433.32</td>\n",
              "    </tr>\n",
              "    <tr>\n",
              "      <th>Organic</th>\n",
              "      <td>5591551.91</td>\n",
              "    </tr>\n",
              "    <tr>\n",
              "      <th>Facebook</th>\n",
              "      <td>2177106.22</td>\n",
              "    </tr>\n",
              "    <tr>\n",
              "      <th>Email</th>\n",
              "      <td>1883397.42</td>\n",
              "    </tr>\n",
              "    <tr>\n",
              "      <th>Display</th>\n",
              "      <td>1426575.99</td>\n",
              "    </tr>\n",
              "  </tbody>\n",
              "</table>\n",
              "</div><br><label><b>dtype:</b> float64</label>"
            ]
          },
          "metadata": {},
          "execution_count": 27
        }
      ]
    },
    {
      "cell_type": "code",
      "source": [
        "# Plotting the bar chart\n",
        "plt.figure(figsize=(8, 4))\n",
        "traffic_source.plot(kind='barh', color=colors[:len(traffic_source)])  # Adjust colors to the length of the data\n",
        "\n",
        "# Adding labels and title\n",
        "plt.title('Revenue by Traffic Source', fontsize=16)\n",
        "plt.xlabel('Revenue (in USD)', fontsize=12)\n",
        "plt.ylabel('Traffic Source', fontsize=12)\n",
        "\n",
        "# Change format y-axis in %%M (%% million)\n",
        "def format_million_h(y, pos):\n",
        "    if y >= 1e6:\n",
        "        return '{:.0f}M'.format(y * 1e-6)\n",
        "    else:\n",
        "        return '{:.0f}'.format(y)\n",
        "formatter = ticker.FuncFormatter(format_million_h)\n",
        "plt.gca().xaxis.set_major_formatter(formatter)\n",
        "\n",
        "# Display the plot\n",
        "plt.tight_layout()\n",
        "plt.show()"
      ],
      "metadata": {
        "colab": {
          "base_uri": "https://localhost:8080/",
          "height": 407
        },
        "id": "BMDcm-Wk9_T0",
        "outputId": "b44e0f72-1add-4b34-f8a0-ae77c44939bb"
      },
      "execution_count": 43,
      "outputs": [
        {
          "output_type": "display_data",
          "data": {
            "text/plain": [
              "<Figure size 800x400 with 1 Axes>"
            ],
            "image/png": "[encoded data removed]"
          },
          "metadata": {}
        }
      ]
    },
    {
      "cell_type": "markdown",
      "source": [
        "From the data, here are some insights:\n",
        "\n",
        "1. **Search Dominates Revenue Generation**: The \"Search\" traffic source contributes the most revenue, with 25.85 million, significantly higher than the other channels. This suggests that search engine marketing (e.g., Google Ads or SEO) is a key driver of sales for theLook Ecommerce.\n",
        "   \n",
        "2. **Organic and Paid Channels**: After \"Search\", \"Organic\" traffic generates 5.59 million in revenue, indicating a strong presence from organic, non-paid sources such as search engine results or direct visits. It's notable that this source brings in more revenue than paid channels like Facebook or Email, underscoring the importance of maintaining strong SEO and brand loyalty.\n",
        "\n",
        "3. **Social Media Channels**: \"Facebook\" contributes 2.17 million, which is substantial, but lower than organic and search. This shows that while social media is valuable for revenue, it is not as powerful as search-driven methods for this business.\n",
        "\n",
        "4. **Email and Display Ads Have Lower Impact**: \"Email\" marketing brings in 1.88 million, while \"Display\" ads (likely banner ads or remarketing campaigns) bring in the lowest, at 1.43 million. These channels may need to be optimized or scaled for better returns or potentially integrated into multi-channel strategies to enhance their impact.\n",
        "\n",
        "The data suggests that **Search** and **Organic** traffic should remain the focus, while there is potential to experiment with improving performance in lower-performing channels like **Email** and **Display**."
      ],
      "metadata": {
        "id": "erUV_MmtAWSL"
      }
    },
    {
      "cell_type": "markdown",
      "source": [
        "### 3. What are the top 5 product categories based on total orders in theLook eCommerce?"
      ],
      "metadata": {
        "id": "V9VIKSXHAlvh"
      }
    },
    {
      "cell_type": "code",
      "source": [
        "top_5_product_categories = df_cleaned.groupby('product_category')['order_id'].nunique().sort_values(ascending=False).head(5)\n",
        "top_5_product_categories"
      ],
      "metadata": {
        "colab": {
          "base_uri": "https://localhost:8080/",
          "height": 272
        },
        "id": "NjelsGJ2AzlA",
        "outputId": "a9ad0c41-0359-4338-b34f-771632d96657"
      },
      "execution_count": 29,
      "outputs": [
        {
          "output_type": "execute_result",
          "data": {
            "text/plain": [
              "product_category\n",
              "Jeans                            22952\n",
              "Fashion Hoodies & Sweatshirts    21983\n",
              "Intimates                        21918\n",
              "Tops & Tees                      21815\n",
              "Swim                             20771\n",
              "Name: order_id, dtype: int64"
            ],
            "text/html": [
              "<div>\n",
              "<style scoped>\n",
              "    .dataframe tbody tr th:only-of-type {\n",
              "        vertical-align: middle;\n",
              "    }\n",
              "\n",
              "    .dataframe tbody tr th {\n",
              "        vertical-align: top;\n",
              "    }\n",
              "\n",
              "    .dataframe thead th {\n",
              "        text-align: right;\n",
              "    }\n",
              "</style>\n",
              "<table border=\"1\" class=\"dataframe\">\n",
              "  <thead>\n",
              "    <tr style=\"text-align: right;\">\n",
              "      <th></th>\n",
              "      <th>order_id</th>\n",
              "    </tr>\n",
              "    <tr>\n",
              "      <th>product_category</th>\n",
              "      <th></th>\n",
              "    </tr>\n",
              "  </thead>\n",
              "  <tbody>\n",
              "    <tr>\n",
              "      <th>Jeans</th>\n",
              "      <td>22952</td>\n",
              "    </tr>\n",
              "    <tr>\n",
              "      <th>Fashion Hoodies &amp; Sweatshirts</th>\n",
              "      <td>21983</td>\n",
              "    </tr>\n",
              "    <tr>\n",
              "      <th>Intimates</th>\n",
              "      <td>21918</td>\n",
              "    </tr>\n",
              "    <tr>\n",
              "      <th>Tops &amp; Tees</th>\n",
              "      <td>21815</td>\n",
              "    </tr>\n",
              "    <tr>\n",
              "      <th>Swim</th>\n",
              "      <td>20771</td>\n",
              "    </tr>\n",
              "  </tbody>\n",
              "</table>\n",
              "</div><br><label><b>dtype:</b> int64</label>"
            ]
          },
          "metadata": {},
          "execution_count": 29
        }
      ]
    },
    {
      "cell_type": "code",
      "source": [
        "# Plotting the bar chart\n",
        "plt.figure(figsize=(8, 4))\n",
        "top_5_product_categories.plot(kind='barh', color=colors[:len(top_5_product_categories)])  # Adjust colors to the length of the data\n",
        "\n",
        "# Adding labels and title\n",
        "plt.title('Top 5 of Product Category', fontsize=16)\n",
        "plt.xlabel('Total Order', fontsize=12)\n",
        "plt.ylabel('Product Category', fontsize=12)\n",
        "\n",
        "# Display the plot\n",
        "plt.tight_layout()\n",
        "plt.show()"
      ],
      "metadata": {
        "colab": {
          "base_uri": "https://localhost:8080/",
          "height": 407
        },
        "id": "5I1eTCPIveFT",
        "outputId": "109a31cd-54f9-4eb8-9561-17095e3693c1"
      },
      "execution_count": 38,
      "outputs": [
        {
          "output_type": "display_data",
          "data": {
            "text/plain": [
              "<Figure size 800x400 with 1 Axes>"
            ],
            "image/png": "[encoded data removed]"
          },
          "metadata": {}
        }
      ]
    },
    {
      "cell_type": "markdown",
      "source": [
        "Here are insights from the data:\n",
        "\n",
        "1. **Jeans as the Top-Selling Category**: With 22,952 orders, \"Jeans\" is the most popular product category for theLook eCommerce. This suggests that jeans have a strong appeal to the customer base, possibly due to consistent demand across demographics and seasons.\n",
        "\n",
        "2. **Fashion Hoodies & Sweatshirts**: The second-highest category with 21,983 orders shows that casual, comfortable wear like hoodies and sweatshirts are also highly sought after. This trend could reflect a shift toward casual fashion or seasonal preferences.\n",
        "\n",
        "3. **Intimates and Tops & Tees are Close in Popularity**: Both \"Intimates\" (21,918 orders) and \"Tops & Tees\" (21,815 orders) are nearly tied in the number of orders, indicating that these items are staple purchases for customers.\n",
        "\n",
        "4. **Swimwear in Top 5**: With 20,771 orders, \"Swim\" is also a significant category, possibly driven by seasonal trends or regions with year-round warm climates.\n",
        "\n",
        "This data suggests that **casual wear** (e.g., jeans, hoodies, and tees) dominates customer preferences, with steady demand for **intimates** and **swimwear** rounding out the top 5."
      ],
      "metadata": {
        "id": "ygT6dHlLwkhU"
      }
    },
    {
      "cell_type": "markdown",
      "source": [
        "### 4. What are the top 5 product name based on total orders in theLook eCommerce?"
      ],
      "metadata": {
        "id": "QO1aRatUwyL4"
      }
    },
    {
      "cell_type": "code",
      "source": [
        "top_5_product_name = df_cleaned.groupby('product_name')['order_id'].nunique().sort_values(ascending=False).head(5)\n",
        "top_5_product_name"
      ],
      "metadata": {
        "colab": {
          "base_uri": "https://localhost:8080/",
          "height": 272
        },
        "id": "LUjjlj_wwxUQ",
        "outputId": "96434bd7-80e9-44c1-bf37-5e4e873153ab"
      },
      "execution_count": 31,
      "outputs": [
        {
          "output_type": "execute_result",
          "data": {
            "text/plain": [
              "product_name\n",
              "Wrangler Men's Premium Performance Cowboy Cut Jean            147\n",
              "7 For All Mankind Men's Standard Classic Straight Leg Jean    105\n",
              "Wrangler Men's Original Cowboy Cut Relaxed Fit Jean            80\n",
              "True Religion Men's Ricky Straight Jean                        78\n",
              "Lucky Brand Mens Men's 361 Vintage Straight Denim Jean         78\n",
              "Name: order_id, dtype: int64"
            ],
            "text/html": [
              "<div>\n",
              "<style scoped>\n",
              "    .dataframe tbody tr th:only-of-type {\n",
              "        vertical-align: middle;\n",
              "    }\n",
              "\n",
              "    .dataframe tbody tr th {\n",
              "        vertical-align: top;\n",
              "    }\n",
              "\n",
              "    .dataframe thead th {\n",
              "        text-align: right;\n",
              "    }\n",
              "</style>\n",
              "<table border=\"1\" class=\"dataframe\">\n",
              "  <thead>\n",
              "    <tr style=\"text-align: right;\">\n",
              "      <th></th>\n",
              "      <th>order_id</th>\n",
              "    </tr>\n",
              "    <tr>\n",
              "      <th>product_name</th>\n",
              "      <th></th>\n",
              "    </tr>\n",
              "  </thead>\n",
              "  <tbody>\n",
              "    <tr>\n",
              "      <th>Wrangler Men's Premium Performance Cowboy Cut Jean</th>\n",
              "      <td>147</td>\n",
              "    </tr>\n",
              "    <tr>\n",
              "      <th>7 For All Mankind Men's Standard Classic Straight Leg Jean</th>\n",
              "      <td>105</td>\n",
              "    </tr>\n",
              "    <tr>\n",
              "      <th>Wrangler Men's Original Cowboy Cut Relaxed Fit Jean</th>\n",
              "      <td>80</td>\n",
              "    </tr>\n",
              "    <tr>\n",
              "      <th>True Religion Men's Ricky Straight Jean</th>\n",
              "      <td>78</td>\n",
              "    </tr>\n",
              "    <tr>\n",
              "      <th>Lucky Brand Mens Men's 361 Vintage Straight Denim Jean</th>\n",
              "      <td>78</td>\n",
              "    </tr>\n",
              "  </tbody>\n",
              "</table>\n",
              "</div><br><label><b>dtype:</b> int64</label>"
            ]
          },
          "metadata": {},
          "execution_count": 31
        }
      ]
    },
    {
      "cell_type": "code",
      "source": [
        "# Plotting the bar chart\n",
        "plt.figure(figsize=(8, 4))\n",
        "top_5_product_name.plot(kind='barh', color=colors[:len(top_5_product_name)])  # Adjust colors to the length of the data\n",
        "\n",
        "# Adding labels and title\n",
        "plt.title('Top 5 of Product Name', fontsize=16)\n",
        "plt.xlabel('Total Order', fontsize=12)\n",
        "plt.ylabel('Product Name', fontsize=12)\n",
        "\n",
        "# Display the plot\n",
        "plt.tight_layout()\n",
        "plt.show()"
      ],
      "metadata": {
        "colab": {
          "base_uri": "https://localhost:8080/",
          "height": 407
        },
        "id": "njmQs4G9xKX3",
        "outputId": "a5576bf8-8a5e-4761-dd4c-d959095c1600"
      },
      "execution_count": 39,
      "outputs": [
        {
          "output_type": "display_data",
          "data": {
            "text/plain": [
              "<Figure size 800x400 with 1 Axes>"
            ],
            "image/png": "[encoded data removed]"
          },
          "metadata": {}
        }
      ]
    },
    {
      "cell_type": "markdown",
      "source": [
        "Here are insights from the product names and order data:\n",
        "\n",
        "1. **Dominance of Wrangler**: The top two Wrangler products—*Wrangler Men's Premium Performance Cowboy Cut Jean* (147 orders) and *Wrangler Men's Original Cowboy Cut Relaxed Fit Jean* (80 orders)—are among the most ordered items. This shows a strong customer preference for Wrangler's brand and style, particularly their cowboy cut jeans, which suggests a significant customer segment favoring durable, rugged jeans.\n",
        "\n",
        "2. **Popularity of High-End Denim**: *7 For All Mankind Men's Standard Classic Straight Leg Jean* (105 orders) and *True Religion Men's Ricky Straight Jean* (78 orders) show that premium denim brands are also highly favored by customers. These brands cater to a more fashion-conscious market, indicating a willingness among customers to invest in higher-priced jeans.\n",
        "\n",
        "3. **Classic Denim Appeal**: All top 5 products are variations of straight or relaxed fit jeans, emphasizing that customers prefer classic, comfortable styles over more trendy or slim-fit jeans.\n",
        "\n",
        "4. **Consistent Demand Across Brands**: The relatively even distribution of orders among these brands, with most items having between 78 and 147 orders, suggests that theLook eCommerce has a balanced appeal across multiple denim brands.\n",
        "\n",
        "This indicates that **denim is a key product** category for the platform, with both affordable and premium brands in demand, especially among customers who prioritize quality and style."
      ],
      "metadata": {
        "id": "Lug0_rU6x5up"
      }
    },
    {
      "cell_type": "markdown",
      "source": [
        "### 5. What are the top 5 product brand based on total orders in theLook eCommerce?"
      ],
      "metadata": {
        "id": "NDCjGBQ3yK_9"
      }
    },
    {
      "cell_type": "code",
      "source": [
        "top_5_product_brand = df_cleaned.groupby('product_brand')['order_id'].nunique().sort_values(ascending=False).head(5)\n",
        "top_5_product_brand"
      ],
      "metadata": {
        "colab": {
          "base_uri": "https://localhost:8080/",
          "height": 272
        },
        "id": "-FdI6DAryZEX",
        "outputId": "74f67c26-7e10-4ff5-d6ea-891ca16daf0f"
      },
      "execution_count": 33,
      "outputs": [
        {
          "output_type": "execute_result",
          "data": {
            "text/plain": [
              "product_brand\n",
              "Allegra K       11796\n",
              "Calvin Klein     6319\n",
              "Carhartt         5135\n",
              "Hanes            3945\n",
              "Volcom           3791\n",
              "Name: order_id, dtype: int64"
            ],
            "text/html": [
              "<div>\n",
              "<style scoped>\n",
              "    .dataframe tbody tr th:only-of-type {\n",
              "        vertical-align: middle;\n",
              "    }\n",
              "\n",
              "    .dataframe tbody tr th {\n",
              "        vertical-align: top;\n",
              "    }\n",
              "\n",
              "    .dataframe thead th {\n",
              "        text-align: right;\n",
              "    }\n",
              "</style>\n",
              "<table border=\"1\" class=\"dataframe\">\n",
              "  <thead>\n",
              "    <tr style=\"text-align: right;\">\n",
              "      <th></th>\n",
              "      <th>order_id</th>\n",
              "    </tr>\n",
              "    <tr>\n",
              "      <th>product_brand</th>\n",
              "      <th></th>\n",
              "    </tr>\n",
              "  </thead>\n",
              "  <tbody>\n",
              "    <tr>\n",
              "      <th>Allegra K</th>\n",
              "      <td>11796</td>\n",
              "    </tr>\n",
              "    <tr>\n",
              "      <th>Calvin Klein</th>\n",
              "      <td>6319</td>\n",
              "    </tr>\n",
              "    <tr>\n",
              "      <th>Carhartt</th>\n",
              "      <td>5135</td>\n",
              "    </tr>\n",
              "    <tr>\n",
              "      <th>Hanes</th>\n",
              "      <td>3945</td>\n",
              "    </tr>\n",
              "    <tr>\n",
              "      <th>Volcom</th>\n",
              "      <td>3791</td>\n",
              "    </tr>\n",
              "  </tbody>\n",
              "</table>\n",
              "</div><br><label><b>dtype:</b> int64</label>"
            ]
          },
          "metadata": {},
          "execution_count": 33
        }
      ]
    },
    {
      "cell_type": "code",
      "source": [
        "# Plotting the bar chart\n",
        "plt.figure(figsize=(8, 4))\n",
        "top_5_product_brand.plot(kind='barh', color=colors[:len(top_5_product_brand)])  # Adjust colors to the length of the data\n",
        "\n",
        "# Adding labels and title\n",
        "plt.title('Top 5 of Product brand', fontsize=16)\n",
        "plt.xlabel('Total Order', fontsize=12)\n",
        "plt.ylabel('Product Brand', fontsize=12)\n",
        "\n",
        "# Display the plot\n",
        "plt.tight_layout()\n",
        "plt.show()"
      ],
      "metadata": {
        "colab": {
          "base_uri": "https://localhost:8080/",
          "height": 407
        },
        "id": "4XLaMMA-yi09",
        "outputId": "a14356c7-5fbd-4524-8245-2f3df632a4de"
      },
      "execution_count": 40,
      "outputs": [
        {
          "output_type": "display_data",
          "data": {
            "text/plain": [
              "<Figure size 800x400 with 1 Axes>"
            ],
            "image/png": "[encoded data removed]"
          },
          "metadata": {}
        }
      ]
    },
    {
      "cell_type": "markdown",
      "source": [
        "Here are insights based on the product brand and order data:\n",
        "\n",
        "1. **Allegra K Dominates**: *Allegra K* is the leading brand with 11,796 orders, far surpassing other brands. This suggests that Allegra K's product line is highly popular among customers, potentially due to its wide range of offerings, affordable pricing, or appeal to a broad demographic. It may reflect the brand's effectiveness in meeting customer needs or trends.\n",
        "\n",
        "2. **Strong Presence of Premium Brands**: *Calvin Klein* ranks second with 6,319 orders, indicating that customers are drawn to premium, well-established fashion brands. Calvin Klein's reputation for quality, particularly in categories like underwear and apparel, makes it a consistent choice for customers.\n",
        "\n",
        "3. **Durability and Practicality Appeal**: *Carhartt* comes in third with 5,135 orders, known for its rugged, durable clothing. This suggests that a significant portion of customers are looking for practical, long-lasting workwear or outdoor gear, indicating the platform's appeal to both fashion and utility-oriented shoppers.\n",
        "\n",
        "4. **Basic Essentials Popularity**: *Hanes*, with 3,945 orders, reflects the high demand for everyday essentials like undergarments and casual wear. This suggests that basic, affordable products are a key component of the platform's sales mix.\n",
        "\n",
        "5. **Volcom's Niche Appeal**: *Volcom*, with 3,791 orders, appeals to customers looking for lifestyle and action-sports-oriented fashion. While not as high as other brands, its presence indicates niche market popularity within the platform.\n",
        "\n",
        "Overall, **Allegra K leads by a large margin**, but premium and practical brands like Calvin Klein, Carhartt, Hanes, and Volcom also play significant roles, demonstrating a diverse range of customer preferences."
      ],
      "metadata": {
        "id": "HGaC7-2Zy9RY"
      }
    },
    {
      "cell_type": "markdown",
      "source": [
        "### 6. What are the top 5 countries based on total revenue for theLook eCommerce?"
      ],
      "metadata": {
        "id": "rwTC60UFzMy5"
      }
    },
    {
      "cell_type": "code",
      "source": [
        "top_5_country = df_cleaned_revenue.groupby('country')['revenue'].sum().round(2).sort_values(ascending=False).head(5)\n",
        "top_5_country"
      ],
      "metadata": {
        "colab": {
          "base_uri": "https://localhost:8080/",
          "height": 272
        },
        "id": "e4wEXMxZzUCE",
        "outputId": "bfe85fac-c000-483f-ed47-fb209f2e2a30"
      },
      "execution_count": 35,
      "outputs": [
        {
          "output_type": "execute_result",
          "data": {
            "text/plain": [
              "country\n",
              "China            12742993.29\n",
              "United States     8160354.20\n",
              "Brasil            5364895.27\n",
              "South Korea       1961635.67\n",
              "France            1820167.43\n",
              "Name: revenue, dtype: float64"
            ],
            "text/html": [
              "<div>\n",
              "<style scoped>\n",
              "    .dataframe tbody tr th:only-of-type {\n",
              "        vertical-align: middle;\n",
              "    }\n",
              "\n",
              "    .dataframe tbody tr th {\n",
              "        vertical-align: top;\n",
              "    }\n",
              "\n",
              "    .dataframe thead th {\n",
              "        text-align: right;\n",
              "    }\n",
              "</style>\n",
              "<table border=\"1\" class=\"dataframe\">\n",
              "  <thead>\n",
              "    <tr style=\"text-align: right;\">\n",
              "      <th></th>\n",
              "      <th>revenue</th>\n",
              "    </tr>\n",
              "    <tr>\n",
              "      <th>country</th>\n",
              "      <th></th>\n",
              "    </tr>\n",
              "  </thead>\n",
              "  <tbody>\n",
              "    <tr>\n",
              "      <th>China</th>\n",
              "      <td>12742993.29</td>\n",
              "    </tr>\n",
              "    <tr>\n",
              "      <th>United States</th>\n",
              "      <td>8160354.20</td>\n",
              "    </tr>\n",
              "    <tr>\n",
              "      <th>Brasil</th>\n",
              "      <td>5364895.27</td>\n",
              "    </tr>\n",
              "    <tr>\n",
              "      <th>South Korea</th>\n",
              "      <td>1961635.67</td>\n",
              "    </tr>\n",
              "    <tr>\n",
              "      <th>France</th>\n",
              "      <td>1820167.43</td>\n",
              "    </tr>\n",
              "  </tbody>\n",
              "</table>\n",
              "</div><br><label><b>dtype:</b> float64</label>"
            ]
          },
          "metadata": {},
          "execution_count": 35
        }
      ]
    },
    {
      "cell_type": "code",
      "source": [
        "# Plotting the bar chart\n",
        "plt.figure(figsize=(8, 4))\n",
        "top_5_country.plot(kind='barh', color=colors[:len(top_5_country)])  # Adjust colors to the length of the data\n",
        "\n",
        "# Adding labels and title\n",
        "plt.title('Top 5 Country', fontsize=16)\n",
        "plt.xlabel('Revenue (in USD)', fontsize=12)\n",
        "plt.ylabel('Country', fontsize=12)\n",
        "\n",
        "# Change format y-axis in %%M (%% million)\n",
        "formatter = ticker.FuncFormatter(format_million_h)\n",
        "plt.gca().xaxis.set_major_formatter(formatter)\n",
        "\n",
        "# Display the plot\n",
        "plt.tight_layout()\n",
        "plt.show()"
      ],
      "metadata": {
        "colab": {
          "base_uri": "https://localhost:8080/",
          "height": 407
        },
        "id": "HKCqwJIp0_Dn",
        "outputId": "0d0dfaf2-81ce-4766-be50-5dc3d41f2d9c"
      },
      "execution_count": 41,
      "outputs": [
        {
          "output_type": "display_data",
          "data": {
            "text/plain": [
              "<Figure size 800x400 with 1 Axes>"
            ],
            "image/png": "[encoded data removed]"
          },
          "metadata": {}
        }
      ]
    },
    {
      "cell_type": "markdown",
      "source": [
        "From the data:\n",
        "\n",
        "1. **China** is the top revenue-generating country for theLook eCommerce, contributing significantly with a revenue of approximately **12.74 million**.\n",
        "2. The **United States** follows with a notable revenue of **8.16 million**, making it the second-largest market.\n",
        "3. **Brasil** ranks third, generating around **5.36 million**, showing strong performance in the South American region.\n",
        "4. **South Korea** and **France** contribute smaller, yet substantial revenues of **1.96 million** and **1.82 million** respectively.\n",
        "\n",
        "The data highlights that **China** and the **United States** are the company's strongest markets, while there is notable traction in emerging markets like **Brasil**."
      ],
      "metadata": {
        "id": "3ZqNP1ON178y"
      }
    }
  ]
}